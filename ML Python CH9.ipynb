{
 "cells": [
  {
   "cell_type": "code",
   "execution_count": 14,
   "id": "8bc42811",
   "metadata": {},
   "outputs": [],
   "source": [
    "from mlwpy import *\n",
    "%matplotlib inline\n",
    "\n",
    "diabetes = datasets.load_diabetes()\n",
    "\n",
    "d_tts = skms.train_test_split(diabetes.data,\n",
    "                              diabetes.target,\n",
    "                              test_size=25,\n",
    "                              random_state=42)\n",
    "\n",
    "(diabetes_train_ftrs, diabetes_test_ftrs,\n",
    " diabetes_train_tgt, diabetes_test_tgt) = d_tts"
   ]
  },
  {
   "cell_type": "markdown",
   "id": "c2c8c662",
   "metadata": {},
   "source": [
    "# More Regression Methods"
   ]
  },
  {
   "cell_type": "markdown",
   "id": "b9b78e65",
   "metadata": {},
   "source": [
    "### Regularization"
   ]
  },
  {
   "cell_type": "code",
   "execution_count": 4,
   "id": "3684a56b",
   "metadata": {},
   "outputs": [
    {
     "name": "stdout",
     "output_type": "stream",
     "text": [
      "6.3 17.15\n"
     ]
    }
   ],
   "source": [
    "weights = np.array([3.5, -2.1, .7])\n",
    "\n",
    "print(np.sum(np.abs(weights)),\n",
    "      np.sum(weights**2))"
   ]
  },
  {
   "cell_type": "code",
   "execution_count": 5,
   "id": "1d8bec53",
   "metadata": {},
   "outputs": [
    {
     "name": "stdout",
     "output_type": "stream",
     "text": [
      "[0.   1.   1.   0.25 0.25 0.   1.   1.   0.25 0.25]\n",
      "5.0\n"
     ]
    }
   ],
   "source": [
    "x_1 = np.arange(10)\n",
    "m, b = 3, 2\n",
    "w = np.array([m,b])\n",
    "\n",
    "x = np.c_[x_1, np.repeat(1.0, 10)] #+1\n",
    "\n",
    "errors = np.tile(np.array([0.0, 1.0, 1.0, .5, .5]), 2)\n",
    "\n",
    "print(errors * errors)\n",
    "print(np.dot(errors, errors))\n",
    "\n",
    "y_true = rdot(w,x)\n",
    "y_msr = y_true + errors\n",
    "\n",
    "D = (x, y_msr)\n"
   ]
  },
  {
   "cell_type": "code",
   "execution_count": 6,
   "id": "074f9a66",
   "metadata": {},
   "outputs": [
    {
     "data": {
      "image/png": "[encoded data removed]",
      "text/plain": [
       "<Figure size 288x216 with 1 Axes>"
      ]
     },
     "metadata": {
      "needs_background": "light"
     },
     "output_type": "display_data"
    }
   ],
   "source": [
    "fig, ax = plt.subplots(1, 1, figsize=(4,3))\n",
    "ax.plot(x_1, y_true, 'r', label='true')\n",
    "ax.plot(x_1, y_msr, 'b', label='noisy')\n",
    "ax.legend();"
   ]
  },
  {
   "cell_type": "code",
   "execution_count": 7,
   "id": "380f5c84",
   "metadata": {},
   "outputs": [],
   "source": [
    "def sq_diff(a,b):\n",
    "    return (a-b) **2"
   ]
  },
  {
   "cell_type": "code",
   "execution_count": 8,
   "id": "1f70bd84",
   "metadata": {},
   "outputs": [
    {
     "data": {
      "text/plain": [
       "5.0"
      ]
     },
     "execution_count": 8,
     "metadata": {},
     "output_type": "execute_result"
    }
   ],
   "source": [
    "predictions = rdot(w,x)\n",
    "np.sum(sq_diff(predictions, y_msr))"
   ]
  },
  {
   "cell_type": "code",
   "execution_count": 11,
   "id": "d5838e8a",
   "metadata": {},
   "outputs": [
    {
     "name": "stdout",
     "output_type": "stream",
     "text": [
      "Sum(abs) complexity: 11.3\n",
      "Sum(sqr) complexity: 22.15\n"
     ]
    }
   ],
   "source": [
    "#predictions = rdot(w, x)\n",
    "predictions = np.dot(x, w)\n",
    "\n",
    "loss = np.sum(sq_diff(predictions, y_msr))\n",
    "\n",
    "complexity_1 = np.sum(np.abs(weights))\n",
    "complexity_2 = np.sum(weights**2)\n",
    "\n",
    "cost_1 = loss + complexity_1\n",
    "cost_2 = loss + complexity_2\n",
    "\n",
    "print(\"Sum(abs) complexity:\", cost_1)\n",
    "print(\"Sum(sqr) complexity:\", cost_2)"
   ]
  },
  {
   "cell_type": "code",
   "execution_count": 12,
   "id": "33a47040",
   "metadata": {},
   "outputs": [
    {
     "data": {
      "text/plain": [
       "8.15"
      ]
     },
     "execution_count": 12,
     "metadata": {},
     "output_type": "execute_result"
    }
   ],
   "source": [
    "predictions = np.dot(x, w)\n",
    "\n",
    "errors = np.sum(sq_diff(predictions, y_msr))\n",
    "complexity_1 = np.sum(np.abs(weights))\n",
    "\n",
    "C = .5\n",
    "cost = errors + C * complexity_1\n",
    "cost"
   ]
  },
  {
   "cell_type": "code",
   "execution_count": 15,
   "id": "3d2939b4",
   "metadata": {},
   "outputs": [
    {
     "name": "stdout",
     "output_type": "stream",
     "text": [
      "Lasso \n",
      " Train MSE: 3820.0134219175256 \n",
      " Test MSE: 4495.87363617216\n",
      "Ridge \n",
      " Train MSE: 3261.2496650944668 \n",
      " Test MSE: 3787.6138492887926\n"
     ]
    }
   ],
   "source": [
    "models = [linear_model.Lasso(),\n",
    "          linear_model.Ridge()]\n",
    "\n",
    "for model in models:\n",
    "    model.fit(diabetes_train_ftrs, diabetes_train_tgt)\n",
    "    train_preds = model.predict(diabetes_train_ftrs)\n",
    "    test_preds = model.predict(diabetes_test_ftrs)\n",
    "    print(get_model_name(model),\n",
    "          \"\\n Train MSE:\",metrics.mean_squared_error(diabetes_train_tgt,\n",
    "                                                    train_preds),\n",
    "          \"\\n Test MSE:\", metrics.mean_squared_error(diabetes_test_tgt,\n",
    "                                                     test_preds))"
   ]
  },
  {
   "cell_type": "markdown",
   "id": "8e0a3d45",
   "metadata": {},
   "source": [
    "## 9.2 Support Vector Regression"
   ]
  },
  {
   "cell_type": "code",
   "execution_count": 16,
   "id": "32ac7b68",
   "metadata": {},
   "outputs": [
    {
     "data": {
      "image/png": "[encoded data removed]",
      "text/plain": [
       "<Figure size 288x216 with 1 Axes>"
      ]
     },
     "metadata": {
      "needs_background": "light"
     },
     "output_type": "display_data"
    }
   ],
   "source": [
    "#!! cost = loss + complexity\n",
    "#hinge loss - want to measure what happens when we are wrong and ignore small errors\n",
    "\n",
    "#here we don't ignore small errors\n",
    "error = np.linspace(-4, 4, 100)\n",
    "loss = np.abs(error)\n",
    "\n",
    "fig, ax = plt.subplots(1,1,figsize=(4,3))\n",
    "ax.plot(error,loss)\n",
    "\n",
    "ax.set_xlabel(\"Raw Error\")\n",
    "ax.set_ylabel(\"Abs Loss\");"
   ]
  },
  {
   "cell_type": "code",
   "execution_count": 17,
   "id": "0c39f75f",
   "metadata": {},
   "outputs": [
    {
     "name": "stdout",
     "output_type": "stream",
     "text": [
      "0.0\n"
     ]
    }
   ],
   "source": [
    "an_error = .75\n",
    "abs_error = abs(an_error)\n",
    "\n",
    "if abs_error < 1.0:\n",
    "    the_loss = 0.0\n",
    "    \n",
    "else:\n",
    "    the_loss = abs_error\n",
    "print(the_loss)"
   ]
  },
  {
   "cell_type": "code",
   "execution_count": 18,
   "id": "8e209be3",
   "metadata": {},
   "outputs": [
    {
     "name": "stdout",
     "output_type": "stream",
     "text": [
      "0.0\n"
     ]
    }
   ],
   "source": [
    "an_error = 0.75\n",
    "adj_error = abs(an_error) - 1.0\n",
    "\n",
    "if adj_error < 0.0:\n",
    "    the_loss = 0.0\n",
    "else:\n",
    "    the_loss = adj_error\n",
    "    \n",
    "print(the_loss)"
   ]
  },
  {
   "cell_type": "code",
   "execution_count": 23,
   "id": "f3612374",
   "metadata": {},
   "outputs": [
    {
     "data": {
      "image/png": "[encoded data removed]",
      "text/plain": [
       "<Figure size 288x216 with 1 Axes>"
      ]
     },
     "metadata": {
      "needs_background": "light"
     },
     "output_type": "display_data"
    }
   ],
   "source": [
    "error = np.linspace(-4, 4, 100)\n",
    "\n",
    "#here we ignore errors up to 1.0 by taking bigger value\n",
    "loss = np.maximum(np.abs(error) - 1.0,\n",
    "                  np.zeros_like(error))\n",
    "\n",
    "fig, ax = plt.subplots(1,1,figsize=(4,3))\n",
    "ax.plot(error, loss)\n",
    "\n",
    "ax.set_xlabel(\"Raw Error\")\n",
    "ax.set_ylabel(\"Hinge Loss\");"
   ]
  },
  {
   "cell_type": "code",
   "execution_count": 24,
   "id": "8d7b5eba",
   "metadata": {},
   "outputs": [
    {
     "data": {
      "image/png": "[encoded data removed]",
      "text/plain": [
       "<Figure size 288x216 with 1 Axes>"
      ]
     },
     "metadata": {
      "needs_background": "light"
     },
     "output_type": "display_data"
    }
   ],
   "source": [
    "threshold = 2.5\n",
    "\n",
    "xs = np.linspace(-5,5,100)\n",
    "ys_true = 3 * xs + 2\n",
    "\n",
    "fig, ax = plt.subplots(1,1,figsize=(4,3))\n",
    "ax.plot(xs, ys_true)\n",
    "ax.fill_between(xs, ys_true-threshold, ys_true+threshold,\n",
    "                color=(1.0,0,0,.25))\n",
    "\n",
    "ax.set_xlabel(\"Input Feature\")\n",
    "ax.set_ylabel(\"Output Target\");"
   ]
  },
  {
   "cell_type": "code",
   "execution_count": 26,
   "id": "5d4aa4c1",
   "metadata": {},
   "outputs": [
    {
     "data": {
      "image/png": "[encoded data removed]",
      "text/plain": [
       "<Figure size 288x216 with 1 Axes>"
      ]
     },
     "metadata": {
      "needs_background": "light"
     },
     "output_type": "display_data"
    }
   ],
   "source": [
    "threshold = 2.5\n",
    "\n",
    "xs = np.linspace(-5,5,100)\n",
    "ys = 3 * xs + 2 + np.random.normal(0,1.5,100)\n",
    "\n",
    "fig,ax = plt.subplots(1,1,figsize=(4,3))\n",
    "ax.plot(xs, ys, 'o', color=(0,0,1.0,.5))\n",
    "ax.fill_between(xs, ys_true - threshold, ys_true + threshold,\n",
    "                color=(1.0,0,0,.25));"
   ]
  },
  {
   "cell_type": "code",
   "execution_count": 27,
   "id": "3a4b48cb",
   "metadata": {},
   "outputs": [],
   "source": [
    "#hyperparameters\n",
    "C, epsilon = 1.0, .25\n",
    "\n",
    "#epsilon is the threshold of errors we tolerate\n",
    "\n",
    "#parameters\n",
    "weights = np.array([1.3])"
   ]
  },
  {
   "cell_type": "code",
   "execution_count": 28,
   "id": "97055bf2",
   "metadata": {},
   "outputs": [],
   "source": [
    "#predictions, error, loss\n",
    "predictions = np.dot(xs.reshape(-1,1), weights)\n",
    "errors = ys - predictions\n",
    "\n",
    "loss_sse = np.sum(errors ** 2)\n",
    "loss_sae = np.sum(np.abs(errors))\n",
    "loss_hinge = np.sum(np.max(np.abs(errors) - epsilon, 0))\n"
   ]
  },
  {
   "cell_type": "code",
   "execution_count": 29,
   "id": "882aae25",
   "metadata": {},
   "outputs": [],
   "source": [
    "#complexity penalty for regularization\n",
    "complexity_saw = np.sum(np.abs(weights))\n",
    "complexity_ssw = np.sum(weights ** 2)"
   ]
  },
  {
   "cell_type": "code",
   "execution_count": 31,
   "id": "1595caca",
   "metadata": {},
   "outputs": [],
   "source": [
    "#cost\n",
    "cost_gof_regression = loss_sse + 0.0\n",
    "cost_L1pen_regression = loss_sse + C * complexity_saw\n",
    "cost_L2pen_regression = loss_sse + C * complexity_ssw\n",
    "cost_sv_regression = loss_hinge + C * complexity_ssw"
   ]
  },
  {
   "cell_type": "code",
   "execution_count": 32,
   "id": "5947df8b",
   "metadata": {},
   "outputs": [
    {
     "name": "stdout",
     "output_type": "stream",
     "text": [
      "3066.14774599898\n",
      "3067.4477459989803\n",
      "3067.83774599898\n",
      "13.06617882838413\n"
     ]
    }
   ],
   "source": [
    "print(cost_gof_regression)\n",
    "print(cost_L1pen_regression)\n",
    "print(cost_L2pen_regression)\n",
    "print(cost_sv_regression)"
   ]
  },
  {
   "cell_type": "code",
   "execution_count": 36,
   "id": "3d91c863",
   "metadata": {},
   "outputs": [
    {
     "name": "stdout",
     "output_type": "stream",
     "text": [
      "6459.265428440977\n",
      "6064.360099407078\n"
     ]
    }
   ],
   "source": [
    "svrs = [svm.SVR(),       #default epsilon=0.1\n",
    "        svm.NuSVR()]     #default nu=0.5\n",
    "\n",
    "for model in svrs:\n",
    "    preds = (model.fit(diabetes_train_ftrs, diabetes_train_tgt)\n",
    "                  .predict(diabetes_test_ftrs))\n",
    "    print(metrics.mean_squared_error(diabetes_test_tgt, preds))"
   ]
  },
  {
   "cell_type": "code",
   "execution_count": null,
   "id": "7a306d32",
   "metadata": {},
   "outputs": [],
   "source": []
  }
 ],
 "metadata": {
  "kernelspec": {
   "display_name": "Python 3 (ipykernel)",
   "language": "python",
   "name": "python3"
  },
  "language_info": {
   "codemirror_mode": {
    "name": "ipython",
    "version": 3
   },
   "file_extension": ".py",
   "mimetype": "text/x-python",
   "name": "python",
   "nbconvert_exporter": "python",
   "pygments_lexer": "ipython3",
   "version": "3.9.7"
  }
 },
 "nbformat": 4,
 "nbformat_minor": 5
}
