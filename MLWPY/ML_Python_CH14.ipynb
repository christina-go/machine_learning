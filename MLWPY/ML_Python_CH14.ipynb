{
 "cells": [
  {
   "cell_type": "code",
   "execution_count": 196,
   "id": "c671b842",
   "metadata": {},
   "outputs": [],
   "source": [
    "# setup\n",
    "from mlwpy import *\n",
    "%matplotlib inline\n",
    "\n",
    "import cv2\n"
   ]
  },
  {
   "cell_type": "code",
   "execution_count": 197,
   "id": "5f9a9184",
   "metadata": {},
   "outputs": [
    {
     "name": "stdout",
     "output_type": "stream",
     "text": [
      "{'said', 'meowed', 'you', 'over', 'cat', 'cow', 'jumped', 'not',\n",
      "'moon', 'mooed', 'hat'}\n"
     ]
    }
   ],
   "source": [
    "docs = [\"the cat in the hat\",\n",
    "        \"the cow jumped over the moon\",\n",
    "        \"the cat mooed and the cow meowed\",\n",
    "        \"the cat said to the cow cow you are not a cat\"]\n",
    "\n",
    "vocabulary = set(\" \".join(docs).split())\n",
    "\n",
    "common_words = set(['a', 'to', 'the', 'in', 'and', 'are'])\n",
    "vocabulary = vocabulary - common_words\n",
    "print(textwrap.fill(str(vocabulary)))"
   ]
  },
  {
   "cell_type": "code",
   "execution_count": 198,
   "id": "71df15ac",
   "metadata": {},
   "outputs": [
    {
     "data": {
      "text/html": [
       "<div>\n",
       "<style scoped>\n",
       "    .dataframe tbody tr th:only-of-type {\n",
       "        vertical-align: middle;\n",
       "    }\n",
       "\n",
       "    .dataframe tbody tr th {\n",
       "        vertical-align: top;\n",
       "    }\n",
       "\n",
       "    .dataframe thead th {\n",
       "        text-align: right;\n",
       "    }\n",
       "</style>\n",
       "<table border=\"1\" class=\"dataframe\">\n",
       "  <thead>\n",
       "    <tr style=\"text-align: right;\">\n",
       "      <th></th>\n",
       "      <th>said</th>\n",
       "      <th>meowed</th>\n",
       "      <th>you</th>\n",
       "      <th>over</th>\n",
       "      <th>cat</th>\n",
       "      <th>cow</th>\n",
       "      <th>jumped</th>\n",
       "      <th>not</th>\n",
       "      <th>moon</th>\n",
       "      <th>mooed</th>\n",
       "      <th>hat</th>\n",
       "    </tr>\n",
       "  </thead>\n",
       "  <tbody>\n",
       "    <tr>\n",
       "      <th>0</th>\n",
       "      <td>False</td>\n",
       "      <td>False</td>\n",
       "      <td>False</td>\n",
       "      <td>False</td>\n",
       "      <td>True</td>\n",
       "      <td>False</td>\n",
       "      <td>False</td>\n",
       "      <td>False</td>\n",
       "      <td>False</td>\n",
       "      <td>False</td>\n",
       "      <td>True</td>\n",
       "    </tr>\n",
       "    <tr>\n",
       "      <th>1</th>\n",
       "      <td>False</td>\n",
       "      <td>False</td>\n",
       "      <td>False</td>\n",
       "      <td>True</td>\n",
       "      <td>False</td>\n",
       "      <td>True</td>\n",
       "      <td>True</td>\n",
       "      <td>False</td>\n",
       "      <td>True</td>\n",
       "      <td>False</td>\n",
       "      <td>False</td>\n",
       "    </tr>\n",
       "    <tr>\n",
       "      <th>2</th>\n",
       "      <td>False</td>\n",
       "      <td>True</td>\n",
       "      <td>False</td>\n",
       "      <td>False</td>\n",
       "      <td>True</td>\n",
       "      <td>True</td>\n",
       "      <td>False</td>\n",
       "      <td>False</td>\n",
       "      <td>False</td>\n",
       "      <td>True</td>\n",
       "      <td>False</td>\n",
       "    </tr>\n",
       "    <tr>\n",
       "      <th>3</th>\n",
       "      <td>True</td>\n",
       "      <td>False</td>\n",
       "      <td>True</td>\n",
       "      <td>False</td>\n",
       "      <td>True</td>\n",
       "      <td>True</td>\n",
       "      <td>False</td>\n",
       "      <td>True</td>\n",
       "      <td>False</td>\n",
       "      <td>False</td>\n",
       "      <td>False</td>\n",
       "    </tr>\n",
       "  </tbody>\n",
       "</table>\n",
       "</div>"
      ],
      "text/latex": [
       "\\begin{tabular}{llllllllllll}\n",
       "\\toprule\n",
       "{} &   said &  meowed &    you &   over &    cat &    cow &  jumped &    not &   moon &  mooed &    hat \\\\\n",
       "\\midrule\n",
       "0 &  False &   False &  False &  False &   True &  False &   False &  False &  False &  False &   True \\\\\n",
       "1 &  False &   False &  False &   True &  False &   True &    True &  False &   True &  False &  False \\\\\n",
       "2 &  False &    True &  False &  False &   True &   True &   False &  False &  False &   True &  False \\\\\n",
       "3 &   True &   False &   True &  False &   True &   True &   False &   True &  False &  False &  False \\\\\n",
       "\\bottomrule\n",
       "\\end{tabular}\n"
      ],
      "text/plain": [
       "    said  meowed    you   over    cat    cow  jumped    not   moon  mooed  \\\n",
       "0  False   False  False  False   True  False   False  False  False  False   \n",
       "1  False   False  False   True  False   True    True  False   True  False   \n",
       "2  False    True  False  False   True   True   False  False  False   True   \n",
       "3   True   False   True  False   True   True   False   True  False  False   \n",
       "\n",
       "     hat  \n",
       "0   True  \n",
       "1  False  \n",
       "2  False  \n",
       "3  False  "
      ]
     },
     "metadata": {},
     "output_type": "display_data"
    }
   ],
   "source": [
    "# {k:v for k in lst} creates a dictionary from keys.values\n",
    "# dict comprehension\n",
    "doc_contains = [{w:(w in d) for w in vocabulary} for d in docs]\n",
    "display(pd.DataFrame(doc_contains))"
   ]
  },
  {
   "cell_type": "code",
   "execution_count": 199,
   "id": "48da9cad",
   "metadata": {},
   "outputs": [
    {
     "data": {
      "text/html": [
       "<div>\n",
       "<style scoped>\n",
       "    .dataframe tbody tr th:only-of-type {\n",
       "        vertical-align: middle;\n",
       "    }\n",
       "\n",
       "    .dataframe tbody tr th {\n",
       "        vertical-align: top;\n",
       "    }\n",
       "\n",
       "    .dataframe thead th {\n",
       "        text-align: right;\n",
       "    }\n",
       "</style>\n",
       "<table border=\"1\" class=\"dataframe\">\n",
       "  <thead>\n",
       "    <tr style=\"text-align: right;\">\n",
       "      <th></th>\n",
       "      <th>said</th>\n",
       "      <th>meowed</th>\n",
       "      <th>you</th>\n",
       "      <th>over</th>\n",
       "      <th>cat</th>\n",
       "      <th>cow</th>\n",
       "      <th>jumped</th>\n",
       "      <th>not</th>\n",
       "      <th>moon</th>\n",
       "      <th>mooed</th>\n",
       "      <th>hat</th>\n",
       "    </tr>\n",
       "  </thead>\n",
       "  <tbody>\n",
       "    <tr>\n",
       "      <th>0</th>\n",
       "      <td>0</td>\n",
       "      <td>0</td>\n",
       "      <td>0</td>\n",
       "      <td>0</td>\n",
       "      <td>1</td>\n",
       "      <td>0</td>\n",
       "      <td>0</td>\n",
       "      <td>0</td>\n",
       "      <td>0</td>\n",
       "      <td>0</td>\n",
       "      <td>1</td>\n",
       "    </tr>\n",
       "    <tr>\n",
       "      <th>1</th>\n",
       "      <td>0</td>\n",
       "      <td>0</td>\n",
       "      <td>0</td>\n",
       "      <td>1</td>\n",
       "      <td>0</td>\n",
       "      <td>1</td>\n",
       "      <td>1</td>\n",
       "      <td>0</td>\n",
       "      <td>1</td>\n",
       "      <td>0</td>\n",
       "      <td>0</td>\n",
       "    </tr>\n",
       "    <tr>\n",
       "      <th>2</th>\n",
       "      <td>0</td>\n",
       "      <td>1</td>\n",
       "      <td>0</td>\n",
       "      <td>0</td>\n",
       "      <td>1</td>\n",
       "      <td>1</td>\n",
       "      <td>0</td>\n",
       "      <td>0</td>\n",
       "      <td>0</td>\n",
       "      <td>1</td>\n",
       "      <td>0</td>\n",
       "    </tr>\n",
       "    <tr>\n",
       "      <th>3</th>\n",
       "      <td>1</td>\n",
       "      <td>0</td>\n",
       "      <td>1</td>\n",
       "      <td>0</td>\n",
       "      <td>2</td>\n",
       "      <td>2</td>\n",
       "      <td>0</td>\n",
       "      <td>1</td>\n",
       "      <td>0</td>\n",
       "      <td>0</td>\n",
       "      <td>0</td>\n",
       "    </tr>\n",
       "  </tbody>\n",
       "</table>\n",
       "</div>"
      ],
      "text/latex": [
       "\\begin{tabular}{lrrrrrrrrrrr}\n",
       "\\toprule\n",
       "{} &  said &  meowed &  you &  over &  cat &  cow &  jumped &  not &  moon &  mooed &  hat \\\\\n",
       "\\midrule\n",
       "0 &     0 &       0 &    0 &     0 &    1 &    0 &       0 &    0 &     0 &      0 &    1 \\\\\n",
       "1 &     0 &       0 &    0 &     1 &    0 &    1 &       1 &    0 &     1 &      0 &    0 \\\\\n",
       "2 &     0 &       1 &    0 &     0 &    1 &    1 &       0 &    0 &     0 &      1 &    0 \\\\\n",
       "3 &     1 &       0 &    1 &     0 &    2 &    2 &       0 &    1 &     0 &      0 &    0 \\\\\n",
       "\\bottomrule\n",
       "\\end{tabular}\n"
      ],
      "text/plain": [
       "   said  meowed  you  over  cat  cow  jumped  not  moon  mooed  hat\n",
       "0     0       0    0     0    1    0       0    0     0      0    1\n",
       "1     0       0    0     1    0    1       1    0     1      0    0\n",
       "2     0       1    0     0    1    1       0    0     0      1    0\n",
       "3     1       0    1     0    2    2       0    1     0      0    0"
      ]
     },
     "metadata": {},
     "output_type": "display_data"
    }
   ],
   "source": [
    "word_count = [{w:d.count(w) for w in vocabulary} for d in docs]\n",
    "wcs = pd.DataFrame(word_count)\n",
    "display(wcs)"
   ]
  },
  {
   "cell_type": "code",
   "execution_count": 200,
   "id": "7ab29162",
   "metadata": {},
   "outputs": [
    {
     "data": {
      "text/plain": [
       "<4x8 sparse matrix of type '<class 'numpy.int64'>'\n",
       "\twith 12 stored elements in Compressed Sparse Row format>"
      ]
     },
     "execution_count": 200,
     "metadata": {},
     "output_type": "execute_result"
    }
   ],
   "source": [
    "import sklearn.feature_extraction.text as sk_txt\n",
    "sparse = sk_txt.CountVectorizer(stop_words='english').fit_transform(docs)\n",
    "sparse"
   ]
  },
  {
   "cell_type": "code",
   "execution_count": 201,
   "id": "f7c5cea4",
   "metadata": {},
   "outputs": [
    {
     "data": {
      "text/plain": [
       "matrix([[1, 0, 1, 0, 0, 0, 0, 0],\n",
       "        [0, 1, 0, 1, 0, 0, 1, 0],\n",
       "        [1, 1, 0, 0, 1, 1, 0, 0],\n",
       "        [2, 2, 0, 0, 0, 0, 0, 1]])"
      ]
     },
     "execution_count": 201,
     "metadata": {},
     "output_type": "execute_result"
    }
   ],
   "source": [
    "sparse.todense()"
   ]
  },
  {
   "cell_type": "code",
   "execution_count": 202,
   "id": "70a0f8f9",
   "metadata": {},
   "outputs": [
    {
     "data": {
      "text/html": [
       "<div>\n",
       "<style scoped>\n",
       "    .dataframe tbody tr th:only-of-type {\n",
       "        vertical-align: middle;\n",
       "    }\n",
       "\n",
       "    .dataframe tbody tr th {\n",
       "        vertical-align: top;\n",
       "    }\n",
       "\n",
       "    .dataframe thead th {\n",
       "        text-align: right;\n",
       "    }\n",
       "</style>\n",
       "<table border=\"1\" class=\"dataframe\">\n",
       "  <thead>\n",
       "    <tr style=\"text-align: right;\">\n",
       "      <th></th>\n",
       "      <th>said</th>\n",
       "      <th>meowed</th>\n",
       "      <th>you</th>\n",
       "      <th>over</th>\n",
       "      <th>cat</th>\n",
       "      <th>cow</th>\n",
       "      <th>jumped</th>\n",
       "      <th>not</th>\n",
       "      <th>moon</th>\n",
       "      <th>mooed</th>\n",
       "      <th>hat</th>\n",
       "    </tr>\n",
       "  </thead>\n",
       "  <tbody>\n",
       "    <tr>\n",
       "      <th>0</th>\n",
       "      <td>1</td>\n",
       "      <td>1</td>\n",
       "      <td>1</td>\n",
       "      <td>1</td>\n",
       "      <td>3</td>\n",
       "      <td>3</td>\n",
       "      <td>1</td>\n",
       "      <td>1</td>\n",
       "      <td>1</td>\n",
       "      <td>1</td>\n",
       "      <td>1</td>\n",
       "    </tr>\n",
       "  </tbody>\n",
       "</table>\n",
       "</div>"
      ],
      "text/latex": [
       "\\begin{tabular}{lrrrrrrrrrrr}\n",
       "\\toprule\n",
       "{} &  said &  meowed &  you &  over &  cat &  cow &  jumped &  not &  moon &  mooed &  hat \\\\\n",
       "\\midrule\n",
       "0 &     1 &       1 &    1 &     1 &    3 &    3 &       1 &    1 &     1 &      1 &    1 \\\\\n",
       "\\bottomrule\n",
       "\\end{tabular}\n"
      ],
      "text/plain": [
       "   said  meowed  you  over  cat  cow  jumped  not  moon  mooed  hat\n",
       "0     1       1    1     1    3    3       1    1     1      1    1"
      ]
     },
     "metadata": {},
     "output_type": "display_data"
    }
   ],
   "source": [
    "doc_freq = pd.DataFrame(wcs.astype(bool).sum(axis='rows')).T\n",
    "display(doc_freq)"
   ]
  },
  {
   "cell_type": "code",
   "execution_count": 203,
   "id": "8fa3765b",
   "metadata": {},
   "outputs": [
    {
     "data": {
      "text/html": [
       "<div>\n",
       "<style scoped>\n",
       "    .dataframe tbody tr th:only-of-type {\n",
       "        vertical-align: middle;\n",
       "    }\n",
       "\n",
       "    .dataframe tbody tr th {\n",
       "        vertical-align: top;\n",
       "    }\n",
       "\n",
       "    .dataframe thead th {\n",
       "        text-align: right;\n",
       "    }\n",
       "</style>\n",
       "<table border=\"1\" class=\"dataframe\">\n",
       "  <thead>\n",
       "    <tr style=\"text-align: right;\">\n",
       "      <th></th>\n",
       "      <th>said</th>\n",
       "      <th>meowed</th>\n",
       "      <th>you</th>\n",
       "      <th>over</th>\n",
       "      <th>cat</th>\n",
       "      <th>cow</th>\n",
       "      <th>jumped</th>\n",
       "      <th>not</th>\n",
       "      <th>moon</th>\n",
       "      <th>mooed</th>\n",
       "      <th>hat</th>\n",
       "    </tr>\n",
       "  </thead>\n",
       "  <tbody>\n",
       "    <tr>\n",
       "      <th>0</th>\n",
       "      <td>1.3863</td>\n",
       "      <td>1.3863</td>\n",
       "      <td>1.3863</td>\n",
       "      <td>1.3863</td>\n",
       "      <td>0.2877</td>\n",
       "      <td>0.2877</td>\n",
       "      <td>1.3863</td>\n",
       "      <td>1.3863</td>\n",
       "      <td>1.3863</td>\n",
       "      <td>1.3863</td>\n",
       "      <td>1.3863</td>\n",
       "    </tr>\n",
       "  </tbody>\n",
       "</table>\n",
       "</div>"
      ],
      "text/latex": [
       "\\begin{tabular}{lrrrrrrrrrrr}\n",
       "\\toprule\n",
       "{} &                 said &               meowed &                  you &                 over &                  cat &                  cow &               jumped &                  not &                 moon &                mooed &                  hat \\\\\n",
       "\\midrule\n",
       "0 &               1.3863 &               1.3863 &               1.3863 &               1.3863 &               0.2877 &               0.2877 &               1.3863 &               1.3863 &               1.3863 &               1.3863 &               1.3863 \\\\\n",
       "\\bottomrule\n",
       "\\end{tabular}\n"
      ],
      "text/plain": [
       "                  said               meowed                  you  \\\n",
       "0               1.3863               1.3863               1.3863   \n",
       "\n",
       "                  over                  cat                  cow  \\\n",
       "0               1.3863               0.2877               0.2877   \n",
       "\n",
       "                jumped                  not                 moon  \\\n",
       "0               1.3863               1.3863               1.3863   \n",
       "\n",
       "                 mooed                  hat  \n",
       "0               1.3863               1.3863  "
      ]
     },
     "metadata": {},
     "output_type": "display_data"
    }
   ],
   "source": [
    "idf = np.log(len(docs) / doc_freq)\n",
    "# == np.log(len(docs)) - np.log(doc_freq)\n",
    "display(idf)"
   ]
  },
  {
   "cell_type": "code",
   "execution_count": 204,
   "id": "b263cbd2",
   "metadata": {},
   "outputs": [
    {
     "data": {
      "text/html": [
       "<div>\n",
       "<style scoped>\n",
       "    .dataframe tbody tr th:only-of-type {\n",
       "        vertical-align: middle;\n",
       "    }\n",
       "\n",
       "    .dataframe tbody tr th {\n",
       "        vertical-align: top;\n",
       "    }\n",
       "\n",
       "    .dataframe thead th {\n",
       "        text-align: right;\n",
       "    }\n",
       "</style>\n",
       "<table border=\"1\" class=\"dataframe\">\n",
       "  <thead>\n",
       "    <tr style=\"text-align: right;\">\n",
       "      <th></th>\n",
       "      <th>said</th>\n",
       "      <th>meowed</th>\n",
       "      <th>you</th>\n",
       "      <th>over</th>\n",
       "      <th>cat</th>\n",
       "      <th>cow</th>\n",
       "      <th>jumped</th>\n",
       "      <th>not</th>\n",
       "      <th>moon</th>\n",
       "      <th>mooed</th>\n",
       "      <th>hat</th>\n",
       "    </tr>\n",
       "  </thead>\n",
       "  <tbody>\n",
       "    <tr>\n",
       "      <th>0</th>\n",
       "      <td>0.0000</td>\n",
       "      <td>0.0000</td>\n",
       "      <td>0.0000</td>\n",
       "      <td>0.0000</td>\n",
       "      <td>0.2877</td>\n",
       "      <td>0.0000</td>\n",
       "      <td>0.0000</td>\n",
       "      <td>0.0000</td>\n",
       "      <td>0.0000</td>\n",
       "      <td>0.0000</td>\n",
       "      <td>1.3863</td>\n",
       "    </tr>\n",
       "    <tr>\n",
       "      <th>1</th>\n",
       "      <td>0.0000</td>\n",
       "      <td>0.0000</td>\n",
       "      <td>0.0000</td>\n",
       "      <td>1.3863</td>\n",
       "      <td>0.0000</td>\n",
       "      <td>0.2877</td>\n",
       "      <td>1.3863</td>\n",
       "      <td>0.0000</td>\n",
       "      <td>1.3863</td>\n",
       "      <td>0.0000</td>\n",
       "      <td>0.0000</td>\n",
       "    </tr>\n",
       "    <tr>\n",
       "      <th>2</th>\n",
       "      <td>0.0000</td>\n",
       "      <td>1.3863</td>\n",
       "      <td>0.0000</td>\n",
       "      <td>0.0000</td>\n",
       "      <td>0.2877</td>\n",
       "      <td>0.2877</td>\n",
       "      <td>0.0000</td>\n",
       "      <td>0.0000</td>\n",
       "      <td>0.0000</td>\n",
       "      <td>1.3863</td>\n",
       "      <td>0.0000</td>\n",
       "    </tr>\n",
       "    <tr>\n",
       "      <th>3</th>\n",
       "      <td>1.3863</td>\n",
       "      <td>0.0000</td>\n",
       "      <td>1.3863</td>\n",
       "      <td>0.0000</td>\n",
       "      <td>0.5754</td>\n",
       "      <td>0.5754</td>\n",
       "      <td>0.0000</td>\n",
       "      <td>1.3863</td>\n",
       "      <td>0.0000</td>\n",
       "      <td>0.0000</td>\n",
       "      <td>0.0000</td>\n",
       "    </tr>\n",
       "  </tbody>\n",
       "</table>\n",
       "</div>"
      ],
      "text/latex": [
       "\\begin{tabular}{lrrrrrrrrrrr}\n",
       "\\toprule\n",
       "{} &                 said &               meowed &                  you &                 over &                  cat &                  cow &               jumped &                  not &                 moon &                mooed &                  hat \\\\\n",
       "\\midrule\n",
       "0 &               0.0000 &               0.0000 &               0.0000 &               0.0000 &               0.2877 &               0.0000 &               0.0000 &               0.0000 &               0.0000 &               0.0000 &               1.3863 \\\\\n",
       "1 &               0.0000 &               0.0000 &               0.0000 &               1.3863 &               0.0000 &               0.2877 &               1.3863 &               0.0000 &               1.3863 &               0.0000 &               0.0000 \\\\\n",
       "2 &               0.0000 &               1.3863 &               0.0000 &               0.0000 &               0.2877 &               0.2877 &               0.0000 &               0.0000 &               0.0000 &               1.3863 &               0.0000 \\\\\n",
       "3 &               1.3863 &               0.0000 &               1.3863 &               0.0000 &               0.5754 &               0.5754 &               0.0000 &               1.3863 &               0.0000 &               0.0000 &               0.0000 \\\\\n",
       "\\bottomrule\n",
       "\\end{tabular}\n"
      ],
      "text/plain": [
       "                  said               meowed                  you  \\\n",
       "0               0.0000               0.0000               0.0000   \n",
       "1               0.0000               0.0000               0.0000   \n",
       "2               0.0000               1.3863               0.0000   \n",
       "3               1.3863               0.0000               1.3863   \n",
       "\n",
       "                  over                  cat                  cow  \\\n",
       "0               0.0000               0.2877               0.0000   \n",
       "1               1.3863               0.0000               0.2877   \n",
       "2               0.0000               0.2877               0.2877   \n",
       "3               0.0000               0.5754               0.5754   \n",
       "\n",
       "                jumped                  not                 moon  \\\n",
       "0               0.0000               0.0000               0.0000   \n",
       "1               1.3863               0.0000               1.3863   \n",
       "2               0.0000               0.0000               0.0000   \n",
       "3               0.0000               1.3863               0.0000   \n",
       "\n",
       "                 mooed                  hat  \n",
       "0               0.0000               1.3863  \n",
       "1               0.0000               0.0000  \n",
       "2               1.3863               0.0000  \n",
       "3               0.0000               0.0000  "
      ]
     },
     "metadata": {},
     "output_type": "display_data"
    }
   ],
   "source": [
    "tf_idf = wcs * idf.iloc[0] # aligns columns for multiplication\n",
    "display(tf_idf)"
   ]
  },
  {
   "cell_type": "code",
   "execution_count": 205,
   "id": "24ecb6f1",
   "metadata": {},
   "outputs": [
    {
     "data": {
      "text/plain": [
       "array([[0.    , 0.    , 0.    , 0.    , 0.5   , 0.    , 0.    , 0.    ,\n",
       "        0.    , 0.    , 0.5   ],\n",
       "       [0.    , 0.    , 0.    , 0.25  , 0.    , 0.25  , 0.25  , 0.    ,\n",
       "        0.25  , 0.    , 0.    ],\n",
       "       [0.    , 0.25  , 0.    , 0.    , 0.25  , 0.25  , 0.    , 0.    ,\n",
       "        0.    , 0.25  , 0.    ],\n",
       "       [0.1429, 0.    , 0.1429, 0.    , 0.2857, 0.2857, 0.    , 0.1429,\n",
       "        0.    , 0.    , 0.    ]])"
      ]
     },
     "execution_count": 205,
     "metadata": {},
     "output_type": "execute_result"
    }
   ],
   "source": [
    "skpre.Normalizer(norm='l1').fit_transform(wcs)"
   ]
  },
  {
   "cell_type": "code",
   "execution_count": 206,
   "id": "d32b8a88",
   "metadata": {},
   "outputs": [
    {
     "data": {
      "text/plain": [
       "matrix([[0.3896, 0.    , 0.6104, 0.    , 0.    , 0.    , 0.    , 0.    ],\n",
       "        [0.    , 0.2419, 0.    , 0.379 , 0.    , 0.    , 0.379 , 0.    ],\n",
       "        [0.1948, 0.1948, 0.    , 0.    , 0.3052, 0.3052, 0.    , 0.    ],\n",
       "        [0.3593, 0.3593, 0.    , 0.    , 0.    , 0.    , 0.    , 0.2814]])"
      ]
     },
     "execution_count": 206,
     "metadata": {},
     "output_type": "execute_result"
    }
   ],
   "source": [
    "sparse = (sk_txt.TfidfVectorizer(norm='l1', stop_words='english')\n",
    "                .fit_transform(docs))\n",
    "sparse.todense()"
   ]
  },
  {
   "cell_type": "code",
   "execution_count": 207,
   "id": "1b27d440",
   "metadata": {},
   "outputs": [
    {
     "name": "stdout",
     "output_type": "stream",
     "text": [
      "the groups:\n",
      "['alt.atheism', 'comp.graphics', 'comp.os.ms-windows.misc',\n",
      "'comp.sys.ibm.pc.hardware', 'comp.sys.mac.hardware', 'comp.windows.x',\n",
      "'misc.forsale', 'rec.autos', 'rec.motorcycles', 'rec.sport.baseball',\n",
      "'rec.sport.hockey', 'sci.crypt', 'sci.electronics', 'sci.med',\n",
      "'sci.space', 'soc.religion.christian', 'talk.politics.guns',\n",
      "'talk.politics.mideast', 'talk.politics.misc', 'talk.religion.misc']\n"
     ]
    }
   ],
   "source": [
    "from sklearn.datasets import fetch_20newsgroups\n",
    "twenty_train = fetch_20newsgroups(subset='train')\n",
    "\n",
    "print(\"the groups:\")\n",
    "print(textwrap.fill(str(twenty_train.target_names)))"
   ]
  },
  {
   "cell_type": "code",
   "execution_count": 208,
   "id": "78c614de",
   "metadata": {},
   "outputs": [
    {
     "name": "stdout",
     "output_type": "stream",
     "text": [
      "From: lerxst@wam.umd.edu (where's my thing)inSubject: WHAT car is this!?inNntp-Posting-Host: rac3.wam.umd.eduinOrganization: University of Maryland, College ParkinLines: 15inin I was wondering if anyone out there could enlighten me on this car I sawinthe other day. It was a 2-door sports car, looked to be from the late 60s/inearly 70s. It was called a Bricklin. The doors were really small. In addition,inthe front bumper was separate from the rest of the body. This is \n"
     ]
    }
   ],
   "source": [
    "print(\"in\".join(twenty_train.data[0].splitlines()[:10]))"
   ]
  },
  {
   "cell_type": "code",
   "execution_count": 209,
   "id": "78ee1194",
   "metadata": {},
   "outputs": [],
   "source": [
    "ct_vect = sk_txt.CountVectorizer()\n",
    "tfidf_xform = sk_txt.TfidfTransformer()\n",
    "\n",
    "docs_as_counts = ct_vect.fit_transform(twenty_train.data)\n",
    "docs_as_tfidf = tfidf_xform.fit_transform(docs_as_counts)"
   ]
  },
  {
   "cell_type": "code",
   "execution_count": 210,
   "id": "6481fea0",
   "metadata": {},
   "outputs": [],
   "source": [
    "model = naive_bayes.MultinomialNB().fit(docs_as_tfidf,\n",
    "                                        twenty_train.target)"
   ]
  },
  {
   "cell_type": "code",
   "execution_count": 211,
   "id": "f536974b",
   "metadata": {},
   "outputs": [],
   "source": [
    "doc_pipeline = pipeline.make_pipeline(sk_txt.CountVectorizer(),\n",
    "                                      sk_txt.TfidfTransformer(),\n",
    "                                      naive_bayes.MultinomialNB())"
   ]
  },
  {
   "cell_type": "code",
   "execution_count": 212,
   "id": "b0c865c5",
   "metadata": {},
   "outputs": [],
   "source": [
    "categories = ['misc.forsale',\n",
    "              'comp.graphics',\n",
    "              'sci.med',\n",
    "              'sci.space']\n",
    "\n",
    "twenty_train = fetch_20newsgroups(subset='train',\n",
    "                                  categories=categories,\n",
    "                                  shuffle=True,\n",
    "                                  random_state=42)\n",
    "\n",
    "docs_pipeline = pipeline.make_pipeline(sk_txt.TfidfVectorizer(),\n",
    "                                       naive_bayes.MultinomialNB())\n",
    "\n",
    "model = docs_pipeline.fit(twenty_train.data, twenty_train.target)"
   ]
  },
  {
   "cell_type": "code",
   "execution_count": 213,
   "id": "c22dcb8b",
   "metadata": {},
   "outputs": [
    {
     "data": {
      "image/png": "[encoded data removed]",
      "text/plain": [
       "<Figure size 432x288 with 2 Axes>"
      ]
     },
     "metadata": {
      "needs_background": "light"
     },
     "output_type": "display_data"
    }
   ],
   "source": [
    "twenty_test = fetch_20newsgroups(subset='test',\n",
    "                                  categories=categories,\n",
    "                                  shuffle=True,\n",
    "                                  random_state=42)\n",
    "\n",
    "docs_preds = model.predict(twenty_test.data)\n",
    "cm = metrics.confusion_matrix(twenty_test.target, docs_preds)\n",
    "ax = sns.heatmap(cm, annot=True,\n",
    "                 xticklabels=twenty_test.target_names,\n",
    "                 yticklabels=twenty_test.target_names,\n",
    "                 fmt='3d')\n",
    "\n",
    "ax.set_xlabel('Predicted')\n",
    "ax.set_ylabel('Actual');"
   ]
  },
  {
   "cell_type": "code",
   "execution_count": 214,
   "id": "5f0bb6b7",
   "metadata": {},
   "outputs": [
    {
     "data": {
      "image/png": "[encoded data removed]",
      "text/plain": [
       "<Figure size 576x288 with 2 Axes>"
      ]
     },
     "metadata": {
      "needs_background": "light"
     },
     "output_type": "display_data"
    }
   ],
   "source": [
    "iris = datasets.load_iris()\n",
    "twod_iris = (decomposition.PCA(n_components=2, whiten=True)\n",
    "                          .fit_transform(iris.data))\n",
    "\n",
    "clusters = cluster.KMeans(n_clusters=3).fit(twod_iris)\n",
    "\n",
    "fig, axes = plt.subplots(1,2,figsize=(8,4))\n",
    "axes[0].scatter(*twod_iris.T, c=iris.target)\n",
    "axes[1].scatter(*twod_iris.T, c=clusters.labels_)\n",
    "\n",
    "axes[0].set_title(\"Truth\"), axes[1].set_title(\"Clustered\");"
   ]
  },
  {
   "cell_type": "markdown",
   "id": "97642119",
   "metadata": {},
   "source": [
    "## Image Data"
   ]
  },
  {
   "cell_type": "code",
   "execution_count": 215,
   "id": "95f56cc3",
   "metadata": {},
   "outputs": [
    {
     "name": "stdout",
     "output_type": "stream",
     "text": [
      "number of categories: 102\n",
      "first 10 categories:\n",
      " ['gerenuk', 'hawksbill', 'headphone', 'ant', 'butterfly', 'lamp',\n",
      "'strawberry', 'water_lilly', 'chandelier', 'dragonfly']\n"
     ]
    }
   ],
   "source": [
    "# exploring the data\n",
    "objcat_path = \"./data/caltech-101/101_ObjectCategories\"\n",
    "cat_paths = glob.glob(osp.join(objcat_path, \"*\"))\n",
    "all_categories = [d.split('/')[-1] for d in cat_paths]\n",
    "\n",
    "print(\"number of categories:\", len(all_categories))\n",
    "print(\"first 10 categories:\\n\",\n",
    "      textwrap.fill(str(all_categories[:10])))"
   ]
  },
  {
   "cell_type": "code",
   "execution_count": 216,
   "id": "b32fe4a2",
   "metadata": {},
   "outputs": [
    {
     "data": {
      "image/png": "[encoded data removed]",
      "text/plain": [
       "<Figure size 144x144 with 1 Axes>"
      ]
     },
     "metadata": {
      "needs_background": "light"
     },
     "output_type": "display_data"
    }
   ],
   "source": [
    "from skimage.io import imread\n",
    "\n",
    "test_path = osp.join(objcat_path, 'accordion', 'image_0001.jpg')\n",
    "test_img = imread(test_path)\n",
    "\n",
    "fig, ax = plt.subplots(1,1,figsize=(2,2))\n",
    "ax.imshow(test_img)\n",
    "ax.axis('off');"
   ]
  },
  {
   "cell_type": "code",
   "execution_count": 217,
   "id": "b4a9c221",
   "metadata": {},
   "outputs": [
    {
     "data": {
      "text/plain": [
       "'./data/caltech-101/101_ObjectCategories/accordion/image_0001.jpg'"
      ]
     },
     "execution_count": 217,
     "metadata": {},
     "output_type": "execute_result"
    }
   ],
   "source": [
    "test_img = imread(test_path)\n",
    "test_path"
   ]
  },
  {
   "cell_type": "code",
   "execution_count": 218,
   "id": "2c330c18",
   "metadata": {},
   "outputs": [
    {
     "data": {
      "image/png": "[encoded data removed]",
      "text/plain": [
       "<Figure size 144x144 with 1 Axes>"
      ]
     },
     "metadata": {
      "needs_background": "light"
     },
     "output_type": "display_data"
    }
   ],
   "source": [
    "test_path = osp.join(objcat_path, 'accordion', 'image_0002.jpg')\n",
    "test_img = imread(test_path)\n",
    "\n",
    "fig, ax = plt.subplots(1,1,figsize=(2,2))\n",
    "ax.imshow(test_img)\n",
    "ax.axis('off');"
   ]
  },
  {
   "cell_type": "code",
   "execution_count": 219,
   "id": "5f68659a",
   "metadata": {},
   "outputs": [
    {
     "data": {
      "image/png": "[encoded data removed]",
      "text/plain": [
       "<Figure size 144x144 with 1 Axes>"
      ]
     },
     "metadata": {
      "needs_background": "light"
     },
     "output_type": "display_data"
    }
   ],
   "source": [
    "test_path = osp.join(objcat_path, 'butterfly', 'image_0001.jpg')\n",
    "test_img = imread(test_path)\n",
    "\n",
    "fig, ax = plt.subplots(1,1,figsize=(2,2))\n",
    "ax.imshow(test_img)\n",
    "ax.axis('off');"
   ]
  },
  {
   "cell_type": "code",
   "execution_count": null,
   "id": "c31c8575",
   "metadata": {},
   "outputs": [],
   "source": []
  },
  {
   "cell_type": "code",
   "execution_count": 220,
   "id": "294ab021",
   "metadata": {},
   "outputs": [],
   "source": [
    "def img_to_local_words(img):\n",
    "    ' heavy lifting of creating local visual words from image '\n",
    "    sift = cv2.xfeatures2d.SIFT_create()\n",
    "    key_points, descriptors = sift.detectAndCompute(img, None)\n",
    "    return descriptors\n",
    "\n",
    "def id_to_path(img_id):\n",
    "    ' helper to get file location '\n",
    "    cat, num = img_id\n",
    "    return osp.join(objcat_path, cat, \"image_{:04d}.jpg\".format(num))\n",
    "\n",
    "def add_local_words_for_img(local_ftrs, img_id):\n",
    "    ' update local_ftrs inplace '\n",
    "    cat, _ = img_id\n",
    "    img_path = id_to_path(img_id)\n",
    "    img = imread(img_path)\n",
    "    local_ftrs.setdefault(cat, []).append(img_to_local_words(img))"
   ]
  },
  {
   "cell_type": "code",
   "execution_count": 221,
   "id": "7d9378aa",
   "metadata": {},
   "outputs": [],
   "source": [
    "# set up a few constants\n",
    "use_cats = ['accordion', 'butterfly', 'airplanes']\n",
    "use_imgs = range(1,11)\n",
    "\n",
    "img_ids = list(it.product(use_cats,use_imgs))\n",
    "num_imgs = len(img_ids)\n",
    "\n",
    "global_vocab_size = 20"
   ]
  },
  {
   "cell_type": "code",
   "execution_count": 222,
   "id": "dadc9d9f",
   "metadata": {},
   "outputs": [
    {
     "data": {
      "text/plain": [
       "(['accordion', 'butterfly', 'airplanes'], range(1, 11))"
      ]
     },
     "execution_count": 222,
     "metadata": {},
     "output_type": "execute_result"
    }
   ],
   "source": [
    "(use_cats, use_imgs)"
   ]
  },
  {
   "cell_type": "code",
   "execution_count": 223,
   "id": "01b635ad",
   "metadata": {},
   "outputs": [
    {
     "name": "stdout",
     "output_type": "stream",
     "text": [
      "dict_keys(['accordion', 'butterfly', 'airplanes'])\n"
     ]
    }
   ],
   "source": [
    "# turn each image into a table of local visual words\n",
    "# (1 table per image, 1 word per row)\n",
    "\n",
    "local_words = {}\n",
    "for img_id in img_ids:\n",
    "    add_local_words_for_img(local_words, img_id)\n",
    "print(local_words.keys())"
   ]
  },
  {
   "cell_type": "code",
   "execution_count": 224,
   "id": "3009464d",
   "metadata": {},
   "outputs": [
    {
     "name": "stdout",
     "output_type": "stream",
     "text": [
      "num of local words for images:\n",
      "[804, 798, 968, 606, 575, 726, 881, 504, 915, 395,\n",
      "465, 505, 755, 143, 1473, 439, 314, 433, 60, 383,\n",
      "350, 206, 467, 562, 616, 288, 348, 671, 328, 243]\n"
     ]
    }
   ],
   "source": [
    "# itcfi is basically a way to get each individual item from an\n",
    "# iterator of items\n",
    "\n",
    "itcfi = it.chain.from_iterable\n",
    "img_local_word_cts = [lf.shape[0] for lf in itcfi(local_words.values())]\n",
    "print(\"num of local words for images:\")\n",
    "print(textwrap.fill(str(img_local_word_cts), width=50))"
   ]
  },
  {
   "cell_type": "code",
   "execution_count": 225,
   "id": "ef78f5f5",
   "metadata": {},
   "outputs": [
    {
     "name": "stdout",
     "output_type": "stream",
     "text": [
      "total num local words: 16221\n",
      "local word tbl: (16221, 128)\n"
     ]
    }
   ],
   "source": [
    "# how wide are the local word tables\n",
    "num_local_words = local_words[use_cats[0]][0].shape[1]\n",
    "\n",
    "# how many local words are there in total?\n",
    "all_local_words = list(itcfi(local_words.values()))\n",
    "tot_num_local_words = sum(lw.shape[0] for lw in all_local_words)\n",
    "print(\"total num local words:\", tot_num_local_words)\n",
    "\n",
    "# construct joined local tables to perform clustering\n",
    "lwa_shape = (tot_num_local_words, num_local_words)\n",
    "local_word_arr = np_array_fromiter(itcfi(all_local_words),\n",
    "                                   lwa_shape)\n",
    "\n",
    "print('local word tbl:', local_word_arr.shape)"
   ]
  },
  {
   "cell_type": "code",
   "execution_count": 226,
   "id": "683986b2",
   "metadata": {},
   "outputs": [
    {
     "name": "stdout",
     "output_type": "stream",
     "text": [
      "translated words shape: (16221,)\n"
     ]
    }
   ],
   "source": [
    "# cluster (and translate) the local words to global words\n",
    "translator = cluster.KMeans(n_clusters=global_vocab_size)\n",
    "global_words = translator.fit_predict(local_word_arr)\n",
    "print('translated words shape:', global_words.shape)"
   ]
  },
  {
   "cell_type": "code",
   "execution_count": null,
   "id": "830ad6cd",
   "metadata": {},
   "outputs": [],
   "source": []
  },
  {
   "cell_type": "code",
   "execution_count": 227,
   "id": "bc015263",
   "metadata": {},
   "outputs": [
    {
     "name": "stdout",
     "output_type": "stream",
     "text": [
      "which img len: 16221\n",
      "shape hist table: (30, 20)\n"
     ]
    }
   ],
   "source": [
    "# which image do the local words belong to?\n",
    "which_img = enumerate_outer(all_local_words)\n",
    "print('which img len:', len(which_img))\n",
    "\n",
    "#image by global words --> image by histogram\n",
    "counts = co.Counter(zip(which_img, global_words))\n",
    "imgs_as_bogvw = np.zeros((num_imgs, global_vocab_size))\n",
    "for (img, global_word), count in counts.items():\n",
    "    imgs_as_bogvw[img, global_word] = count\n",
    "    \n",
    "print('shape hist table:', imgs_as_bogvw.shape)"
   ]
  },
  {
   "cell_type": "code",
   "execution_count": 228,
   "id": "80a6a8d0",
   "metadata": {},
   "outputs": [
    {
     "name": "stdout",
     "output_type": "stream",
     "text": [
      "img tgt values: [0 0 0 0 0 0 0 0 0 0]\n"
     ]
    }
   ],
   "source": [
    "# a bit of a hack, local_ftrs.values() gives\n",
    "# [[img1, img2], [img3, img4, img5], etc]\n",
    "# answers what category am i from?\n",
    "img_tgts = enumerate_outer(local_words.values())\n",
    "print('img tgt values:', img_tgts[:10])"
   ]
  },
  {
   "cell_type": "code",
   "execution_count": 229,
   "id": "a3a40f6c",
   "metadata": {},
   "outputs": [],
   "source": [
    "# build learning model\n",
    "std_svc = pipeline.make_pipeline(skpre.StandardScaler(), svm.SVC())\n",
    "svc = std_svc.fit(imgs_as_bogvw, img_tgts)"
   ]
  },
  {
   "cell_type": "markdown",
   "id": "5f62a892",
   "metadata": {},
   "source": [
    "### Prediction"
   ]
  },
  {
   "cell_type": "code",
   "execution_count": 232,
   "id": "67738b9e",
   "metadata": {},
   "outputs": [],
   "source": [
    "def image_to_example(img_id, translator):\n",
    "    ' from an id, produce an example with global words '\n",
    "    img_local = img_to_local_words(imread(id_to_path(img_id)))\n",
    "    img_global = translator.predict(img_local.astype(np.float64))\n",
    "    img_bogvw = np.bincount(img_global, minlength=translator.n_clusters)\n",
    "    \n",
    "    return img_bogvw.reshape(1,-1).astype(np.float64)"
   ]
  },
  {
   "cell_type": "code",
   "execution_count": 233,
   "id": "0426242d",
   "metadata": {},
   "outputs": [
    {
     "name": "stdout",
     "output_type": "stream",
     "text": [
      "[0]\n",
      "[1]\n",
      "[1]\n"
     ]
    }
   ],
   "source": [
    "for cat in use_cats:\n",
    "    test = image_to_example((cat, 12), translator)\n",
    "    print(svc.predict(test))"
   ]
  },
  {
   "cell_type": "code",
   "execution_count": 243,
   "id": "1d5ac74d",
   "metadata": {},
   "outputs": [],
   "source": [
    "class BoVW_XForm:\n",
    "    def __init__(self):\n",
    "        pass\n",
    "    \n",
    "    def _to_local_words(self, img_ids):\n",
    "        # turn each image into table of local visual words (1 word per row)\n",
    "        local_words = {}\n",
    "        for img_id in img_ids:\n",
    "            add_local_words_for_img(local_words, img_id)\n",
    "        \n",
    "        itcfi = it.chain.from_iterable\n",
    "        all_local_words = list(itcfi(local_words.values()))\n",
    "        return all_local_words\n",
    "    \n",
    "    def fit(self, img_ids, tgt=None):\n",
    "        all_local_words = self._to_local_words(img_ids)\n",
    "        tot_num_local_words = sum(lw.shape[0] for lw in all_local_words)\n",
    "        local_word_arr = np_array_fromiter(itcfi(all_local_words),\n",
    "                                           (tot_num_local_words,\n",
    "                                            num_local_words))\n",
    "        \n",
    "        self.translator = cluster.KMeans(n_clusters=global_vocab_size)\n",
    "        self.translator.fit(local_word_arr)\n",
    "        return self\n",
    "    \n",
    "    def transform(self, img_ids, tgt=None):\n",
    "        all_local_words = self._to_local_words(img_ids)\n",
    "        tot_num_local_words = sum(lw.shape[0] for lw in all_local_words)\n",
    "        local_word_arr = np_array_fromiter(itcfi(all_local_words),\n",
    "                                           (tot_num_local_words,\n",
    "                                            num_local_words))\n",
    "        global_words = self.translator.predict(local_word_arr)\n",
    "        \n",
    "        # image by global words -> image by histogram\n",
    "        which_img = enumerate_outer(all_local_words)\n",
    "        counts = co.Counter(zip(which_img, global_words))\n",
    "        imgs_as_bogvw = np.zeros((len(img_ids), global_vocab_size))\n",
    "        for (img, global_word), count in counts.items():\n",
    "            imgs_as_bogvw[img, global_word] = count\n",
    "        return imgs_as_bogvw\n",
    "    "
   ]
  },
  {
   "cell_type": "code",
   "execution_count": 244,
   "id": "3f50024d",
   "metadata": {},
   "outputs": [],
   "source": [
    "use_cats = ['watch', 'umbrella', 'sunflower', 'kangaroo']\n",
    "use_imgs = range(1,40)\n",
    "\n",
    "img_ids = list(it.product(use_cats, use_imgs))\n",
    "num_imgs = len(img_ids)\n",
    "\n",
    "cat_id = {c:i for i, c in enumerate(use_cats)}\n",
    "img_tgts = [cat_id[ii[0]] for ii in img_ids]"
   ]
  },
  {
   "cell_type": "code",
   "execution_count": 245,
   "id": "d89ebe81",
   "metadata": {},
   "outputs": [],
   "source": [
    "(train_img, test_img,\n",
    " train_tgt, test_tgt) = skms.train_test_split(img_ids, img_tgts)\n",
    "bovw_pipe = pipeline.make_pipeline(BoVW_XForm(),\n",
    "                                   skpre.StandardScaler(),\n",
    "                                   svm.SVC())\n",
    "\n",
    "bovw_pipe.fit(train_img, train_tgt);"
   ]
  },
  {
   "cell_type": "code",
   "execution_count": 246,
   "id": "46581468",
   "metadata": {},
   "outputs": [
    {
     "data": {
      "image/png": "[encoded data removed]",
      "text/plain": [
       "<Figure size 432x288 with 2 Axes>"
      ]
     },
     "metadata": {
      "needs_background": "light"
     },
     "output_type": "display_data"
    }
   ],
   "source": [
    "img_preds = bovw_pipe.predict(test_img)\n",
    "cm = metrics.confusion_matrix(test_tgt, img_preds)\n",
    "ax = sns.heatmap(cm, annot=True,\n",
    "                 xticklabels=use_cats,\n",
    "                 yticklabels=use_cats,\n",
    "                 fmt='3d')\n",
    "\n",
    "ax.set_xlabel('Predicted')\n",
    "ax.set_ylabel('Actual');"
   ]
  },
  {
   "cell_type": "code",
   "execution_count": null,
   "id": "b8f1ce7e",
   "metadata": {},
   "outputs": [],
   "source": []
  },
  {
   "cell_type": "code",
   "execution_count": null,
   "id": "6f1299c5",
   "metadata": {},
   "outputs": [],
   "source": []
  },
  {
   "cell_type": "code",
   "execution_count": null,
   "id": "8340243f",
   "metadata": {},
   "outputs": [],
   "source": []
  }
 ],
 "metadata": {
  "kernelspec": {
   "display_name": "Python 3 (ipykernel)",
   "language": "python",
   "name": "python3"
  },
  "language_info": {
   "codemirror_mode": {
    "name": "ipython",
    "version": 3
   },
   "file_extension": ".py",
   "mimetype": "text/x-python",
   "name": "python",
   "nbconvert_exporter": "python",
   "pygments_lexer": "ipython3",
   "version": "3.11.0"
  }
 },
 "nbformat": 4,
 "nbformat_minor": 5
}
