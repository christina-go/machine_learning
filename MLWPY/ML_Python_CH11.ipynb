{
 "cells": [
  {
   "cell_type": "code",
   "execution_count": 1,
   "id": "ded32246",
   "metadata": {},
   "outputs": [],
   "source": [
    "from mlwpy import *\n",
    "%matplotlib inline\n",
    "\n",
    "iris = datasets.load_iris()\n",
    "diabetes = datasets.load_diabetes()\n",
    "digits = datasets.load_digits()"
   ]
  },
  {
   "cell_type": "markdown",
   "id": "338f8213",
   "metadata": {},
   "source": [
    "## Models, Parameters, Hyperparameters"
   ]
  },
  {
   "cell_type": "code",
   "execution_count": 2,
   "id": "b2ff8b18",
   "metadata": {},
   "outputs": [
    {
     "data": {
      "text/plain": [
       "True"
      ]
     },
     "execution_count": 2,
     "metadata": {},
     "output_type": "execute_result"
    }
   ],
   "source": [
    "def add_three(x):\n",
    "    return 3 + x\n",
    "def add(x, y):\n",
    "    return x + y\n",
    "\n",
    "add(10,3) == add_three(10)"
   ]
  },
  {
   "cell_type": "code",
   "execution_count": 3,
   "id": "ef4cc10c",
   "metadata": {},
   "outputs": [],
   "source": [
    "def make_adder(k):\n",
    "    def add_k(x):\n",
    "        return x + k\n",
    "    return add_k"
   ]
  },
  {
   "cell_type": "code",
   "execution_count": 4,
   "id": "851b3d9f",
   "metadata": {},
   "outputs": [
    {
     "data": {
      "text/plain": [
       "3"
      ]
     },
     "execution_count": 4,
     "metadata": {},
     "output_type": "execute_result"
    }
   ],
   "source": [
    "three_adder = make_adder(3)\n",
    "\n",
    "three_adder(10 == add_three(10))"
   ]
  },
  {
   "cell_type": "code",
   "execution_count": 5,
   "id": "4868c5d7",
   "metadata": {},
   "outputs": [
    {
     "name": "stdout",
     "output_type": "stream",
     "text": [
      "algorithm leaf_size metric metric_params n_jobs n_neighbors p weights\n"
     ]
    }
   ],
   "source": [
    "knn = neighbors.KNeighborsClassifier()\n",
    "print(\" \".join(knn.get_params().keys()))"
   ]
  },
  {
   "cell_type": "code",
   "execution_count": 6,
   "id": "9e57f4e2",
   "metadata": {},
   "outputs": [
    {
     "data": {
      "text/plain": [
       "GridSearchCV(cv=10, estimator=KNeighborsClassifier(),\n",
       "             param_grid={'n_neighbors': [1, 3, 5, 10, 20]},\n",
       "             return_train_score=True)"
      ]
     },
     "execution_count": 6,
     "metadata": {},
     "output_type": "execute_result"
    }
   ],
   "source": [
    "param_grid = {\"n_neighbors\" : [1,3,5,10,20]}\n",
    "\n",
    "knn = neighbors.KNeighborsClassifier()\n",
    "\n",
    "# NOTE: this is with accuracy\n",
    "grid_model = skms.GridSearchCV(knn, return_train_score=True,\n",
    "                               param_grid=param_grid, cv=10)\n",
    "\n",
    "grid_model.fit(digits.data, digits.target)"
   ]
  },
  {
   "cell_type": "code",
   "execution_count": 7,
   "id": "47028ea9",
   "metadata": {},
   "outputs": [
    {
     "data": {
      "text/html": [
       "<div>\n",
       "<style scoped>\n",
       "    .dataframe tbody tr th:only-of-type {\n",
       "        vertical-align: middle;\n",
       "    }\n",
       "\n",
       "    .dataframe tbody tr th {\n",
       "        vertical-align: top;\n",
       "    }\n",
       "\n",
       "    .dataframe thead th {\n",
       "        text-align: right;\n",
       "    }\n",
       "</style>\n",
       "<table border=\"1\" class=\"dataframe\">\n",
       "  <thead>\n",
       "    <tr style=\"text-align: right;\">\n",
       "      <th></th>\n",
       "      <th>param_n_neighbors</th>\n",
       "      <th>mean_train_score</th>\n",
       "      <th>std_train_score</th>\n",
       "      <th>mean_test_score</th>\n",
       "      <th>std_test_score</th>\n",
       "    </tr>\n",
       "  </thead>\n",
       "  <tbody>\n",
       "    <tr>\n",
       "      <th>0</th>\n",
       "      <td>1</td>\n",
       "      <td>1.0000</td>\n",
       "      <td>0.0000</td>\n",
       "      <td>0.9750</td>\n",
       "      <td>0.0171</td>\n",
       "    </tr>\n",
       "    <tr>\n",
       "      <th>1</th>\n",
       "      <td>3</td>\n",
       "      <td>0.9933</td>\n",
       "      <td>0.0008</td>\n",
       "      <td>0.9766</td>\n",
       "      <td>0.0155</td>\n",
       "    </tr>\n",
       "    <tr>\n",
       "      <th>2</th>\n",
       "      <td>5</td>\n",
       "      <td>0.9905</td>\n",
       "      <td>0.0006</td>\n",
       "      <td>0.9711</td>\n",
       "      <td>0.0172</td>\n",
       "    </tr>\n",
       "    <tr>\n",
       "      <th>3</th>\n",
       "      <td>10</td>\n",
       "      <td>0.9858</td>\n",
       "      <td>0.0013</td>\n",
       "      <td>0.9622</td>\n",
       "      <td>0.0205</td>\n",
       "    </tr>\n",
       "    <tr>\n",
       "      <th>4</th>\n",
       "      <td>20</td>\n",
       "      <td>0.9807</td>\n",
       "      <td>0.0017</td>\n",
       "      <td>0.9588</td>\n",
       "      <td>0.0224</td>\n",
       "    </tr>\n",
       "  </tbody>\n",
       "</table>\n",
       "</div>"
      ],
      "text/latex": [
       "\\begin{tabular}{llrrrr}\n",
       "\\toprule\n",
       "{} & param\\_n\\_neighbors &     mean\\_train\\_score &      std\\_train\\_score &      mean\\_test\\_score &       std\\_test\\_score \\\\\n",
       "\\midrule\n",
       "0 &                 1 &               1.0000 &               0.0000 &               0.9750 &               0.0171 \\\\\n",
       "1 &                 3 &               0.9933 &               0.0008 &               0.9766 &               0.0155 \\\\\n",
       "2 &                 5 &               0.9905 &               0.0006 &               0.9711 &               0.0172 \\\\\n",
       "3 &                10 &               0.9858 &               0.0013 &               0.9622 &               0.0205 \\\\\n",
       "4 &                20 &               0.9807 &               0.0017 &               0.9588 &               0.0224 \\\\\n",
       "\\bottomrule\n",
       "\\end{tabular}\n"
      ],
      "text/plain": [
       "  param_n_neighbors     mean_train_score      std_train_score  \\\n",
       "0                 1               1.0000               0.0000   \n",
       "1                 3               0.9933               0.0008   \n",
       "2                 5               0.9905               0.0006   \n",
       "3                10               0.9858               0.0013   \n",
       "4                20               0.9807               0.0017   \n",
       "\n",
       "       mean_test_score       std_test_score  \n",
       "0               0.9750               0.0171  \n",
       "1               0.9766               0.0155  \n",
       "2               0.9711               0.0172  \n",
       "3               0.9622               0.0205  \n",
       "4               0.9588               0.0224  "
      ]
     },
     "metadata": {},
     "output_type": "display_data"
    }
   ],
   "source": [
    "# many columns in .cv_results_\n",
    "# all params are also available in 'params' column as dict\n",
    "param_cols = ['param_n_neighbors']\n",
    "score_cols = ['mean_train_score', 'std_train_score',\n",
    "              'mean_test_score', 'std_test_score']\n",
    "\n",
    "# look at first five params with head()\n",
    "df = pd.DataFrame(grid_model.cv_results_).head()\n",
    "\n",
    "display(df[param_cols + score_cols])"
   ]
  },
  {
   "cell_type": "code",
   "execution_count": 8,
   "id": "a48f830e",
   "metadata": {},
   "outputs": [
    {
     "data": {
      "text/html": [
       "<div>\n",
       "<style scoped>\n",
       "    .dataframe tbody tr th:only-of-type {\n",
       "        vertical-align: middle;\n",
       "    }\n",
       "\n",
       "    .dataframe tbody tr th {\n",
       "        vertical-align: top;\n",
       "    }\n",
       "\n",
       "    .dataframe thead th {\n",
       "        text-align: right;\n",
       "    }\n",
       "</style>\n",
       "<table border=\"1\" class=\"dataframe\">\n",
       "  <thead>\n",
       "    <tr style=\"text-align: right;\">\n",
       "      <th></th>\n",
       "      <th>mean_train_score</th>\n",
       "      <th>mean_test_score</th>\n",
       "    </tr>\n",
       "    <tr>\n",
       "      <th>param_n_neighbors</th>\n",
       "      <th></th>\n",
       "      <th></th>\n",
       "    </tr>\n",
       "  </thead>\n",
       "  <tbody>\n",
       "    <tr>\n",
       "      <th>1</th>\n",
       "      <td>1.0000</td>\n",
       "      <td>0.9750</td>\n",
       "    </tr>\n",
       "    <tr>\n",
       "      <th>3</th>\n",
       "      <td>0.9933</td>\n",
       "      <td>0.9766</td>\n",
       "    </tr>\n",
       "    <tr>\n",
       "      <th>5</th>\n",
       "      <td>0.9905</td>\n",
       "      <td>0.9711</td>\n",
       "    </tr>\n",
       "    <tr>\n",
       "      <th>10</th>\n",
       "      <td>0.9858</td>\n",
       "      <td>0.9622</td>\n",
       "    </tr>\n",
       "    <tr>\n",
       "      <th>20</th>\n",
       "      <td>0.9807</td>\n",
       "      <td>0.9588</td>\n",
       "    </tr>\n",
       "  </tbody>\n",
       "</table>\n",
       "</div>"
      ],
      "text/latex": [
       "\\begin{tabular}{lrr}\n",
       "\\toprule\n",
       "{} &     mean\\_train\\_score &      mean\\_test\\_score \\\\\n",
       "param\\_n\\_neighbors &                      &                      \\\\\n",
       "\\midrule\n",
       "1                 &               1.0000 &               0.9750 \\\\\n",
       "3                 &               0.9933 &               0.9766 \\\\\n",
       "5                 &               0.9905 &               0.9711 \\\\\n",
       "10                &               0.9858 &               0.9622 \\\\\n",
       "20                &               0.9807 &               0.9588 \\\\\n",
       "\\bottomrule\n",
       "\\end{tabular}\n"
      ],
      "text/plain": [
       "                      mean_train_score      mean_test_score\n",
       "param_n_neighbors                                          \n",
       "1                               1.0000               0.9750\n",
       "3                               0.9933               0.9766\n",
       "5                               0.9905               0.9711\n",
       "10                              0.9858               0.9622\n",
       "20                              0.9807               0.9588"
      ]
     },
     "metadata": {},
     "output_type": "display_data"
    }
   ],
   "source": [
    "# subselect columns of interest:\n",
    "# param_* is a bit verbose\n",
    "\n",
    "grid_df = pd.DataFrame(grid_model.cv_results_, \n",
    "                       columns=['param_n_neighbors',\n",
    "                                'mean_train_score',\n",
    "                                'mean_test_score'])\n",
    "\n",
    "grid_df.set_index('param_n_neighbors', inplace=True)\n",
    "display(grid_df)"
   ]
  },
  {
   "cell_type": "code",
   "execution_count": 9,
   "id": "6794eb3f",
   "metadata": {},
   "outputs": [
    {
     "data": {
      "image/png": "[encoded data removed]",
      "text/plain": [
       "<Figure size 400x300 with 1 Axes>"
      ]
     },
     "metadata": {},
     "output_type": "display_data"
    }
   ],
   "source": [
    "ax = grid_df.plot.line(marker='.')\n",
    "ax.set_xticks(grid_df.index);"
   ]
  },
  {
   "cell_type": "code",
   "execution_count": 10,
   "id": "368785bb",
   "metadata": {},
   "outputs": [],
   "source": [
    "def best_model_hyper_params(make_a_model, some_hyper_params,data):\n",
    "    results = {}\n",
    "    \n",
    "    for hyper_params in it.combinations(some_hyper_params):\n",
    "        for train,test in make_cv_split(data):\n",
    "            model = make_a_model('hyper_params').fit(train)\n",
    "            key = tuple(hyper_params)\n",
    "            if key not in results:\n",
    "                results[key] = []\n",
    "            results[key].append(score(test, model.predict(test)))\n",
    "            \n",
    "    best_hp = max(results, key=results.get)\n",
    "    best_model = make_a_model('best_hp').fit(data)\n",
    "    return best_model\n",
    "\n",
    "def do_it():\n",
    "    model = pick_a_model\n",
    "    \n",
    "    some_hyper_params = [values_for_hyper_param_1,\n",
    "                        values_for_hyper_param_2,\n",
    "                        values_for_hyper_param_3]\n",
    "    \n",
    "    best_model_hyper_params(model_type,\n",
    "                            some_hyper_params,\n",
    "                            data)"
   ]
  },
  {
   "cell_type": "code",
   "execution_count": 11,
   "id": "a35638c3",
   "metadata": {},
   "outputs": [],
   "source": [
    "param_grid = {\"n_neighbors\" : np.arange(1,11),\n",
    "              \"weights\"     : ['uniform', 'distance'],\n",
    "              \"p\"           : [1,2,4,8,16]}\n",
    "\n",
    "knn = neighbors.KNeighborsClassifier()\n",
    "grid_model = skms.GridSearchCV(knn, param_grid = param_grid, cv=10)"
   ]
  },
  {
   "cell_type": "code",
   "execution_count": 12,
   "id": "5935369e",
   "metadata": {},
   "outputs": [
    {
     "name": "stdout",
     "output_type": "stream",
     "text": [
      "2.49 s ± 0 ns per loop (mean ± std. dev. of 1 run, 1 loop each)\n"
     ]
    }
   ],
   "source": [
    "# %timeit -r1 grid_model.fit(digits.data, digits.target)\n",
    "%timeit -r1 grid_model.fit(iris.data, iris.target)"
   ]
  },
  {
   "cell_type": "code",
   "execution_count": 13,
   "id": "e02d30b3",
   "metadata": {},
   "outputs": [
    {
     "data": {
      "text/html": [
       "<div>\n",
       "<style scoped>\n",
       "    .dataframe tbody tr th:only-of-type {\n",
       "        vertical-align: middle;\n",
       "    }\n",
       "\n",
       "    .dataframe tbody tr th {\n",
       "        vertical-align: top;\n",
       "    }\n",
       "\n",
       "    .dataframe thead th {\n",
       "        text-align: right;\n",
       "    }\n",
       "</style>\n",
       "<table border=\"1\" class=\"dataframe\">\n",
       "  <thead>\n",
       "    <tr style=\"text-align: right;\">\n",
       "      <th></th>\n",
       "      <th>n_neighbors</th>\n",
       "      <th>p</th>\n",
       "      <th>weights</th>\n",
       "      <th>mean_test_score</th>\n",
       "    </tr>\n",
       "  </thead>\n",
       "  <tbody>\n",
       "    <tr>\n",
       "      <th>75</th>\n",
       "      <td>8</td>\n",
       "      <td>4</td>\n",
       "      <td>distance</td>\n",
       "      <td>0.9800</td>\n",
       "    </tr>\n",
       "    <tr>\n",
       "      <th>74</th>\n",
       "      <td>8</td>\n",
       "      <td>4</td>\n",
       "      <td>uniform</td>\n",
       "      <td>0.9800</td>\n",
       "    </tr>\n",
       "    <tr>\n",
       "      <th>98</th>\n",
       "      <td>10</td>\n",
       "      <td>16</td>\n",
       "      <td>uniform</td>\n",
       "      <td>0.9800</td>\n",
       "    </tr>\n",
       "    <tr>\n",
       "      <th>88</th>\n",
       "      <td>9</td>\n",
       "      <td>16</td>\n",
       "      <td>uniform</td>\n",
       "      <td>0.9800</td>\n",
       "    </tr>\n",
       "    <tr>\n",
       "      <th>99</th>\n",
       "      <td>10</td>\n",
       "      <td>16</td>\n",
       "      <td>distance</td>\n",
       "      <td>0.9800</td>\n",
       "    </tr>\n",
       "  </tbody>\n",
       "</table>\n",
       "</div>"
      ],
      "text/latex": [
       "\\begin{tabular}{lrrlr}\n",
       "\\toprule\n",
       "{} &  n\\_neighbors &   p &   weights &      mean\\_test\\_score \\\\\n",
       "\\midrule\n",
       "75 &            8 &   4 &  distance &               0.9800 \\\\\n",
       "74 &            8 &   4 &   uniform &               0.9800 \\\\\n",
       "98 &           10 &  16 &   uniform &               0.9800 \\\\\n",
       "88 &            9 &  16 &   uniform &               0.9800 \\\\\n",
       "99 &           10 &  16 &  distance &               0.9800 \\\\\n",
       "\\bottomrule\n",
       "\\end{tabular}\n"
      ],
      "text/plain": [
       "    n_neighbors   p   weights      mean_test_score\n",
       "75            8   4  distance               0.9800\n",
       "74            8   4   uniform               0.9800\n",
       "98           10  16   uniform               0.9800\n",
       "88            9  16   uniform               0.9800\n",
       "99           10  16  distance               0.9800"
      ]
     },
     "execution_count": 13,
     "metadata": {},
     "output_type": "execute_result"
    }
   ],
   "source": [
    "param_df = pd.DataFrame.from_records(grid_model.cv_results_['params'])\n",
    "param_df['mean_test_score'] = grid_model.cv_results_['mean_test_score']\n",
    "param_df.sort_values(by=['mean_test_score']).tail()"
   ]
  },
  {
   "cell_type": "code",
   "execution_count": 14,
   "id": "97a8ce5d",
   "metadata": {},
   "outputs": [
    {
     "name": "stdout",
     "output_type": "stream",
     "text": [
      "Best Estimator:\n",
      "KNeighborsClassifier(n_neighbors=8, p=4)\n",
      "Best Score:\n",
      "0.9800000000000001\n",
      "Best Params:\n",
      "{'n_neighbors': 8, 'p': 4, 'weights': 'uniform'}\n"
     ]
    }
   ],
   "source": [
    "print(\"Best Estimator:\", grid_model.best_estimator_,\n",
    "      \"Best Score:\", grid_model.best_score_,\n",
    "      \"Best Params:\", grid_model.best_params_,sep=\"\\n\")"
   ]
  },
  {
   "cell_type": "code",
   "execution_count": 15,
   "id": "dbf1d2db",
   "metadata": {},
   "outputs": [
    {
     "name": "stdout",
     "output_type": "stream",
     "text": [
      "482 ms ± 0 ns per loop (mean ± std. dev. of 1 run, 1 loop each)\n",
      "0.9800000000000001\n"
     ]
    }
   ],
   "source": [
    "import scipy.stats as ss\n",
    "knn = neighbors.KNeighborsClassifier()\n",
    "param_dists = {\"n_neighbors\" : ss.randint(1,11),\n",
    "               \"weights\"     : ['uniform','distance'],\n",
    "               \"p\"           : ss.geom(p=.5)}\n",
    "\n",
    "mod = skms.RandomizedSearchCV(knn,\n",
    "                              param_distributions = param_dists,\n",
    "                              cv=10,\n",
    "                              n_iter=20)\n",
    "\n",
    "\n",
    "# fitting 20 models\n",
    "%timeit -r1 mod.fit(iris.data, iris.target)\n",
    "print(mod.best_score_)"
   ]
  },
  {
   "cell_type": "code",
   "execution_count": 16,
   "id": "a461ead8",
   "metadata": {},
   "outputs": [
    {
     "data": {
      "text/plain": [
       "<function sklearn.metrics._scorer._passthrough_scorer(estimator, *args, **kwargs)>"
      ]
     },
     "execution_count": 16,
     "metadata": {},
     "output_type": "execute_result"
    }
   ],
   "source": [
    "mod.scorer_"
   ]
  },
  {
   "cell_type": "code",
   "execution_count": null,
   "id": "3cd056c5",
   "metadata": {},
   "outputs": [],
   "source": []
  },
  {
   "cell_type": "code",
   "execution_count": 17,
   "id": "dd3f5d08",
   "metadata": {},
   "outputs": [],
   "source": [
    "param_grid = {\"n_neighbors\" : np.arange(1,11),\n",
    "              \"weights\"     : ['uniform', 'distance'],\n",
    "              \"p\"           : [1,2,4,8,16]}\n",
    "\n",
    "knn = neighbors.KNeighborsClassifier()\n",
    "grid_knn = skms.GridSearchCV(knn, param_grid = param_grid, cv=3)"
   ]
  },
  {
   "cell_type": "code",
   "execution_count": 18,
   "id": "30e96d27",
   "metadata": {},
   "outputs": [
    {
     "name": "stdout",
     "output_type": "stream",
     "text": [
      "[0.9667 1.     0.9333 0.9667 1.    ]\n"
     ]
    }
   ],
   "source": [
    "outer_scores = skms.cross_val_score(grid_knn, iris.data, iris.target,cv=5)\n",
    "\n",
    "print(outer_scores)"
   ]
  },
  {
   "cell_type": "code",
   "execution_count": 19,
   "id": "bbdc2d65",
   "metadata": {},
   "outputs": [],
   "source": [
    "def nested_cv_pseudo_code(all_data):\n",
    "    results = []\n",
    "    for outer_train, test in make_cv_split(all_data):\n",
    "        for hyper_params in hyper_parameter_possibilities:\n",
    "            for train, valid in make_cv_split(outer_train):\n",
    "                inner_score = evaluate(model.fit(train).predict(valid))\n",
    "        best_mod = xxx # choose model with best inner_score\n",
    "        preds = best_model.fit(outer_train).predict(test)\n",
    "        results.append(evaluate(preds))"
   ]
  },
  {
   "cell_type": "code",
   "execution_count": 20,
   "id": "25e9a01c",
   "metadata": {},
   "outputs": [
    {
     "name": "stdout",
     "output_type": "stream",
     "text": [
      "[0.9667 0.9667 0.9333 0.9667 1.    ]\n"
     ]
    }
   ],
   "source": [
    "param_grid = {\"n_neighbors\" : np.arange(1,11),\n",
    "              \"weights\"     : ['uniform', 'distance'],\n",
    "              \"p\"           : [1,2,4,8,16]}\n",
    "\n",
    "knn = neighbors.KNeighborsClassifier()\n",
    "grid_knn = skms.GridSearchCV(knn, param_grid = param_grid, cv=2)\n",
    "\n",
    "outer_scores = skms.cross_val_score(grid_knn, iris.data, iris.target,cv=5)\n",
    "print(outer_scores)"
   ]
  },
  {
   "cell_type": "code",
   "execution_count": 21,
   "id": "fea93d58",
   "metadata": {},
   "outputs": [
    {
     "data": {
      "text/plain": [
       "KNeighborsClassifier(n_neighbors=7, p=4, weights='distance')"
      ]
     },
     "execution_count": 21,
     "metadata": {},
     "output_type": "execute_result"
    }
   ],
   "source": [
    "grid_knn.fit(iris.data, iris.target)\n",
    "preferred_params = grid_knn.best_estimator_.get_params()\n",
    "final_knn = neighbors.KNeighborsClassifier(**preferred_params)\n",
    "final_knn.fit(iris.data, iris.target)"
   ]
  },
  {
   "cell_type": "markdown",
   "id": "845d7135",
   "metadata": {},
   "source": [
    "## Pipelines"
   ]
  },
  {
   "cell_type": "code",
   "execution_count": 22,
   "id": "d471b1f3",
   "metadata": {},
   "outputs": [
    {
     "name": "stdout",
     "output_type": "stream",
     "text": [
      "[1.     0.9333 1.     1.     0.9333 0.9333 0.8    1.     1.     1.    ]\n"
     ]
    }
   ],
   "source": [
    "scaler = skpre.StandardScaler()\n",
    "logreg = linear_model.LogisticRegression()\n",
    "\n",
    "pipe = pipeline.make_pipeline(scaler, logreg)\n",
    "print(skms.cross_val_score(pipe, iris.data, iris.target, cv=10))"
   ]
  },
  {
   "cell_type": "code",
   "execution_count": 23,
   "id": "c84c3dc9",
   "metadata": {},
   "outputs": [
    {
     "name": "stdout",
     "output_type": "stream",
     "text": [
      "<class 'sklearn.linear_model._logistic.LogisticRegression'>\n",
      "logisticregression\n"
     ]
    }
   ],
   "source": [
    "def extract_name(obj):\n",
    "    return str(logreg.__class__).split('.')[-1][:-2].lower()\n",
    "\n",
    "\n",
    "print(logreg.__class__)\n",
    "print(extract_name(logreg))"
   ]
  },
  {
   "cell_type": "code",
   "execution_count": 24,
   "id": "e3e84c56",
   "metadata": {},
   "outputs": [
    {
     "data": {
      "text/plain": [
       "dict_keys(['standardscaler', 'logisticregression'])"
      ]
     },
     "execution_count": 24,
     "metadata": {},
     "output_type": "execute_result"
    }
   ],
   "source": [
    "pipe.named_steps.keys()"
   ]
  },
  {
   "cell_type": "code",
   "execution_count": null,
   "id": "91c72970",
   "metadata": {},
   "outputs": [],
   "source": []
  },
  {
   "cell_type": "code",
   "execution_count": 25,
   "id": "5b02ac9d",
   "metadata": {},
   "outputs": [
    {
     "name": "stdout",
     "output_type": "stream",
     "text": [
      "dict_keys(['scaler', 'knn'])\n",
      "[1.     0.9333 1.     0.9333 0.8667 0.9333 0.8667 1.     1.     1.    ]\n"
     ]
    }
   ],
   "source": [
    "pipe = pipeline.Pipeline(steps=[('scaler', scaler),\n",
    "                                ('knn', knn)])\n",
    "\n",
    "cv_scores = skms.cross_val_score(pipe, iris.data, iris.target, \n",
    "                                 cv=10, n_jobs=-1)\n",
    "\n",
    "print(pipe.named_steps.keys())\n",
    "print(cv_scores)"
   ]
  },
  {
   "cell_type": "code",
   "execution_count": 26,
   "id": "a274c270",
   "metadata": {},
   "outputs": [],
   "source": [
    "from sklearn.base import TransformerMixin\n",
    "\n",
    "class Median_Big_Small(TransformerMixin):\n",
    "    def __init__(self):\n",
    "        pass\n",
    "    def fit(self, ftrs, tgt=None):\n",
    "        self.medians = np.median(ftrs)\n",
    "        return self\n",
    "    def transform(self, ftrs, tgt=None):\n",
    "        return ftrs > self.medians"
   ]
  },
  {
   "cell_type": "code",
   "execution_count": 27,
   "id": "37a199f8",
   "metadata": {},
   "outputs": [
    {
     "name": "stdout",
     "output_type": "stream",
     "text": [
      "[0.6    0.6667 0.8    0.7333 0.8    0.6667 0.6667 0.6667 0.8667 0.8   ]\n"
     ]
    }
   ],
   "source": [
    "scaler = skpre.StandardScaler()\n",
    "quad_inters = skpre.PolynomialFeatures(degree=2, interaction_only=True,\n",
    "                                       include_bias=False)\n",
    "\n",
    "median_big_small = Median_Big_Small()\n",
    "knn = neighbors.KNeighborsClassifier()\n",
    "\n",
    "pipe = pipeline.Pipeline(steps=[('scaler', scaler),\n",
    "                                ('inter', quad_inters),\n",
    "                                ('mbs', median_big_small),\n",
    "                                ('knn', knn)])\n",
    "\n",
    "cv_scores = skms.cross_val_score(pipe, iris.data, iris.target, cv=10)\n",
    "\n",
    "print(cv_scores)"
   ]
  },
  {
   "cell_type": "code",
   "execution_count": 28,
   "id": "5570c009",
   "metadata": {},
   "outputs": [],
   "source": [
    "# create pipeline components and pipeline\n",
    "scaler = skpre.StandardScaler()\n",
    "poly = skpre.PolynomialFeatures()\n",
    "lasso = linear_model.Lasso(selection='random', tol=0.1)\n",
    "pipe = pipeline.make_pipeline(scaler, poly, lasso)"
   ]
  },
  {
   "cell_type": "code",
   "execution_count": 29,
   "id": "7e6248ce",
   "metadata": {},
   "outputs": [
    {
     "name": "stdout",
     "output_type": "stream",
     "text": [
      "{'lasso__alpha': array([ 2.,  4.,  8., 16., 32., 64.]),\n",
      " 'polynomialfeatures__degree': array([2, 3, 4, 5])}\n"
     ]
    }
   ],
   "source": [
    "# specified hyperparameters to compare\n",
    "param_grid = {\"polynomialfeatures__degree\" : np.arange(2,6),\n",
    "              \"lasso__alpha\"               : np.logspace(1,6,6,base=2)}\n",
    "\n",
    "from pprint import pprint as pp\n",
    "pp(param_grid)"
   ]
  },
  {
   "cell_type": "code",
   "execution_count": 30,
   "id": "31695c68",
   "metadata": {},
   "outputs": [
    {
     "data": {
      "text/plain": [
       "GridSearchCV(estimator=Pipeline(steps=[('standardscaler', StandardScaler()),\n",
       "                                       ('polynomialfeatures',\n",
       "                                        PolynomialFeatures()),\n",
       "                                       ('lasso',\n",
       "                                        Lasso(selection='random', tol=0.1))]),\n",
       "             n_jobs=-1,\n",
       "             param_grid={'lasso__alpha': array([ 2.,  4.,  8., 16., 32., 64.]),\n",
       "                         'polynomialfeatures__degree': array([2, 3, 4, 5])})"
      ]
     },
     "execution_count": 30,
     "metadata": {},
     "output_type": "execute_result"
    }
   ],
   "source": [
    "# iid to silence warning\n",
    "mod = skms.GridSearchCV(pipe, param_grid, n_jobs=-1)\n",
    "mod.fit(diabetes.data, diabetes.target)\n",
    "\n"
   ]
  },
  {
   "cell_type": "code",
   "execution_count": 31,
   "id": "e741e821",
   "metadata": {},
   "outputs": [
    {
     "name": "stdout",
     "output_type": "stream",
     "text": [
      "Step: standardscaler\n",
      "      StandardScaler()\n",
      "Step: polynomialfeatures\n",
      "      PolynomialFeatures()\n",
      "Step: lasso\n",
      "      Lasso(alpha=4.0, selection='random', tol=0.1)\n"
     ]
    }
   ],
   "source": [
    "for name, step in mod.best_estimator_.named_steps.items():\n",
    "    print(\"Step:\", name)\n",
    "    print(textwrap.indent(textwrap.fill(str(step), 50), \" \" * 6))"
   ]
  },
  {
   "cell_type": "code",
   "execution_count": 32,
   "id": "81eda8ac",
   "metadata": {},
   "outputs": [
    {
     "name": "stdout",
     "output_type": "stream",
     "text": [
      "{'lasso__alpha': 4.0, 'polynomialfeatures__degree': 2}\n"
     ]
    },
    {
     "name": "stderr",
     "output_type": "stream",
     "text": [
      "/usr/local/anaconda3/envs/ML/lib/python3.8/site-packages/sklearn/neighbors/_classification.py:228: FutureWarning: Unlike other reduction functions (e.g. `skew`, `kurtosis`), the default behavior of `mode` typically preserves the axis it acts along. In SciPy 1.11.0, this behavior will change: the default value of `keepdims` will become False, the `axis` over which the statistic is taken will be eliminated, and the value None will no longer be accepted. Set `keepdims` to True or False to avoid this warning.\n",
      "  mode, _ = stats.mode(_y[neigh_ind, k], axis=1)\n",
      "/usr/local/anaconda3/envs/ML/lib/python3.8/site-packages/sklearn/neighbors/_classification.py:228: FutureWarning: Unlike other reduction functions (e.g. `skew`, `kurtosis`), the default behavior of `mode` typically preserves the axis it acts along. In SciPy 1.11.0, this behavior will change: the default value of `keepdims` will become False, the `axis` over which the statistic is taken will be eliminated, and the value None will no longer be accepted. Set `keepdims` to True or False to avoid this warning.\n",
      "  mode, _ = stats.mode(_y[neigh_ind, k], axis=1)\n",
      "/usr/local/anaconda3/envs/ML/lib/python3.8/site-packages/sklearn/neighbors/_classification.py:228: FutureWarning: Unlike other reduction functions (e.g. `skew`, `kurtosis`), the default behavior of `mode` typically preserves the axis it acts along. In SciPy 1.11.0, this behavior will change: the default value of `keepdims` will become False, the `axis` over which the statistic is taken will be eliminated, and the value None will no longer be accepted. Set `keepdims` to True or False to avoid this warning.\n",
      "  mode, _ = stats.mode(_y[neigh_ind, k], axis=1)\n",
      "/usr/local/anaconda3/envs/ML/lib/python3.8/site-packages/sklearn/neighbors/_classification.py:228: FutureWarning: Unlike other reduction functions (e.g. `skew`, `kurtosis`), the default behavior of `mode` typically preserves the axis it acts along. In SciPy 1.11.0, this behavior will change: the default value of `keepdims` will become False, the `axis` over which the statistic is taken will be eliminated, and the value None will no longer be accepted. Set `keepdims` to True or False to avoid this warning.\n",
      "  mode, _ = stats.mode(_y[neigh_ind, k], axis=1)\n",
      "/usr/local/anaconda3/envs/ML/lib/python3.8/site-packages/sklearn/neighbors/_classification.py:228: FutureWarning: Unlike other reduction functions (e.g. `skew`, `kurtosis`), the default behavior of `mode` typically preserves the axis it acts along. In SciPy 1.11.0, this behavior will change: the default value of `keepdims` will become False, the `axis` over which the statistic is taken will be eliminated, and the value None will no longer be accepted. Set `keepdims` to True or False to avoid this warning.\n",
      "  mode, _ = stats.mode(_y[neigh_ind, k], axis=1)\n",
      "/usr/local/anaconda3/envs/ML/lib/python3.8/site-packages/sklearn/neighbors/_classification.py:228: FutureWarning: Unlike other reduction functions (e.g. `skew`, `kurtosis`), the default behavior of `mode` typically preserves the axis it acts along. In SciPy 1.11.0, this behavior will change: the default value of `keepdims` will become False, the `axis` over which the statistic is taken will be eliminated, and the value None will no longer be accepted. Set `keepdims` to True or False to avoid this warning.\n",
      "  mode, _ = stats.mode(_y[neigh_ind, k], axis=1)\n",
      "/usr/local/anaconda3/envs/ML/lib/python3.8/site-packages/sklearn/neighbors/_classification.py:228: FutureWarning: Unlike other reduction functions (e.g. `skew`, `kurtosis`), the default behavior of `mode` typically preserves the axis it acts along. In SciPy 1.11.0, this behavior will change: the default value of `keepdims` will become False, the `axis` over which the statistic is taken will be eliminated, and the value None will no longer be accepted. Set `keepdims` to True or False to avoid this warning.\n",
      "  mode, _ = stats.mode(_y[neigh_ind, k], axis=1)\n",
      "/usr/local/anaconda3/envs/ML/lib/python3.8/site-packages/sklearn/neighbors/_classification.py:228: FutureWarning: Unlike other reduction functions (e.g. `skew`, `kurtosis`), the default behavior of `mode` typically preserves the axis it acts along. In SciPy 1.11.0, this behavior will change: the default value of `keepdims` will become False, the `axis` over which the statistic is taken will be eliminated, and the value None will no longer be accepted. Set `keepdims` to True or False to avoid this warning.\n",
      "  mode, _ = stats.mode(_y[neigh_ind, k], axis=1)\n",
      "/usr/local/anaconda3/envs/ML/lib/python3.8/site-packages/sklearn/neighbors/_classification.py:228: FutureWarning: Unlike other reduction functions (e.g. `skew`, `kurtosis`), the default behavior of `mode` typically preserves the axis it acts along. In SciPy 1.11.0, this behavior will change: the default value of `keepdims` will become False, the `axis` over which the statistic is taken will be eliminated, and the value None will no longer be accepted. Set `keepdims` to True or False to avoid this warning.\n",
      "  mode, _ = stats.mode(_y[neigh_ind, k], axis=1)\n",
      "/usr/local/anaconda3/envs/ML/lib/python3.8/site-packages/sklearn/neighbors/_classification.py:228: FutureWarning: Unlike other reduction functions (e.g. `skew`, `kurtosis`), the default behavior of `mode` typically preserves the axis it acts along. In SciPy 1.11.0, this behavior will change: the default value of `keepdims` will become False, the `axis` over which the statistic is taken will be eliminated, and the value None will no longer be accepted. Set `keepdims` to True or False to avoid this warning.\n",
      "  mode, _ = stats.mode(_y[neigh_ind, k], axis=1)\n"
     ]
    }
   ],
   "source": [
    "pp(mod.best_params_)"
   ]
  },
  {
   "cell_type": "code",
   "execution_count": 3,
   "id": "04e54bf4",
   "metadata": {},
   "outputs": [
    {
     "name": "stdout",
     "output_type": "stream",
     "text": [
      "[12:47:27] WARNING: ../src/learner.cc:1115: Starting in XGBoost 1.3.0, the default evaluation metric used with the objective 'multi:softprob' was changed from 'merror' to 'mlogloss'. Explicitly set eval_metric if you'd like to restore the old behavior.\n",
      "[12:47:27] WARNING: ../src/learner.cc:1115: Starting in XGBoost 1.3.0, the default evaluation metric used with the objective 'multi:softprob' was changed from 'merror' to 'mlogloss'. Explicitly set eval_metric if you'd like to restore the old behavior.\n",
      "[12:47:28] WARNING: ../src/learner.cc:1115: Starting in XGBoost 1.3.0, the default evaluation metric used with the objective 'multi:softprob' was changed from 'merror' to 'mlogloss'. Explicitly set eval_metric if you'd like to restore the old behavior.\n",
      "[12:47:28] WARNING: ../src/learner.cc:1115: Starting in XGBoost 1.3.0, the default evaluation metric used with the objective 'multi:softprob' was changed from 'merror' to 'mlogloss'. Explicitly set eval_metric if you'd like to restore the old behavior.\n",
      "[12:47:28] WARNING: ../src/learner.cc:1115: Starting in XGBoost 1.3.0, the default evaluation metric used with the objective 'multi:softprob' was changed from 'merror' to 'mlogloss'. Explicitly set eval_metric if you'd like to restore the old behavior.\n",
      "[12:47:28] WARNING: ../src/learner.cc:1115: Starting in XGBoost 1.3.0, the default evaluation metric used with the objective 'multi:softprob' was changed from 'merror' to 'mlogloss'. Explicitly set eval_metric if you'd like to restore the old behavior.\n",
      "[12:47:28] WARNING: ../src/learner.cc:1115: Starting in XGBoost 1.3.0, the default evaluation metric used with the objective 'multi:softprob' was changed from 'merror' to 'mlogloss'. Explicitly set eval_metric if you'd like to restore the old behavior.\n",
      "[12:47:28] WARNING: ../src/learner.cc:1115: Starting in XGBoost 1.3.0, the default evaluation metric used with the objective 'multi:softprob' was changed from 'merror' to 'mlogloss'. Explicitly set eval_metric if you'd like to restore the old behavior.\n",
      "[12:47:29] WARNING: ../src/learner.cc:1115: Starting in XGBoost 1.3.0, the default evaluation metric used with the objective 'multi:softprob' was changed from 'merror' to 'mlogloss'. Explicitly set eval_metric if you'd like to restore the old behavior.\n",
      "[12:47:29] WARNING: ../src/learner.cc:1115: Starting in XGBoost 1.3.0, the default evaluation metric used with the objective 'multi:softprob' was changed from 'merror' to 'mlogloss'. Explicitly set eval_metric if you'd like to restore the old behavior.\n",
      "[1.     0.9333 1.     0.9333 0.9333 0.9333 0.9333 0.9333 1.     1.    ]\n"
     ]
    }
   ],
   "source": [
    "#cg: this code forces the kernel to restart - why?\n",
    "\n",
    "import xgboost\n",
    "\n",
    "xgbooster = xgboost.XGBClassifier(objective=\"multi:softmax\")\n",
    "scores = skms.cross_val_score(xgbooster, iris.data, iris.target, cv=10)\n",
    "print(scores)"
   ]
  },
  {
   "cell_type": "code",
   "execution_count": null,
   "id": "37a2b669",
   "metadata": {},
   "outputs": [],
   "source": []
  }
 ],
 "metadata": {
  "kernelspec": {
   "display_name": "Python 3 (ipykernel)",
   "language": "python",
   "name": "python3"
  },
  "language_info": {
   "codemirror_mode": {
    "name": "ipython",
    "version": 3
   },
   "file_extension": ".py",
   "mimetype": "text/x-python",
   "name": "python",
   "nbconvert_exporter": "python",
   "pygments_lexer": "ipython3",
   "version": "3.8.16"
  }
 },
 "nbformat": 4,
 "nbformat_minor": 5
}
