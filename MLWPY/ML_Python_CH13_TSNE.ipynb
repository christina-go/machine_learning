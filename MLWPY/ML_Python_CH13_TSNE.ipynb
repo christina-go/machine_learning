{
 "cells": [
  {
   "cell_type": "code",
   "execution_count": 3,
   "id": "99c86ae3",
   "metadata": {},
   "outputs": [],
   "source": [
    "#import matplotlib.pyplot as plt\n",
    "from sklearn.datasets import make_s_curve\n",
    "from sklearn.manifold import TSNE\n",
    "from matplotlib.pyplot import subplots\n",
    "\n",
    "data_3d, color = make_s_curve(n_samples=10)\n",
    "#cmap = plt.cm.Spectral\n",
    "\n",
    "# method 2: map to 2D using TSNE\n",
    "# keeps killing my kernel :(\n",
    "n_components = 2\n",
    "tsne = TSNE(n_components=2)\n",
    "#data_2d = tsne.fit_transform(data_3d)\n"
   ]
  },
  {
   "cell_type": "code",
   "execution_count": 4,
   "id": "70da8440",
   "metadata": {},
   "outputs": [
    {
     "name": "stderr",
     "output_type": "stream",
     "text": [
      "/usr/local/anaconda3/envs/ML/lib/python3.8/site-packages/sklearn/manifold/_t_sne.py:780: FutureWarning: The default initialization in TSNE will change from 'random' to 'pca' in 1.2.\n",
      "  warnings.warn(\n",
      "/usr/local/anaconda3/envs/ML/lib/python3.8/site-packages/sklearn/manifold/_t_sne.py:790: FutureWarning: The default learning rate in TSNE will change from 200.0 to 'auto' in 1.2.\n",
      "  warnings.warn(\n"
     ]
    }
   ],
   "source": [
    "data_2d = tsne.fit_transform(data_3d)"
   ]
  },
  {
   "cell_type": "code",
   "execution_count": null,
   "id": "8c33b1e0",
   "metadata": {},
   "outputs": [],
   "source": [
    "fig, ax = subplots()\n",
    "ax.scatter(*data_2d.T, c=color)"
   ]
  }
 ],
 "metadata": {
  "kernelspec": {
   "display_name": "Python 3 (ipykernel)",
   "language": "python",
   "name": "python3"
  },
  "language_info": {
   "codemirror_mode": {
    "name": "ipython",
    "version": 3
   },
   "file_extension": ".py",
   "mimetype": "text/x-python",
   "name": "python",
   "nbconvert_exporter": "python",
   "pygments_lexer": "ipython3",
   "version": "3.8.16"
  }
 },
 "nbformat": 4,
 "nbformat_minor": 5
}
