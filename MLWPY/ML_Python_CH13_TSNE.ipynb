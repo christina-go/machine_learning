{
 "cells": [
  {
   "cell_type": "code",
   "execution_count": 1,
   "id": "99c86ae3",
   "metadata": {},
   "outputs": [],
   "source": [
    "import matplotlib.pyplot as plt\n",
    "from sklearn.datasets import make_s_curve\n",
    "from sklearn.manifold import TSNE\n",
    "\n",
    "data_3d, color = make_s_curve(n_samples=750, random_state=27)\n",
    "cmap = plt.cm.Spectral\n",
    "\n",
    "# method 2: map to 2D using TSNE\n",
    "n_components = 2\n",
    "tsne = TSNE(n_components=2)"
   ]
  },
  {
   "cell_type": "code",
   "execution_count": null,
   "id": "70da8440",
   "metadata": {},
   "outputs": [],
   "source": [
    "# keeps killing my kernel :(\n",
    "data_2d = tsne.fit_transform(data_3d)\n"
   ]
  },
  {
   "cell_type": "code",
   "execution_count": null,
   "id": "80ac46ef",
   "metadata": {},
   "outputs": [],
   "source": []
  },
  {
   "cell_type": "code",
   "execution_count": null,
   "id": "8c33b1e0",
   "metadata": {},
   "outputs": [],
   "source": [
    "fig, ax = plt.subplots()\n",
    "ax.scatter(*data_2d.T, c=color, cmap=cmap)"
   ]
  }
 ],
 "metadata": {
  "kernelspec": {
   "display_name": "Python 3 (ipykernel)",
   "language": "python",
   "name": "python3"
  },
  "language_info": {
   "codemirror_mode": {
    "name": "ipython",
    "version": 3
   },
   "file_extension": ".py",
   "mimetype": "text/x-python",
   "name": "python",
   "nbconvert_exporter": "python",
   "pygments_lexer": "ipython3",
   "version": "3.8.16"
  }
 },
 "nbformat": 4,
 "nbformat_minor": 5
}
