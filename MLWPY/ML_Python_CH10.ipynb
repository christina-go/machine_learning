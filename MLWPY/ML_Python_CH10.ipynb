{
 "cells": [
  {
   "cell_type": "code",
   "execution_count": 1,
   "id": "e67caca0",
   "metadata": {},
   "outputs": [],
   "source": [
    "from mlwpy import *\n",
    "%matplotlib inline\n",
    "\n",
    "iris = datasets.load_iris()"
   ]
  },
  {
   "cell_type": "code",
   "execution_count": 2,
   "id": "26128322",
   "metadata": {},
   "outputs": [],
   "source": [
    "(iris_train, iris_test, \n",
    " iris_train_tgt, iris_test_tgt) = skms.train_test_split(iris.data, iris.target,\n",
    "                                                        test_size=.25)\n",
    "\n",
    "# remove units ' (cm)' from names\n",
    "iris.feature_names = [fn[:-5] for fn in iris.feature_names]\n",
    "\n",
    "# dataframe for convenience\n",
    "iris_df = pd.DataFrame(iris.data, columns=iris.feature_names)\n",
    "iris_df['species'] = iris.target_names[iris.target]"
   ]
  },
  {
   "cell_type": "code",
   "execution_count": 3,
   "id": "ad8fa5d3",
   "metadata": {},
   "outputs": [
    {
     "data": {
      "text/html": [
       "<div>\n",
       "<style scoped>\n",
       "    .dataframe tbody tr th:only-of-type {\n",
       "        vertical-align: middle;\n",
       "    }\n",
       "\n",
       "    .dataframe tbody tr th {\n",
       "        vertical-align: top;\n",
       "    }\n",
       "\n",
       "    .dataframe thead th {\n",
       "        text-align: right;\n",
       "    }\n",
       "</style>\n",
       "<table border=\"1\" class=\"dataframe\">\n",
       "  <thead>\n",
       "    <tr style=\"text-align: right;\">\n",
       "      <th></th>\n",
       "      <th>sepal length</th>\n",
       "      <th>sepal width</th>\n",
       "      <th>petal length</th>\n",
       "      <th>petal width</th>\n",
       "      <th>species</th>\n",
       "    </tr>\n",
       "  </thead>\n",
       "  <tbody>\n",
       "    <tr>\n",
       "      <th>0</th>\n",
       "      <td>5.1000</td>\n",
       "      <td>3.5000</td>\n",
       "      <td>1.4000</td>\n",
       "      <td>0.2000</td>\n",
       "      <td>setosa</td>\n",
       "    </tr>\n",
       "    <tr>\n",
       "      <th>1</th>\n",
       "      <td>4.9000</td>\n",
       "      <td>3.0000</td>\n",
       "      <td>1.4000</td>\n",
       "      <td>0.2000</td>\n",
       "      <td>setosa</td>\n",
       "    </tr>\n",
       "    <tr>\n",
       "      <th>2</th>\n",
       "      <td>4.7000</td>\n",
       "      <td>3.2000</td>\n",
       "      <td>1.3000</td>\n",
       "      <td>0.2000</td>\n",
       "      <td>setosa</td>\n",
       "    </tr>\n",
       "    <tr>\n",
       "      <th>3</th>\n",
       "      <td>4.6000</td>\n",
       "      <td>3.1000</td>\n",
       "      <td>1.5000</td>\n",
       "      <td>0.2000</td>\n",
       "      <td>setosa</td>\n",
       "    </tr>\n",
       "    <tr>\n",
       "      <th>4</th>\n",
       "      <td>5.0000</td>\n",
       "      <td>3.6000</td>\n",
       "      <td>1.4000</td>\n",
       "      <td>0.2000</td>\n",
       "      <td>setosa</td>\n",
       "    </tr>\n",
       "  </tbody>\n",
       "</table>\n",
       "</div>"
      ],
      "text/latex": [
       "\\begin{tabular}{lrrrrl}\n",
       "\\toprule\n",
       "{} &         sepal length &          sepal width &         petal length &          petal width & species \\\\\n",
       "\\midrule\n",
       "0 &               5.1000 &               3.5000 &               1.4000 &               0.2000 &  setosa \\\\\n",
       "1 &               4.9000 &               3.0000 &               1.4000 &               0.2000 &  setosa \\\\\n",
       "2 &               4.7000 &               3.2000 &               1.3000 &               0.2000 &  setosa \\\\\n",
       "3 &               4.6000 &               3.1000 &               1.5000 &               0.2000 &  setosa \\\\\n",
       "4 &               5.0000 &               3.6000 &               1.4000 &               0.2000 &  setosa \\\\\n",
       "\\bottomrule\n",
       "\\end{tabular}\n"
      ],
      "text/plain": [
       "          sepal length          sepal width         petal length  \\\n",
       "0               5.1000               3.5000               1.4000   \n",
       "1               4.9000               3.0000               1.4000   \n",
       "2               4.7000               3.2000               1.3000   \n",
       "3               4.6000               3.1000               1.5000   \n",
       "4               5.0000               3.6000               1.4000   \n",
       "\n",
       "           petal width species  \n",
       "0               0.2000  setosa  \n",
       "1               0.2000  setosa  \n",
       "2               0.2000  setosa  \n",
       "3               0.2000  setosa  \n",
       "4               0.2000  setosa  "
      ]
     },
     "execution_count": 3,
     "metadata": {},
     "output_type": "execute_result"
    }
   ],
   "source": [
    "iris_df.head()"
   ]
  },
  {
   "cell_type": "code",
   "execution_count": 4,
   "id": "df437462",
   "metadata": {},
   "outputs": [
    {
     "data": {
      "image/png": "[encoded data removed]",
      "text/plain": [
       "<Figure size 400x300 with 1 Axes>"
      ]
     },
     "metadata": {},
     "output_type": "display_data"
    }
   ],
   "source": [
    "fig, ax = plt.subplots(1,1,figsize=(4,3))\n",
    "f_temps = np.linspace(0, 212, 100)\n",
    "c_temps = (5/9) * (f_temps - 32)\n",
    "\n",
    "plt.plot(f_temps, f_temps, 'r', # F -> F\n",
    "         f_temps, c_temps, 'b'); # F -> C"
   ]
  },
  {
   "cell_type": "code",
   "execution_count": 5,
   "id": "492c959a",
   "metadata": {},
   "outputs": [
    {
     "data": {
      "image/png": "[encoded data removed]",
      "text/plain": [
       "<Figure size 400x300 with 1 Axes>"
      ]
     },
     "metadata": {},
     "output_type": "display_data"
    }
   ],
   "source": [
    "fig, ax = plt.subplots(1, 1, figsize=(4,3))\n",
    "original = np.random.uniform(-5, 5, 100)\n",
    "scaled = skpre.StandardScaler().fit_transform(original.reshape(-1,1))[:,0]\n",
    "bins = np.floor(original).astype(np.uint8) + 5\n",
    "\n",
    "df = pd.DataFrame({'original': original,\n",
    "                   'scaled': scaled,\n",
    "                   'hue': bins})\n",
    "\n",
    "df = pd.melt(df, id_vars='hue', var_name='scale')\n",
    "\n",
    "sns.swarmplot(x='scale', y='value', hue='hue', data=df).legend_.remove()"
   ]
  },
  {
   "cell_type": "code",
   "execution_count": 6,
   "id": "94701a91",
   "metadata": {},
   "outputs": [
    {
     "data": {
      "image/png": "[encoded data removed]",
      "text/plain": [
       "<Figure size 400x300 with 1 Axes>"
      ]
     },
     "metadata": {},
     "output_type": "display_data"
    }
   ],
   "source": [
    "iris_df = pd.DataFrame(iris.data, columns=iris.feature_names)\n",
    "\n",
    "bins = pd.cut(iris_df['sepal width'],\n",
    "             np.percentile(iris_df['sepal width'],\n",
    "                          [25, 50, 75, 100])).cat.codes\n",
    "\n",
    "df = pd.DataFrame({'orig':iris_df['sepal width'],\n",
    "                  'hue':bins})\n",
    "\n",
    "scalers = [('std', skpre.StandardScaler()),\n",
    "          ('01', skpre.MinMaxScaler()),\n",
    "          ('-1', skpre.MinMaxScaler((-1,1)))]\n",
    "\n",
    "for name, scaler in scalers:\n",
    "    df[name] = scaler.fit_transform(df[['orig']]).reshape(-1)\n",
    "    \n",
    "df = pd.melt(df, id_vars='hue', var_name='scale')\n",
    "sns.swarmplot(x='scale', y='value', hue='hue', data=df).legend_.remove()"
   ]
  },
  {
   "cell_type": "code",
   "execution_count": 7,
   "id": "c90013f5",
   "metadata": {},
   "outputs": [
    {
     "data": {
      "text/html": [
       "<div>\n",
       "<style scoped>\n",
       "    .dataframe tbody tr th:only-of-type {\n",
       "        vertical-align: middle;\n",
       "    }\n",
       "\n",
       "    .dataframe tbody tr th {\n",
       "        vertical-align: top;\n",
       "    }\n",
       "\n",
       "    .dataframe thead th {\n",
       "        text-align: right;\n",
       "    }\n",
       "</style>\n",
       "<table border=\"1\" class=\"dataframe\">\n",
       "  <thead>\n",
       "    <tr style=\"text-align: right;\">\n",
       "      <th></th>\n",
       "      <th>sepal length</th>\n",
       "      <th>sepal width</th>\n",
       "      <th>petal length</th>\n",
       "      <th>petal width</th>\n",
       "      <th>species</th>\n",
       "    </tr>\n",
       "  </thead>\n",
       "  <tbody>\n",
       "    <tr>\n",
       "      <th>0</th>\n",
       "      <td>5.1000</td>\n",
       "      <td>3.5000</td>\n",
       "      <td>1.4000</td>\n",
       "      <td>0.2000</td>\n",
       "      <td>setosa</td>\n",
       "    </tr>\n",
       "    <tr>\n",
       "      <th>50</th>\n",
       "      <td>7.0000</td>\n",
       "      <td>3.2000</td>\n",
       "      <td>4.7000</td>\n",
       "      <td>1.4000</td>\n",
       "      <td>versicolor</td>\n",
       "    </tr>\n",
       "    <tr>\n",
       "      <th>100</th>\n",
       "      <td>6.3000</td>\n",
       "      <td>3.3000</td>\n",
       "      <td>6.0000</td>\n",
       "      <td>2.5000</td>\n",
       "      <td>virginica</td>\n",
       "    </tr>\n",
       "  </tbody>\n",
       "</table>\n",
       "</div>"
      ],
      "text/latex": [
       "\\begin{tabular}{lrrrrl}\n",
       "\\toprule\n",
       "{} &         sepal length &          sepal width &         petal length &          petal width &     species \\\\\n",
       "\\midrule\n",
       "0   &               5.1000 &               3.5000 &               1.4000 &               0.2000 &      setosa \\\\\n",
       "50  &               7.0000 &               3.2000 &               4.7000 &               1.4000 &  versicolor \\\\\n",
       "100 &               6.3000 &               3.3000 &               6.0000 &               2.5000 &   virginica \\\\\n",
       "\\bottomrule\n",
       "\\end{tabular}\n"
      ],
      "text/plain": [
       "            sepal length          sepal width         petal length  \\\n",
       "0                 5.1000               3.5000               1.4000   \n",
       "50                7.0000               3.2000               4.7000   \n",
       "100               6.3000               3.3000               6.0000   \n",
       "\n",
       "             petal width     species  \n",
       "0                 0.2000      setosa  \n",
       "50                1.4000  versicolor  \n",
       "100               2.5000   virginica  "
      ]
     },
     "metadata": {},
     "output_type": "display_data"
    }
   ],
   "source": [
    "# discretization\n",
    "\n",
    "iris_df = pd.DataFrame(iris.data, columns=iris.feature_names)\n",
    "iris_df['species'] = iris.target_names[iris.target]\n",
    "\n",
    "display(iris_df.iloc[[0,50,100]])"
   ]
  },
  {
   "cell_type": "code",
   "execution_count": 8,
   "id": "cff7ef4e",
   "metadata": {},
   "outputs": [
    {
     "data": {
      "text/plain": [
       "array(['setosa', 'versicolor', 'virginica'], dtype='<U10')"
      ]
     },
     "execution_count": 8,
     "metadata": {},
     "output_type": "execute_result"
    }
   ],
   "source": [
    "iris.target_names"
   ]
  },
  {
   "cell_type": "code",
   "execution_count": 9,
   "id": "b157a06d",
   "metadata": {},
   "outputs": [
    {
     "data": {
      "text/plain": [
       "array([0, 0, 0, 0, 0, 0, 0, 0, 0, 0, 0, 0, 0, 0, 0, 0, 0, 0, 0, 0, 0, 0,\n",
       "       0, 0, 0, 0, 0, 0, 0, 0, 0, 0, 0, 0, 0, 0, 0, 0, 0, 0, 0, 0, 0, 0,\n",
       "       0, 0, 0, 0, 0, 0, 1, 1, 1, 1, 1, 1, 1, 1, 1, 1, 1, 1, 1, 1, 1, 1,\n",
       "       1, 1, 1, 1, 1, 1, 1, 1, 1, 1, 1, 1, 1, 1, 1, 1, 1, 1, 1, 1, 1, 1,\n",
       "       1, 1, 1, 1, 1, 1, 1, 1, 1, 1, 1, 1, 2, 2, 2, 2, 2, 2, 2, 2, 2, 2,\n",
       "       2, 2, 2, 2, 2, 2, 2, 2, 2, 2, 2, 2, 2, 2, 2, 2, 2, 2, 2, 2, 2, 2,\n",
       "       2, 2, 2, 2, 2, 2, 2, 2, 2, 2, 2, 2, 2, 2, 2, 2, 2, 2])"
      ]
     },
     "execution_count": 9,
     "metadata": {},
     "output_type": "execute_result"
    }
   ],
   "source": [
    "iris.target"
   ]
  },
  {
   "cell_type": "code",
   "execution_count": 10,
   "id": "8301d4fd",
   "metadata": {},
   "outputs": [
    {
     "data": {
      "image/png": "[encoded data removed]",
      "text/plain": [
       "<Figure size 400x300 with 1 Axes>"
      ]
     },
     "metadata": {},
     "output_type": "display_data"
    }
   ],
   "source": [
    "plt.subplots(1,1,figsize=(4,3))\n",
    "ax = sns.distplot(iris_df['sepal length'], hist=False, rug=True)\n",
    "ax.set_ylabel(\"Approximate %\");"
   ]
  },
  {
   "cell_type": "code",
   "execution_count": 11,
   "id": "4029e614",
   "metadata": {},
   "outputs": [
    {
     "name": "stdout",
     "output_type": "stream",
     "text": [
      "Column Mean [5.8433]\n"
     ]
    },
    {
     "data": {
      "text/html": [
       "<div>\n",
       "<style scoped>\n",
       "    .dataframe tbody tr th:only-of-type {\n",
       "        vertical-align: middle;\n",
       "    }\n",
       "\n",
       "    .dataframe tbody tr th {\n",
       "        vertical-align: top;\n",
       "    }\n",
       "\n",
       "    .dataframe thead th {\n",
       "        text-align: right;\n",
       "    }\n",
       "</style>\n",
       "<table border=\"1\" class=\"dataframe\">\n",
       "  <thead>\n",
       "    <tr style=\"text-align: right;\">\n",
       "      <th></th>\n",
       "      <th>sepal length</th>\n",
       "      <th>&gt; Mean</th>\n",
       "    </tr>\n",
       "  </thead>\n",
       "  <tbody>\n",
       "    <tr>\n",
       "      <th>0</th>\n",
       "      <td>5.1000</td>\n",
       "      <td>False</td>\n",
       "    </tr>\n",
       "    <tr>\n",
       "      <th>50</th>\n",
       "      <td>7.0000</td>\n",
       "      <td>True</td>\n",
       "    </tr>\n",
       "    <tr>\n",
       "      <th>100</th>\n",
       "      <td>6.3000</td>\n",
       "      <td>True</td>\n",
       "    </tr>\n",
       "  </tbody>\n",
       "</table>\n",
       "</div>"
      ],
      "text/latex": [
       "\\begin{tabular}{lrl}\n",
       "\\toprule\n",
       "{} &         sepal length &  > Mean \\\\\n",
       "\\midrule\n",
       "0   &               5.1000 &   False \\\\\n",
       "50  &               7.0000 &    True \\\\\n",
       "100 &               6.3000 &    True \\\\\n",
       "\\bottomrule\n",
       "\\end{tabular}\n"
      ],
      "text/plain": [
       "            sepal length  > Mean\n",
       "0                 5.1000   False\n",
       "50                7.0000    True\n",
       "100               6.3000    True"
      ]
     },
     "metadata": {},
     "output_type": "display_data"
    }
   ],
   "source": [
    "column = iris_df[['sepal length']] #keep 2Dness bc sk complains\n",
    "col_mean = column.mean().values\n",
    "\n",
    "\n",
    "both = column.copy()\n",
    "both['> Mean'] = np.where(column > column.mean(), True, False)\n",
    "\n",
    "\n",
    "print('Column Mean', col_mean)\n",
    "display(both.iloc[[0,50,100]])"
   ]
  },
  {
   "cell_type": "code",
   "execution_count": 12,
   "id": "21514007",
   "metadata": {},
   "outputs": [
    {
     "data": {
      "text/plain": [
       "array([5.8433])"
      ]
     },
     "execution_count": 12,
     "metadata": {},
     "output_type": "execute_result"
    }
   ],
   "source": [
    "col_mean"
   ]
  },
  {
   "cell_type": "code",
   "execution_count": 13,
   "id": "f4e64462",
   "metadata": {},
   "outputs": [
    {
     "data": {
      "text/html": [
       "<div>\n",
       "<style scoped>\n",
       "    .dataframe tbody tr th:only-of-type {\n",
       "        vertical-align: middle;\n",
       "    }\n",
       "\n",
       "    .dataframe tbody tr th {\n",
       "        vertical-align: top;\n",
       "    }\n",
       "\n",
       "    .dataframe thead th {\n",
       "        text-align: right;\n",
       "    }\n",
       "</style>\n",
       "<table border=\"1\" class=\"dataframe\">\n",
       "  <thead>\n",
       "    <tr style=\"text-align: right;\">\n",
       "      <th></th>\n",
       "      <th>sepal length</th>\n",
       "    </tr>\n",
       "  </thead>\n",
       "  <tbody>\n",
       "    <tr>\n",
       "      <th>0</th>\n",
       "      <td>5.1000</td>\n",
       "    </tr>\n",
       "    <tr>\n",
       "      <th>1</th>\n",
       "      <td>4.9000</td>\n",
       "    </tr>\n",
       "    <tr>\n",
       "      <th>2</th>\n",
       "      <td>4.7000</td>\n",
       "    </tr>\n",
       "    <tr>\n",
       "      <th>3</th>\n",
       "      <td>4.6000</td>\n",
       "    </tr>\n",
       "    <tr>\n",
       "      <th>4</th>\n",
       "      <td>5.0000</td>\n",
       "    </tr>\n",
       "    <tr>\n",
       "      <th>...</th>\n",
       "      <td>...</td>\n",
       "    </tr>\n",
       "    <tr>\n",
       "      <th>145</th>\n",
       "      <td>6.7000</td>\n",
       "    </tr>\n",
       "    <tr>\n",
       "      <th>146</th>\n",
       "      <td>6.3000</td>\n",
       "    </tr>\n",
       "    <tr>\n",
       "      <th>147</th>\n",
       "      <td>6.5000</td>\n",
       "    </tr>\n",
       "    <tr>\n",
       "      <th>148</th>\n",
       "      <td>6.2000</td>\n",
       "    </tr>\n",
       "    <tr>\n",
       "      <th>149</th>\n",
       "      <td>5.9000</td>\n",
       "    </tr>\n",
       "  </tbody>\n",
       "</table>\n",
       "<p>150 rows × 1 columns</p>\n",
       "</div>"
      ],
      "text/latex": [
       "\\begin{tabular}{lr}\n",
       "\\toprule\n",
       "{} &         sepal length \\\\\n",
       "\\midrule\n",
       "0   &               5.1000 \\\\\n",
       "1   &               4.9000 \\\\\n",
       "2   &               4.7000 \\\\\n",
       "3   &               4.6000 \\\\\n",
       "4   &               5.0000 \\\\\n",
       "5   &               5.4000 \\\\\n",
       "6   &               4.6000 \\\\\n",
       "7   &               5.0000 \\\\\n",
       "8   &               4.4000 \\\\\n",
       "9   &               4.9000 \\\\\n",
       "10  &               5.4000 \\\\\n",
       "11  &               4.8000 \\\\\n",
       "12  &               4.8000 \\\\\n",
       "13  &               4.3000 \\\\\n",
       "14  &               5.8000 \\\\\n",
       "15  &               5.7000 \\\\\n",
       "16  &               5.4000 \\\\\n",
       "17  &               5.1000 \\\\\n",
       "18  &               5.7000 \\\\\n",
       "19  &               5.1000 \\\\\n",
       "20  &               5.4000 \\\\\n",
       "21  &               5.1000 \\\\\n",
       "22  &               4.6000 \\\\\n",
       "23  &               5.1000 \\\\\n",
       "24  &               4.8000 \\\\\n",
       "25  &               5.0000 \\\\\n",
       "26  &               5.0000 \\\\\n",
       "27  &               5.2000 \\\\\n",
       "28  &               5.2000 \\\\\n",
       "29  &               4.7000 \\\\\n",
       "30  &               4.8000 \\\\\n",
       "31  &               5.4000 \\\\\n",
       "32  &               5.2000 \\\\\n",
       "33  &               5.5000 \\\\\n",
       "34  &               4.9000 \\\\\n",
       "35  &               5.0000 \\\\\n",
       "36  &               5.5000 \\\\\n",
       "37  &               4.9000 \\\\\n",
       "38  &               4.4000 \\\\\n",
       "39  &               5.1000 \\\\\n",
       "40  &               5.0000 \\\\\n",
       "41  &               4.5000 \\\\\n",
       "42  &               4.4000 \\\\\n",
       "43  &               5.0000 \\\\\n",
       "44  &               5.1000 \\\\\n",
       "45  &               4.8000 \\\\\n",
       "46  &               5.1000 \\\\\n",
       "47  &               4.6000 \\\\\n",
       "48  &               5.3000 \\\\\n",
       "49  &               5.0000 \\\\\n",
       "50  &               7.0000 \\\\\n",
       "51  &               6.4000 \\\\\n",
       "52  &               6.9000 \\\\\n",
       "53  &               5.5000 \\\\\n",
       "54  &               6.5000 \\\\\n",
       "55  &               5.7000 \\\\\n",
       "56  &               6.3000 \\\\\n",
       "57  &               4.9000 \\\\\n",
       "58  &               6.6000 \\\\\n",
       "59  &               5.2000 \\\\\n",
       "60  &               5.0000 \\\\\n",
       "61  &               5.9000 \\\\\n",
       "62  &               6.0000 \\\\\n",
       "63  &               6.1000 \\\\\n",
       "64  &               5.6000 \\\\\n",
       "65  &               6.7000 \\\\\n",
       "66  &               5.6000 \\\\\n",
       "67  &               5.8000 \\\\\n",
       "68  &               6.2000 \\\\\n",
       "69  &               5.6000 \\\\\n",
       "70  &               5.9000 \\\\\n",
       "71  &               6.1000 \\\\\n",
       "72  &               6.3000 \\\\\n",
       "73  &               6.1000 \\\\\n",
       "74  &               6.4000 \\\\\n",
       "75  &               6.6000 \\\\\n",
       "76  &               6.8000 \\\\\n",
       "77  &               6.7000 \\\\\n",
       "78  &               6.0000 \\\\\n",
       "79  &               5.7000 \\\\\n",
       "80  &               5.5000 \\\\\n",
       "81  &               5.5000 \\\\\n",
       "82  &               5.8000 \\\\\n",
       "83  &               6.0000 \\\\\n",
       "84  &               5.4000 \\\\\n",
       "85  &               6.0000 \\\\\n",
       "86  &               6.7000 \\\\\n",
       "87  &               6.3000 \\\\\n",
       "88  &               5.6000 \\\\\n",
       "89  &               5.5000 \\\\\n",
       "90  &               5.5000 \\\\\n",
       "91  &               6.1000 \\\\\n",
       "92  &               5.8000 \\\\\n",
       "93  &               5.0000 \\\\\n",
       "94  &               5.6000 \\\\\n",
       "95  &               5.7000 \\\\\n",
       "96  &               5.7000 \\\\\n",
       "97  &               6.2000 \\\\\n",
       "98  &               5.1000 \\\\\n",
       "99  &               5.7000 \\\\\n",
       "100 &               6.3000 \\\\\n",
       "101 &               5.8000 \\\\\n",
       "102 &               7.1000 \\\\\n",
       "103 &               6.3000 \\\\\n",
       "104 &               6.5000 \\\\\n",
       "105 &               7.6000 \\\\\n",
       "106 &               4.9000 \\\\\n",
       "107 &               7.3000 \\\\\n",
       "108 &               6.7000 \\\\\n",
       "109 &               7.2000 \\\\\n",
       "110 &               6.5000 \\\\\n",
       "111 &               6.4000 \\\\\n",
       "112 &               6.8000 \\\\\n",
       "113 &               5.7000 \\\\\n",
       "114 &               5.8000 \\\\\n",
       "115 &               6.4000 \\\\\n",
       "116 &               6.5000 \\\\\n",
       "117 &               7.7000 \\\\\n",
       "118 &               7.7000 \\\\\n",
       "119 &               6.0000 \\\\\n",
       "120 &               6.9000 \\\\\n",
       "121 &               5.6000 \\\\\n",
       "122 &               7.7000 \\\\\n",
       "123 &               6.3000 \\\\\n",
       "124 &               6.7000 \\\\\n",
       "125 &               7.2000 \\\\\n",
       "126 &               6.2000 \\\\\n",
       "127 &               6.1000 \\\\\n",
       "128 &               6.4000 \\\\\n",
       "129 &               7.2000 \\\\\n",
       "130 &               7.4000 \\\\\n",
       "131 &               7.9000 \\\\\n",
       "132 &               6.4000 \\\\\n",
       "133 &               6.3000 \\\\\n",
       "134 &               6.1000 \\\\\n",
       "135 &               7.7000 \\\\\n",
       "136 &               6.3000 \\\\\n",
       "137 &               6.4000 \\\\\n",
       "138 &               6.0000 \\\\\n",
       "139 &               6.9000 \\\\\n",
       "140 &               6.7000 \\\\\n",
       "141 &               6.9000 \\\\\n",
       "142 &               5.8000 \\\\\n",
       "143 &               6.8000 \\\\\n",
       "144 &               6.7000 \\\\\n",
       "145 &               6.7000 \\\\\n",
       "146 &               6.3000 \\\\\n",
       "147 &               6.5000 \\\\\n",
       "148 &               6.2000 \\\\\n",
       "149 &               5.9000 \\\\\n",
       "\\bottomrule\n",
       "\\end{tabular}\n"
      ],
      "text/plain": [
       "            sepal length\n",
       "0                 5.1000\n",
       "1                 4.9000\n",
       "2                 4.7000\n",
       "3                 4.6000\n",
       "4                 5.0000\n",
       "..                   ...\n",
       "145               6.7000\n",
       "146               6.3000\n",
       "147               6.5000\n",
       "148               6.2000\n",
       "149               5.9000\n",
       "\n",
       "[150 rows x 1 columns]"
      ]
     },
     "execution_count": 13,
     "metadata": {},
     "output_type": "execute_result"
    }
   ],
   "source": [
    "iris_df[['sepal length']]"
   ]
  },
  {
   "cell_type": "code",
   "execution_count": 14,
   "id": "a1b38be7",
   "metadata": {},
   "outputs": [
    {
     "data": {
      "text/plain": [
       "(150, 1)"
      ]
     },
     "execution_count": 14,
     "metadata": {},
     "output_type": "execute_result"
    }
   ],
   "source": [
    "column.values.shape"
   ]
  },
  {
   "cell_type": "code",
   "execution_count": 15,
   "id": "be22a393",
   "metadata": {},
   "outputs": [
    {
     "data": {
      "text/plain": [
       "(1, 150)"
      ]
     },
     "execution_count": 15,
     "metadata": {},
     "output_type": "execute_result"
    }
   ],
   "source": [
    "(column.values.reshape(1,-1)).shape"
   ]
  },
  {
   "cell_type": "code",
   "execution_count": 16,
   "id": "b4b3ab70",
   "metadata": {},
   "outputs": [
    {
     "data": {
      "text/plain": [
       "(1,)"
      ]
     },
     "execution_count": 16,
     "metadata": {},
     "output_type": "execute_result"
    }
   ],
   "source": [
    "col_mean.shape"
   ]
  },
  {
   "cell_type": "code",
   "execution_count": 17,
   "id": "40077675",
   "metadata": {},
   "outputs": [
    {
     "data": {
      "text/plain": [
       "(1, 1)"
      ]
     },
     "execution_count": 17,
     "metadata": {},
     "output_type": "execute_result"
    }
   ],
   "source": [
    "col_mean.reshape(-1,1).shape"
   ]
  },
  {
   "cell_type": "code",
   "execution_count": 18,
   "id": "1519f7a5",
   "metadata": {},
   "outputs": [
    {
     "data": {
      "text/html": [
       "<div>\n",
       "<style scoped>\n",
       "    .dataframe tbody tr th:only-of-type {\n",
       "        vertical-align: middle;\n",
       "    }\n",
       "\n",
       "    .dataframe tbody tr th {\n",
       "        vertical-align: top;\n",
       "    }\n",
       "\n",
       "    .dataframe thead tr th {\n",
       "        text-align: left;\n",
       "    }\n",
       "</style>\n",
       "<table border=\"1\" class=\"dataframe\">\n",
       "  <thead>\n",
       "    <tr>\n",
       "      <th></th>\n",
       "      <th colspan=\"2\" halign=\"left\">input ftrs</th>\n",
       "      <th>target ftr</th>\n",
       "    </tr>\n",
       "    <tr>\n",
       "      <th></th>\n",
       "      <th>petal width</th>\n",
       "      <th>species</th>\n",
       "      <th>petal length</th>\n",
       "    </tr>\n",
       "  </thead>\n",
       "  <tbody>\n",
       "    <tr>\n",
       "      <th>0</th>\n",
       "      <td>0.2000</td>\n",
       "      <td>setosa</td>\n",
       "      <td>1.4000</td>\n",
       "    </tr>\n",
       "    <tr>\n",
       "      <th>50</th>\n",
       "      <td>1.4000</td>\n",
       "      <td>versicolor</td>\n",
       "      <td>4.7000</td>\n",
       "    </tr>\n",
       "    <tr>\n",
       "      <th>100</th>\n",
       "      <td>2.5000</td>\n",
       "      <td>virginica</td>\n",
       "      <td>6.0000</td>\n",
       "    </tr>\n",
       "  </tbody>\n",
       "</table>\n",
       "</div>"
      ],
      "text/latex": [
       "\\begin{tabular}{lrlr}\n",
       "\\toprule\n",
       "{} & \\multicolumn{2}{l}{input ftrs} &           target ftr \\\\\n",
       "{} &          petal width &     species &         petal length \\\\\n",
       "\\midrule\n",
       "0   &               0.2000 &      setosa &               1.4000 \\\\\n",
       "50  &               1.4000 &  versicolor &               4.7000 \\\\\n",
       "100 &               2.5000 &   virginica &               6.0000 \\\\\n",
       "\\bottomrule\n",
       "\\end{tabular}\n"
      ],
      "text/plain": [
       "              input ftrs                       target ftr\n",
       "             petal width     species         petal length\n",
       "0                 0.2000      setosa               1.4000\n",
       "50                1.4000  versicolor               4.7000\n",
       "100               2.5000   virginica               6.0000"
      ]
     },
     "metadata": {},
     "output_type": "display_data"
    }
   ],
   "source": [
    "new_iris_df = pd.DataFrame(iris_df, columns=['petal length', 'petal width', 'species'])\n",
    "\n",
    "\n",
    "new_iris_df.columns = pd.MultiIndex([['input ftrs', 'target ftr'],\n",
    "                                    new_iris_df.columns],\n",
    "                                   [[1, 0, 0], [0, 1, 2]])\n",
    "\n",
    "new_iris_df.sort_index(axis='columns', inplace=True)\n",
    "display(new_iris_df.iloc[[0,50,100]])"
   ]
  },
  {
   "cell_type": "code",
   "execution_count": null,
   "id": "70c1e5b4",
   "metadata": {},
   "outputs": [],
   "source": []
  },
  {
   "cell_type": "code",
   "execution_count": 19,
   "id": "be90d10e",
   "metadata": {},
   "outputs": [
    {
     "name": "stdout",
     "output_type": "stream",
     "text": [
      "Numerical categories:\n",
      "[0 1 2]\n",
      "One-hot coding:\n",
      "[[1. 0. 0.]\n",
      " [0. 1. 0.]\n",
      " [0. 0. 1.]]\n"
     ]
    }
   ],
   "source": [
    "print(\"Numerical categories:\",\n",
    "     iris.target[[0,50,100]], sep='\\n')\n",
    "\n",
    "# produces sparse representation\n",
    "sparse = skpre.OneHotEncoder().fit_transform(iris.target.reshape(-1,1))\n",
    "\n",
    "print(\"One-hot coding:\",\n",
    "     sparse[[0,50,100]].todense(), sep=\"\\n\")"
   ]
  },
  {
   "cell_type": "code",
   "execution_count": 20,
   "id": "4781b3c7",
   "metadata": {},
   "outputs": [
    {
     "data": {
      "text/html": [
       "<div>\n",
       "<style scoped>\n",
       "    .dataframe tbody tr th:only-of-type {\n",
       "        vertical-align: middle;\n",
       "    }\n",
       "\n",
       "    .dataframe tbody tr th {\n",
       "        vertical-align: top;\n",
       "    }\n",
       "\n",
       "    .dataframe thead th {\n",
       "        text-align: right;\n",
       "    }\n",
       "</style>\n",
       "<table border=\"1\" class=\"dataframe\">\n",
       "  <thead>\n",
       "    <tr style=\"text-align: right;\">\n",
       "      <th></th>\n",
       "      <th>sepal length</th>\n",
       "      <th>sepal width</th>\n",
       "      <th>petal length</th>\n",
       "      <th>petal width</th>\n",
       "      <th>is_setosa</th>\n",
       "      <th>is_versicolor</th>\n",
       "      <th>is_virginica</th>\n",
       "    </tr>\n",
       "  </thead>\n",
       "  <tbody>\n",
       "    <tr>\n",
       "      <th>0</th>\n",
       "      <td>5.1000</td>\n",
       "      <td>3.5000</td>\n",
       "      <td>1.4000</td>\n",
       "      <td>0.2000</td>\n",
       "      <td>1</td>\n",
       "      <td>0</td>\n",
       "      <td>0</td>\n",
       "    </tr>\n",
       "    <tr>\n",
       "      <th>50</th>\n",
       "      <td>7.0000</td>\n",
       "      <td>3.2000</td>\n",
       "      <td>4.7000</td>\n",
       "      <td>1.4000</td>\n",
       "      <td>0</td>\n",
       "      <td>1</td>\n",
       "      <td>0</td>\n",
       "    </tr>\n",
       "    <tr>\n",
       "      <th>100</th>\n",
       "      <td>6.3000</td>\n",
       "      <td>3.3000</td>\n",
       "      <td>6.0000</td>\n",
       "      <td>2.5000</td>\n",
       "      <td>0</td>\n",
       "      <td>0</td>\n",
       "      <td>1</td>\n",
       "    </tr>\n",
       "  </tbody>\n",
       "</table>\n",
       "</div>"
      ],
      "text/latex": [
       "\\begin{tabular}{lrrrrrrr}\n",
       "\\toprule\n",
       "{} &         sepal length &          sepal width &         petal length &          petal width &  is\\_setosa &  is\\_versicolor &  is\\_virginica \\\\\n",
       "\\midrule\n",
       "0   &               5.1000 &               3.5000 &               1.4000 &               0.2000 &          1 &              0 &             0 \\\\\n",
       "50  &               7.0000 &               3.2000 &               4.7000 &               1.4000 &          0 &              1 &             0 \\\\\n",
       "100 &               6.3000 &               3.3000 &               6.0000 &               2.5000 &          0 &              0 &             1 \\\\\n",
       "\\bottomrule\n",
       "\\end{tabular}\n"
      ],
      "text/plain": [
       "            sepal length          sepal width         petal length  \\\n",
       "0                 5.1000               3.5000               1.4000   \n",
       "50                7.0000               3.2000               4.7000   \n",
       "100               6.3000               3.3000               6.0000   \n",
       "\n",
       "             petal width  is_setosa  is_versicolor  is_virginica  \n",
       "0                 0.2000          1              0             0  \n",
       "50                1.4000          0              1             0  \n",
       "100               2.5000          0              0             1  "
      ]
     },
     "execution_count": 20,
     "metadata": {},
     "output_type": "execute_result"
    }
   ],
   "source": [
    "encoded = pd.get_dummies(iris_df, prefix=\"is\")\n",
    "encoded.iloc[[0,50,100]]"
   ]
  },
  {
   "cell_type": "code",
   "execution_count": 21,
   "id": "fbb02330",
   "metadata": {},
   "outputs": [
    {
     "data": {
      "text/html": [
       "<div>\n",
       "<style scoped>\n",
       "    .dataframe tbody tr th:only-of-type {\n",
       "        vertical-align: middle;\n",
       "    }\n",
       "\n",
       "    .dataframe tbody tr th {\n",
       "        vertical-align: top;\n",
       "    }\n",
       "\n",
       "    .dataframe thead th {\n",
       "        text-align: right;\n",
       "    }\n",
       "</style>\n",
       "<table border=\"1\" class=\"dataframe\">\n",
       "  <thead>\n",
       "    <tr style=\"text-align: right;\">\n",
       "      <th></th>\n",
       "      <th>sepal length</th>\n",
       "      <th>sepal width</th>\n",
       "      <th>petal length</th>\n",
       "      <th>petal width</th>\n",
       "      <th>species</th>\n",
       "      <th>0</th>\n",
       "      <th>1</th>\n",
       "      <th>2</th>\n",
       "    </tr>\n",
       "  </thead>\n",
       "  <tbody>\n",
       "    <tr>\n",
       "      <th>0</th>\n",
       "      <td>5.1000</td>\n",
       "      <td>3.5000</td>\n",
       "      <td>1.4000</td>\n",
       "      <td>0.2000</td>\n",
       "      <td>setosa</td>\n",
       "      <td>1</td>\n",
       "      <td>0</td>\n",
       "      <td>0</td>\n",
       "    </tr>\n",
       "    <tr>\n",
       "      <th>50</th>\n",
       "      <td>7.0000</td>\n",
       "      <td>3.2000</td>\n",
       "      <td>4.7000</td>\n",
       "      <td>1.4000</td>\n",
       "      <td>versicolor</td>\n",
       "      <td>0</td>\n",
       "      <td>1</td>\n",
       "      <td>0</td>\n",
       "    </tr>\n",
       "    <tr>\n",
       "      <th>100</th>\n",
       "      <td>6.3000</td>\n",
       "      <td>3.3000</td>\n",
       "      <td>6.0000</td>\n",
       "      <td>2.5000</td>\n",
       "      <td>virginica</td>\n",
       "      <td>0</td>\n",
       "      <td>0</td>\n",
       "      <td>1</td>\n",
       "    </tr>\n",
       "  </tbody>\n",
       "</table>\n",
       "</div>"
      ],
      "text/latex": [
       "\\begin{tabular}{lrrrrlrrr}\n",
       "\\toprule\n",
       "{} &         sepal length &          sepal width &         petal length &          petal width &     species &  0 &  1 &  2 \\\\\n",
       "\\midrule\n",
       "0   &               5.1000 &               3.5000 &               1.4000 &               0.2000 &      setosa &  1 &  0 &  0 \\\\\n",
       "50  &               7.0000 &               3.2000 &               4.7000 &               1.4000 &  versicolor &  0 &  1 &  0 \\\\\n",
       "100 &               6.3000 &               3.3000 &               6.0000 &               2.5000 &   virginica &  0 &  0 &  1 \\\\\n",
       "\\bottomrule\n",
       "\\end{tabular}\n"
      ],
      "text/plain": [
       "            sepal length          sepal width         petal length  \\\n",
       "0                 5.1000               3.5000               1.4000   \n",
       "50                7.0000               3.2000               4.7000   \n",
       "100               6.3000               3.3000               6.0000   \n",
       "\n",
       "             petal width     species  0  1  2  \n",
       "0                 0.2000      setosa  1  0  0  \n",
       "50                1.4000  versicolor  0  1  0  \n",
       "100               2.5000   virginica  0  0  1  "
      ]
     },
     "execution_count": 21,
     "metadata": {},
     "output_type": "execute_result"
    }
   ],
   "source": [
    "encoded_species = pd.get_dummies(iris.target)\n",
    "encoded_df = pd.merge(iris_df, encoded_species,\n",
    "                     right_index=True, left_index=True)\n",
    "\n",
    "encoded_df.iloc[[0,50,100]]"
   ]
  },
  {
   "cell_type": "code",
   "execution_count": 22,
   "id": "fdd00f1e",
   "metadata": {},
   "outputs": [
    {
     "name": "stdout",
     "output_type": "stream",
     "text": [
      "ContrastMatrix(array([[1., 0., 0.],\n",
      "                      [0., 1., 0.],\n",
      "                      [0., 0., 1.]]),\n",
      "               ['[setosa]', '[versicolor]', '[virginica]'])\n"
     ]
    }
   ],
   "source": [
    "import patsy.contrasts as pc\n",
    "\n",
    "levels = iris.target_names\n",
    "coding = (pc.Treatment(reference=0).code_with_intercept(list(levels)))\n",
    "\n",
    "print(coding)"
   ]
  },
  {
   "cell_type": "code",
   "execution_count": 23,
   "id": "6b10130d",
   "metadata": {},
   "outputs": [
    {
     "data": {
      "text/html": [
       "<div>\n",
       "<style scoped>\n",
       "    .dataframe tbody tr th:only-of-type {\n",
       "        vertical-align: middle;\n",
       "    }\n",
       "\n",
       "    .dataframe tbody tr th {\n",
       "        vertical-align: top;\n",
       "    }\n",
       "\n",
       "    .dataframe thead th {\n",
       "        text-align: right;\n",
       "    }\n",
       "</style>\n",
       "<table border=\"1\" class=\"dataframe\">\n",
       "  <thead>\n",
       "    <tr style=\"text-align: right;\">\n",
       "      <th></th>\n",
       "      <th>species[setosa]</th>\n",
       "      <th>species[versicolor]</th>\n",
       "      <th>species[virginica]</th>\n",
       "    </tr>\n",
       "  </thead>\n",
       "  <tbody>\n",
       "    <tr>\n",
       "      <th>0</th>\n",
       "      <td>1.0000</td>\n",
       "      <td>0.0000</td>\n",
       "      <td>0.0000</td>\n",
       "    </tr>\n",
       "    <tr>\n",
       "      <th>50</th>\n",
       "      <td>0.0000</td>\n",
       "      <td>1.0000</td>\n",
       "      <td>0.0000</td>\n",
       "    </tr>\n",
       "    <tr>\n",
       "      <th>100</th>\n",
       "      <td>0.0000</td>\n",
       "      <td>0.0000</td>\n",
       "      <td>1.0000</td>\n",
       "    </tr>\n",
       "  </tbody>\n",
       "</table>\n",
       "</div>"
      ],
      "text/latex": [
       "\\begin{tabular}{lrrr}\n",
       "\\toprule\n",
       "{} &      species[setosa] &  species[versicolor] &   species[virginica] \\\\\n",
       "\\midrule\n",
       "0   &               1.0000 &               0.0000 &               0.0000 \\\\\n",
       "50  &               0.0000 &               1.0000 &               0.0000 \\\\\n",
       "100 &               0.0000 &               0.0000 &               1.0000 \\\\\n",
       "\\bottomrule\n",
       "\\end{tabular}\n"
      ],
      "text/plain": [
       "         species[setosa]  species[versicolor]   species[virginica]\n",
       "0                 1.0000               0.0000               0.0000\n",
       "50                0.0000               1.0000               0.0000\n",
       "100               0.0000               0.0000               1.0000"
      ]
     },
     "metadata": {},
     "output_type": "display_data"
    }
   ],
   "source": [
    "encoded = patsy.dmatrix('species-1',\n",
    "                       iris_df,\n",
    "                       return_type='dataframe')\n",
    "\n",
    "display(encoded.iloc[[0,50,100]])"
   ]
  },
  {
   "cell_type": "code",
   "execution_count": 24,
   "id": "4548369b",
   "metadata": {},
   "outputs": [
    {
     "data": {
      "text/html": [
       "<div>\n",
       "<style scoped>\n",
       "    .dataframe tbody tr th:only-of-type {\n",
       "        vertical-align: middle;\n",
       "    }\n",
       "\n",
       "    .dataframe tbody tr th {\n",
       "        vertical-align: top;\n",
       "    }\n",
       "\n",
       "    .dataframe thead th {\n",
       "        text-align: right;\n",
       "    }\n",
       "</style>\n",
       "<table border=\"1\" class=\"dataframe\">\n",
       "  <thead>\n",
       "    <tr style=\"text-align: right;\">\n",
       "      <th></th>\n",
       "      <th>Intercept</th>\n",
       "      <th>species[T.versicolor]</th>\n",
       "      <th>species[T.virginica]</th>\n",
       "    </tr>\n",
       "  </thead>\n",
       "  <tbody>\n",
       "    <tr>\n",
       "      <th>0</th>\n",
       "      <td>1.0000</td>\n",
       "      <td>0.0000</td>\n",
       "      <td>0.0000</td>\n",
       "    </tr>\n",
       "    <tr>\n",
       "      <th>50</th>\n",
       "      <td>1.0000</td>\n",
       "      <td>1.0000</td>\n",
       "      <td>0.0000</td>\n",
       "    </tr>\n",
       "    <tr>\n",
       "      <th>100</th>\n",
       "      <td>1.0000</td>\n",
       "      <td>0.0000</td>\n",
       "      <td>1.0000</td>\n",
       "    </tr>\n",
       "  </tbody>\n",
       "</table>\n",
       "</div>"
      ],
      "text/latex": [
       "\\begin{tabular}{lrrr}\n",
       "\\toprule\n",
       "{} &            Intercept &  species[T.versicolor] &  species[T.virginica] \\\\\n",
       "\\midrule\n",
       "0   &               1.0000 &                 0.0000 &                0.0000 \\\\\n",
       "50  &               1.0000 &                 1.0000 &                0.0000 \\\\\n",
       "100 &               1.0000 &                 0.0000 &                1.0000 \\\\\n",
       "\\bottomrule\n",
       "\\end{tabular}\n"
      ],
      "text/plain": [
       "               Intercept  species[T.versicolor]  species[T.virginica]\n",
       "0                 1.0000                 0.0000                0.0000\n",
       "50                1.0000                 1.0000                0.0000\n",
       "100               1.0000                 0.0000                1.0000"
      ]
     },
     "metadata": {},
     "output_type": "display_data"
    }
   ],
   "source": [
    "encoded = patsy.dmatrix('species',\n",
    "                       iris_df,\n",
    "                       return_type='dataframe')\n",
    "\n",
    "display(encoded.iloc[[0,50,100]])"
   ]
  },
  {
   "cell_type": "code",
   "execution_count": 25,
   "id": "c282ab59",
   "metadata": {},
   "outputs": [
    {
     "data": {
      "text/html": [
       "<div>\n",
       "<style scoped>\n",
       "    .dataframe tbody tr th:only-of-type {\n",
       "        vertical-align: middle;\n",
       "    }\n",
       "\n",
       "    .dataframe tbody tr th {\n",
       "        vertical-align: top;\n",
       "    }\n",
       "\n",
       "    .dataframe thead th {\n",
       "        text-align: right;\n",
       "    }\n",
       "</style>\n",
       "<table border=\"1\" class=\"dataframe\">\n",
       "  <thead>\n",
       "    <tr style=\"text-align: right;\">\n",
       "      <th></th>\n",
       "      <th>cost</th>\n",
       "      <th>pet_cat</th>\n",
       "      <th>pet_dog</th>\n",
       "    </tr>\n",
       "  </thead>\n",
       "  <tbody>\n",
       "    <tr>\n",
       "      <th>0</th>\n",
       "      <td>20.0000</td>\n",
       "      <td>1</td>\n",
       "      <td>0</td>\n",
       "    </tr>\n",
       "    <tr>\n",
       "      <th>1</th>\n",
       "      <td>25.0000</td>\n",
       "      <td>1</td>\n",
       "      <td>0</td>\n",
       "    </tr>\n",
       "    <tr>\n",
       "      <th>2</th>\n",
       "      <td>40.0000</td>\n",
       "      <td>0</td>\n",
       "      <td>1</td>\n",
       "    </tr>\n",
       "  </tbody>\n",
       "</table>\n",
       "</div>"
      ],
      "text/latex": [
       "\\begin{tabular}{lrrr}\n",
       "\\toprule\n",
       "{} &                 cost &  pet\\_cat &  pet\\_dog \\\\\n",
       "\\midrule\n",
       "0 &              20.0000 &        1 &        0 \\\\\n",
       "1 &              25.0000 &        1 &        0 \\\\\n",
       "2 &              40.0000 &        0 &        1 \\\\\n",
       "\\bottomrule\n",
       "\\end{tabular}\n"
      ],
      "text/plain": [
       "                  cost  pet_cat  pet_dog\n",
       "0              20.0000        1        0\n",
       "1              25.0000        1        0\n",
       "2              40.0000        0        1"
      ]
     },
     "metadata": {},
     "output_type": "display_data"
    }
   ],
   "source": [
    "pet_data = pd.DataFrame({'pet' :['cat', 'cat', 'dog'],\n",
    "                        'cost' :[20.0, 25.0, 40.0]})\n",
    "\n",
    "pet_df = pd.get_dummies(pet_data)\n",
    "display(pet_df)"
   ]
  },
  {
   "cell_type": "code",
   "execution_count": 26,
   "id": "fa77efe6",
   "metadata": {},
   "outputs": [],
   "source": [
    "def pretty_coeffs(sk_lr_model, ftr_names):\n",
    "    ' helper to display sklearn results in a nice dataframe '\n",
    "    lr_coeffs = pd.DataFrame(sk_lr_model.coef_,\n",
    "                            columns=ftr_names,\n",
    "                            index=[\"Coeff\"])\n",
    "    \n",
    "    lr_coeffs['intercept'] = sk_lr_model.intercept_\n",
    "    return lr_coeffs"
   ]
  },
  {
   "cell_type": "code",
   "execution_count": 27,
   "id": "295d4d7a",
   "metadata": {},
   "outputs": [
    {
     "data": {
      "text/html": [
       "<div>\n",
       "<style scoped>\n",
       "    .dataframe tbody tr th:only-of-type {\n",
       "        vertical-align: middle;\n",
       "    }\n",
       "\n",
       "    .dataframe tbody tr th {\n",
       "        vertical-align: top;\n",
       "    }\n",
       "\n",
       "    .dataframe thead th {\n",
       "        text-align: right;\n",
       "    }\n",
       "</style>\n",
       "<table border=\"1\" class=\"dataframe\">\n",
       "  <thead>\n",
       "    <tr style=\"text-align: right;\">\n",
       "      <th></th>\n",
       "      <th>pet_cat</th>\n",
       "      <th>pet_dog</th>\n",
       "      <th>intercept</th>\n",
       "    </tr>\n",
       "  </thead>\n",
       "  <tbody>\n",
       "    <tr>\n",
       "      <th>Coeff</th>\n",
       "      <td>22.5000</td>\n",
       "      <td>40.0000</td>\n",
       "      <td>0.0000</td>\n",
       "    </tr>\n",
       "  </tbody>\n",
       "</table>\n",
       "</div>"
      ],
      "text/latex": [
       "\\begin{tabular}{lrrr}\n",
       "\\toprule\n",
       "{} &              pet\\_cat &              pet\\_dog &            intercept \\\\\n",
       "\\midrule\n",
       "Coeff &              22.5000 &              40.0000 &               0.0000 \\\\\n",
       "\\bottomrule\n",
       "\\end{tabular}\n"
      ],
      "text/plain": [
       "                   pet_cat              pet_dog            intercept\n",
       "Coeff              22.5000              40.0000               0.0000"
      ]
     },
     "metadata": {},
     "output_type": "display_data"
    }
   ],
   "source": [
    "sk_tgt = pet_df['cost'].values.reshape(-1,1)\n",
    "sk_ftrs = pet_df.drop('cost', axis='columns')\n",
    "\n",
    "sk_model = (linear_model.LinearRegression(fit_intercept=False)\n",
    "                        .fit(sk_ftrs, sk_tgt))\n",
    "\n",
    "display(pretty_coeffs(sk_model, sk_ftrs.columns))"
   ]
  },
  {
   "cell_type": "code",
   "execution_count": 28,
   "id": "14474c73",
   "metadata": {},
   "outputs": [],
   "source": [
    "import statsmodels as sm\n",
    "import statsmodels.formula.api as smf"
   ]
  },
  {
   "cell_type": "code",
   "execution_count": 29,
   "id": "0594738d",
   "metadata": {},
   "outputs": [
    {
     "data": {
      "text/html": [
       "<div>\n",
       "<style scoped>\n",
       "    .dataframe tbody tr th:only-of-type {\n",
       "        vertical-align: middle;\n",
       "    }\n",
       "\n",
       "    .dataframe tbody tr th {\n",
       "        vertical-align: top;\n",
       "    }\n",
       "\n",
       "    .dataframe thead th {\n",
       "        text-align: right;\n",
       "    }\n",
       "</style>\n",
       "<table border=\"1\" class=\"dataframe\">\n",
       "  <thead>\n",
       "    <tr style=\"text-align: right;\">\n",
       "      <th></th>\n",
       "      <th>pet[cat]</th>\n",
       "      <th>pet[dog]</th>\n",
       "    </tr>\n",
       "  </thead>\n",
       "  <tbody>\n",
       "    <tr>\n",
       "      <th>0</th>\n",
       "      <td>22.5000</td>\n",
       "      <td>40.0000</td>\n",
       "    </tr>\n",
       "  </tbody>\n",
       "</table>\n",
       "</div>"
      ],
      "text/latex": [
       "\\begin{tabular}{lrr}\n",
       "\\toprule\n",
       "{} &             pet[cat] &             pet[dog] \\\\\n",
       "\\midrule\n",
       "0 &              22.5000 &              40.0000 \\\\\n",
       "\\bottomrule\n",
       "\\end{tabular}\n"
      ],
      "text/plain": [
       "              pet[cat]             pet[dog]\n",
       "0              22.5000              40.0000"
      ]
     },
     "metadata": {},
     "output_type": "display_data"
    }
   ],
   "source": [
    "formula = 'cost ~ pet - 1'\n",
    "\n",
    "sm_model = smf.ols(formula, data=pet_data).fit()\n",
    "display(pd.DataFrame(sm_model.params).T)"
   ]
  },
  {
   "cell_type": "code",
   "execution_count": 30,
   "id": "88f35261",
   "metadata": {},
   "outputs": [
    {
     "data": {
      "text/html": [
       "<div>\n",
       "<style scoped>\n",
       "    .dataframe tbody tr th:only-of-type {\n",
       "        vertical-align: middle;\n",
       "    }\n",
       "\n",
       "    .dataframe tbody tr th {\n",
       "        vertical-align: top;\n",
       "    }\n",
       "\n",
       "    .dataframe thead th {\n",
       "        text-align: right;\n",
       "    }\n",
       "</style>\n",
       "<table border=\"1\" class=\"dataframe\">\n",
       "  <thead>\n",
       "    <tr style=\"text-align: right;\">\n",
       "      <th></th>\n",
       "      <th>pet_cat</th>\n",
       "      <th>pet_dog</th>\n",
       "      <th>intercept</th>\n",
       "    </tr>\n",
       "  </thead>\n",
       "  <tbody>\n",
       "    <tr>\n",
       "      <th>Coeff</th>\n",
       "      <td>-8.7500</td>\n",
       "      <td>8.7500</td>\n",
       "      <td>31.2500</td>\n",
       "    </tr>\n",
       "  </tbody>\n",
       "</table>\n",
       "</div>"
      ],
      "text/latex": [
       "\\begin{tabular}{lrrr}\n",
       "\\toprule\n",
       "{} &              pet\\_cat &              pet\\_dog &            intercept \\\\\n",
       "\\midrule\n",
       "Coeff &              -8.7500 &               8.7500 &              31.2500 \\\\\n",
       "\\bottomrule\n",
       "\\end{tabular}\n"
      ],
      "text/plain": [
       "                   pet_cat              pet_dog            intercept\n",
       "Coeff              -8.7500               8.7500              31.2500"
      ]
     },
     "metadata": {},
     "output_type": "display_data"
    }
   ],
   "source": [
    "sk_tgt = pet_df['cost'].values.reshape(-1,1)\n",
    "sk_ftrs = pet_df.drop('cost', axis='columns')\n",
    "sk_model = (linear_model.LinearRegression()\n",
    "                        .fit(sk_ftrs, sk_tgt))\n",
    "\n",
    "display(pretty_coeffs(sk_model, sk_ftrs.columns))"
   ]
  },
  {
   "cell_type": "code",
   "execution_count": 31,
   "id": "91a76f54",
   "metadata": {},
   "outputs": [
    {
     "data": {
      "text/html": [
       "<div>\n",
       "<style scoped>\n",
       "    .dataframe tbody tr th:only-of-type {\n",
       "        vertical-align: middle;\n",
       "    }\n",
       "\n",
       "    .dataframe tbody tr th {\n",
       "        vertical-align: top;\n",
       "    }\n",
       "\n",
       "    .dataframe thead th {\n",
       "        text-align: right;\n",
       "    }\n",
       "</style>\n",
       "<table border=\"1\" class=\"dataframe\">\n",
       "  <thead>\n",
       "    <tr style=\"text-align: right;\">\n",
       "      <th></th>\n",
       "      <th>pet[cat]</th>\n",
       "      <th>pet[dog]</th>\n",
       "      <th>ones</th>\n",
       "    </tr>\n",
       "  </thead>\n",
       "  <tbody>\n",
       "    <tr>\n",
       "      <th>0</th>\n",
       "      <td>1.6667</td>\n",
       "      <td>19.1667</td>\n",
       "      <td>20.8333</td>\n",
       "    </tr>\n",
       "  </tbody>\n",
       "</table>\n",
       "</div>"
      ],
      "text/latex": [
       "\\begin{tabular}{lrrr}\n",
       "\\toprule\n",
       "{} &             pet[cat] &             pet[dog] &                 ones \\\\\n",
       "\\midrule\n",
       "0 &               1.6667 &              19.1667 &              20.8333 \\\\\n",
       "\\bottomrule\n",
       "\\end{tabular}\n"
      ],
      "text/plain": [
       "              pet[cat]             pet[dog]                 ones\n",
       "0               1.6667              19.1667              20.8333"
      ]
     },
     "metadata": {},
     "output_type": "display_data"
    }
   ],
   "source": [
    "pet_data_p1 = pet_data.copy()\n",
    "pet_data_p1['ones'] = 1.0\n",
    "\n",
    "formula = 'cost ~ (pet -1) + ones'\n",
    "sm_model = smf.ols(formula, data=pet_data_p1).fit()\n",
    "\n",
    "display(pd.DataFrame(sm_model.params).T)"
   ]
  },
  {
   "cell_type": "code",
   "execution_count": 32,
   "id": "78d35eb3",
   "metadata": {},
   "outputs": [
    {
     "data": {
      "text/html": [
       "<div>\n",
       "<style scoped>\n",
       "    .dataframe tbody tr th:only-of-type {\n",
       "        vertical-align: middle;\n",
       "    }\n",
       "\n",
       "    .dataframe tbody tr th {\n",
       "        vertical-align: top;\n",
       "    }\n",
       "\n",
       "    .dataframe thead th {\n",
       "        text-align: right;\n",
       "    }\n",
       "</style>\n",
       "<table border=\"1\" class=\"dataframe\">\n",
       "  <thead>\n",
       "    <tr style=\"text-align: right;\">\n",
       "      <th></th>\n",
       "      <th>predicted_sk</th>\n",
       "      <th>predicted_sm</th>\n",
       "      <th>actual</th>\n",
       "    </tr>\n",
       "  </thead>\n",
       "  <tbody>\n",
       "    <tr>\n",
       "      <th>0</th>\n",
       "      <td>22.5000</td>\n",
       "      <td>22.5000</td>\n",
       "      <td>20.0000</td>\n",
       "    </tr>\n",
       "    <tr>\n",
       "      <th>1</th>\n",
       "      <td>22.5000</td>\n",
       "      <td>22.5000</td>\n",
       "      <td>25.0000</td>\n",
       "    </tr>\n",
       "    <tr>\n",
       "      <th>2</th>\n",
       "      <td>40.0000</td>\n",
       "      <td>40.0000</td>\n",
       "      <td>40.0000</td>\n",
       "    </tr>\n",
       "  </tbody>\n",
       "</table>\n",
       "</div>"
      ],
      "text/latex": [
       "\\begin{tabular}{lrrr}\n",
       "\\toprule\n",
       "{} &         predicted\\_sk &         predicted\\_sm &               actual \\\\\n",
       "\\midrule\n",
       "0 &              22.5000 &              22.5000 &              20.0000 \\\\\n",
       "1 &              22.5000 &              22.5000 &              25.0000 \\\\\n",
       "2 &              40.0000 &              40.0000 &              40.0000 \\\\\n",
       "\\bottomrule\n",
       "\\end{tabular}\n"
      ],
      "text/plain": [
       "          predicted_sk         predicted_sm               actual\n",
       "0              22.5000              22.5000              20.0000\n",
       "1              22.5000              22.5000              25.0000\n",
       "2              40.0000              40.0000              40.0000"
      ]
     },
     "metadata": {},
     "output_type": "display_data"
    }
   ],
   "source": [
    "df = pd.DataFrame({'predicted_sk' : sk_model.predict(sk_ftrs)[:,0],\n",
    "                   'predicted_sm' : sm_model.predict(pet_data_p1),\n",
    "                   'actual' : sk_tgt[:,0]})\n",
    "\n",
    "display(df)"
   ]
  },
  {
   "cell_type": "code",
   "execution_count": 33,
   "id": "eb56f9d9",
   "metadata": {},
   "outputs": [
    {
     "data": {
      "text/html": [
       "<div>\n",
       "<style scoped>\n",
       "    .dataframe tbody tr th:only-of-type {\n",
       "        vertical-align: middle;\n",
       "    }\n",
       "\n",
       "    .dataframe tbody tr th {\n",
       "        vertical-align: top;\n",
       "    }\n",
       "\n",
       "    .dataframe thead th {\n",
       "        text-align: right;\n",
       "    }\n",
       "</style>\n",
       "<table border=\"1\" class=\"dataframe\">\n",
       "  <thead>\n",
       "    <tr style=\"text-align: right;\">\n",
       "      <th></th>\n",
       "      <th>pet</th>\n",
       "      <th>cost</th>\n",
       "      <th>ones</th>\n",
       "    </tr>\n",
       "  </thead>\n",
       "  <tbody>\n",
       "    <tr>\n",
       "      <th>0</th>\n",
       "      <td>cat</td>\n",
       "      <td>20.0000</td>\n",
       "      <td>1.0000</td>\n",
       "    </tr>\n",
       "    <tr>\n",
       "      <th>1</th>\n",
       "      <td>cat</td>\n",
       "      <td>25.0000</td>\n",
       "      <td>1.0000</td>\n",
       "    </tr>\n",
       "    <tr>\n",
       "      <th>2</th>\n",
       "      <td>dog</td>\n",
       "      <td>40.0000</td>\n",
       "      <td>1.0000</td>\n",
       "    </tr>\n",
       "  </tbody>\n",
       "</table>\n",
       "</div>"
      ],
      "text/latex": [
       "\\begin{tabular}{llrr}\n",
       "\\toprule\n",
       "{} &  pet &                 cost &                 ones \\\\\n",
       "\\midrule\n",
       "0 &  cat &              20.0000 &               1.0000 \\\\\n",
       "1 &  cat &              25.0000 &               1.0000 \\\\\n",
       "2 &  dog &              40.0000 &               1.0000 \\\\\n",
       "\\bottomrule\n",
       "\\end{tabular}\n"
      ],
      "text/plain": [
       "   pet                 cost                 ones\n",
       "0  cat              20.0000               1.0000\n",
       "1  cat              25.0000               1.0000\n",
       "2  dog              40.0000               1.0000"
      ]
     },
     "metadata": {},
     "output_type": "display_data"
    }
   ],
   "source": [
    "display(pet_data_p1)"
   ]
  },
  {
   "cell_type": "code",
   "execution_count": 35,
   "id": "79788d0d",
   "metadata": {},
   "outputs": [
    {
     "name": "stdout",
     "output_type": "stream",
     "text": [
      "pet - 1 coding\n",
      "[[1. 0.]\n",
      " [1. 0.]\n",
      " [0. 1.]]\n"
     ]
    }
   ],
   "source": [
    "print(\"pet - 1 coding\")\n",
    "print(patsy.dmatrix(\"pet - 1\", data=pet_data_p1))"
   ]
  },
  {
   "cell_type": "code",
   "execution_count": 36,
   "id": "c5197aee",
   "metadata": {},
   "outputs": [
    {
     "name": "stdout",
     "output_type": "stream",
     "text": [
      "column sum:\n"
     ]
    },
    {
     "data": {
      "text/html": [
       "<div>\n",
       "<style scoped>\n",
       "    .dataframe tbody tr th:only-of-type {\n",
       "        vertical-align: middle;\n",
       "    }\n",
       "\n",
       "    .dataframe tbody tr th {\n",
       "        vertical-align: top;\n",
       "    }\n",
       "\n",
       "    .dataframe thead th {\n",
       "        text-align: right;\n",
       "    }\n",
       "</style>\n",
       "<table border=\"1\" class=\"dataframe\">\n",
       "  <thead>\n",
       "    <tr style=\"text-align: right;\">\n",
       "      <th></th>\n",
       "      <th>0</th>\n",
       "    </tr>\n",
       "  </thead>\n",
       "  <tbody>\n",
       "    <tr>\n",
       "      <th>0</th>\n",
       "      <td>1.0000</td>\n",
       "    </tr>\n",
       "    <tr>\n",
       "      <th>1</th>\n",
       "      <td>1.0000</td>\n",
       "    </tr>\n",
       "    <tr>\n",
       "      <th>2</th>\n",
       "      <td>1.0000</td>\n",
       "    </tr>\n",
       "  </tbody>\n",
       "</table>\n",
       "</div>"
      ],
      "text/latex": [
       "\\begin{tabular}{lr}\n",
       "\\toprule\n",
       "{} &                    0 \\\\\n",
       "\\midrule\n",
       "0 &               1.0000 \\\\\n",
       "1 &               1.0000 \\\\\n",
       "2 &               1.0000 \\\\\n",
       "\\bottomrule\n",
       "\\end{tabular}\n"
      ],
      "text/plain": [
       "                     0\n",
       "0               1.0000\n",
       "1               1.0000\n",
       "2               1.0000"
      ]
     },
     "metadata": {},
     "output_type": "display_data"
    }
   ],
   "source": [
    "print(\"column sum:\")\n",
    "full_coding = patsy.dmatrix(\"pet - 1\",\n",
    "                           data=pet_data_p1,\n",
    "                           return_type='dataframe')\n",
    "display(pd.DataFrame(full_coding.sum(axis='columns')))"
   ]
  },
  {
   "cell_type": "code",
   "execution_count": 37,
   "id": "2f0ee40e",
   "metadata": {},
   "outputs": [],
   "source": [
    "# manual feature construction w/ xor function\n",
    "\n",
    "xor_data = [\n",
    "    [0,0,0],\n",
    "    [0,1,1],\n",
    "    [1,0,1],\n",
    "    [1,1,0]\n",
    "]"
   ]
  },
  {
   "cell_type": "code",
   "execution_count": 38,
   "id": "87de7956",
   "metadata": {},
   "outputs": [
    {
     "data": {
      "text/html": [
       "<div>\n",
       "<style scoped>\n",
       "    .dataframe tbody tr th:only-of-type {\n",
       "        vertical-align: middle;\n",
       "    }\n",
       "\n",
       "    .dataframe tbody tr th {\n",
       "        vertical-align: top;\n",
       "    }\n",
       "\n",
       "    .dataframe thead th {\n",
       "        text-align: right;\n",
       "    }\n",
       "</style>\n",
       "<table border=\"1\" class=\"dataframe\">\n",
       "  <thead>\n",
       "    <tr style=\"text-align: right;\">\n",
       "      <th></th>\n",
       "      <th>x1</th>\n",
       "      <th>x2</th>\n",
       "      <th>tgt</th>\n",
       "    </tr>\n",
       "  </thead>\n",
       "  <tbody>\n",
       "    <tr>\n",
       "      <th>0</th>\n",
       "      <td>0</td>\n",
       "      <td>0</td>\n",
       "      <td>0</td>\n",
       "    </tr>\n",
       "    <tr>\n",
       "      <th>1</th>\n",
       "      <td>0</td>\n",
       "      <td>1</td>\n",
       "      <td>1</td>\n",
       "    </tr>\n",
       "    <tr>\n",
       "      <th>2</th>\n",
       "      <td>1</td>\n",
       "      <td>0</td>\n",
       "      <td>1</td>\n",
       "    </tr>\n",
       "    <tr>\n",
       "      <th>3</th>\n",
       "      <td>1</td>\n",
       "      <td>1</td>\n",
       "      <td>0</td>\n",
       "    </tr>\n",
       "  </tbody>\n",
       "</table>\n",
       "</div>"
      ],
      "text/latex": [
       "\\begin{tabular}{lrrr}\n",
       "\\toprule\n",
       "{} &  x1 &  x2 &  tgt \\\\\n",
       "\\midrule\n",
       "0 &   0 &   0 &    0 \\\\\n",
       "1 &   0 &   1 &    1 \\\\\n",
       "2 &   1 &   0 &    1 \\\\\n",
       "3 &   1 &   1 &    0 \\\\\n",
       "\\bottomrule\n",
       "\\end{tabular}\n"
      ],
      "text/plain": [
       "   x1  x2  tgt\n",
       "0   0   0    0\n",
       "1   0   1    1\n",
       "2   1   0    1\n",
       "3   1   1    0"
      ]
     },
     "metadata": {},
     "output_type": "display_data"
    }
   ],
   "source": [
    "xor_df = pd.DataFrame(xor_data, columns=['x1', 'x2', 'tgt'])\n",
    "\n",
    "display(xor_df)"
   ]
  },
  {
   "cell_type": "code",
   "execution_count": 39,
   "id": "4c38483b",
   "metadata": {},
   "outputs": [
    {
     "data": {
      "text/plain": [
       "array([0, 0, 0, 0])"
      ]
     },
     "execution_count": 39,
     "metadata": {},
     "output_type": "execute_result"
    }
   ],
   "source": [
    "model = linear_model.LogisticRegression().fit(xor_df[['x1', 'x2']],\n",
    "                                             xor_df['tgt'])\n",
    "\n",
    "model.predict(xor_df[['x1', 'x2']])"
   ]
  },
  {
   "cell_type": "code",
   "execution_count": 40,
   "id": "05744641",
   "metadata": {},
   "outputs": [
    {
     "data": {
      "image/png": "[encoded data removed]",
      "text/plain": [
       "<Figure size 200x200 with 1 Axes>"
      ]
     },
     "metadata": {},
     "output_type": "display_data"
    }
   ],
   "source": [
    "fig, ax = plt.subplots(1,1,figsize=(2,2))\n",
    "ax.scatter('x1', 'x2', data=xor_df, c='tgt')\n",
    "ax.set_xlim(-1,2)\n",
    "ax.set_ylim(-1,2);\n",
    "\n",
    "# this is impossible to classify w/ a single line"
   ]
  },
  {
   "cell_type": "code",
   "execution_count": 41,
   "id": "9e87a7d3",
   "metadata": {},
   "outputs": [
    {
     "data": {
      "text/html": [
       "<div>\n",
       "<style scoped>\n",
       "    .dataframe tbody tr th:only-of-type {\n",
       "        vertical-align: middle;\n",
       "    }\n",
       "\n",
       "    .dataframe tbody tr th {\n",
       "        vertical-align: top;\n",
       "    }\n",
       "\n",
       "    .dataframe thead th {\n",
       "        text-align: right;\n",
       "    }\n",
       "</style>\n",
       "<table border=\"1\" class=\"dataframe\">\n",
       "  <thead>\n",
       "    <tr style=\"text-align: right;\">\n",
       "      <th></th>\n",
       "      <th>x1</th>\n",
       "      <th>x2</th>\n",
       "      <th>tgt</th>\n",
       "      <th>new</th>\n",
       "    </tr>\n",
       "  </thead>\n",
       "  <tbody>\n",
       "    <tr>\n",
       "      <th>0</th>\n",
       "      <td>0</td>\n",
       "      <td>0</td>\n",
       "      <td>0</td>\n",
       "      <td>1</td>\n",
       "    </tr>\n",
       "    <tr>\n",
       "      <th>1</th>\n",
       "      <td>0</td>\n",
       "      <td>1</td>\n",
       "      <td>1</td>\n",
       "      <td>-1</td>\n",
       "    </tr>\n",
       "    <tr>\n",
       "      <th>2</th>\n",
       "      <td>1</td>\n",
       "      <td>0</td>\n",
       "      <td>1</td>\n",
       "      <td>-1</td>\n",
       "    </tr>\n",
       "    <tr>\n",
       "      <th>3</th>\n",
       "      <td>1</td>\n",
       "      <td>1</td>\n",
       "      <td>0</td>\n",
       "      <td>1</td>\n",
       "    </tr>\n",
       "  </tbody>\n",
       "</table>\n",
       "</div>"
      ],
      "text/latex": [
       "\\begin{tabular}{lrrrr}\n",
       "\\toprule\n",
       "{} &  x1 &  x2 &  tgt &  new \\\\\n",
       "\\midrule\n",
       "0 &   0 &   0 &    0 &    1 \\\\\n",
       "1 &   0 &   1 &    1 &   -1 \\\\\n",
       "2 &   1 &   0 &    1 &   -1 \\\\\n",
       "3 &   1 &   1 &    0 &    1 \\\\\n",
       "\\bottomrule\n",
       "\\end{tabular}\n"
      ],
      "text/plain": [
       "   x1  x2  tgt  new\n",
       "0   0   0    0    1\n",
       "1   0   1    1   -1\n",
       "2   1   0    1   -1\n",
       "3   1   1    0    1"
      ]
     },
     "execution_count": 41,
     "metadata": {},
     "output_type": "execute_result"
    }
   ],
   "source": [
    "# constructing a new feature that we can use that will make it easier to separate classes\n",
    "\n",
    "xor_df['new'] = (-1)**xor_df['x1'] * (-1)**xor_df['x2']\n",
    "xor_df"
   ]
  },
  {
   "cell_type": "code",
   "execution_count": 42,
   "id": "becdfc16",
   "metadata": {},
   "outputs": [
    {
     "data": {
      "text/plain": [
       "array([0, 1, 1, 0])"
      ]
     },
     "execution_count": 42,
     "metadata": {},
     "output_type": "execute_result"
    }
   ],
   "source": [
    "model = linear_model.LogisticRegression().fit(xor_df[['new']], xor_df['tgt'])\n",
    "\n",
    "model.predict(xor_df[['new']])"
   ]
  },
  {
   "cell_type": "code",
   "execution_count": 44,
   "id": "582236fa",
   "metadata": {},
   "outputs": [
    {
     "data": {
      "text/html": [
       "<div>\n",
       "<style scoped>\n",
       "    .dataframe tbody tr th:only-of-type {\n",
       "        vertical-align: middle;\n",
       "    }\n",
       "\n",
       "    .dataframe tbody tr th {\n",
       "        vertical-align: top;\n",
       "    }\n",
       "\n",
       "    .dataframe thead th {\n",
       "        text-align: right;\n",
       "    }\n",
       "</style>\n",
       "<table border=\"1\" class=\"dataframe\">\n",
       "  <thead>\n",
       "    <tr style=\"text-align: right;\">\n",
       "      <th></th>\n",
       "      <th>sep length</th>\n",
       "      <th>sep width</th>\n",
       "      <th>sep area</th>\n",
       "    </tr>\n",
       "  </thead>\n",
       "  <tbody>\n",
       "    <tr>\n",
       "      <th>0</th>\n",
       "      <td>5.1000</td>\n",
       "      <td>3.5000</td>\n",
       "      <td>17.8500</td>\n",
       "    </tr>\n",
       "    <tr>\n",
       "      <th>50</th>\n",
       "      <td>7.0000</td>\n",
       "      <td>3.2000</td>\n",
       "      <td>22.4000</td>\n",
       "    </tr>\n",
       "    <tr>\n",
       "      <th>100</th>\n",
       "      <td>6.3000</td>\n",
       "      <td>3.3000</td>\n",
       "      <td>20.7900</td>\n",
       "    </tr>\n",
       "  </tbody>\n",
       "</table>\n",
       "</div>"
      ],
      "text/latex": [
       "\\begin{tabular}{lrrr}\n",
       "\\toprule\n",
       "{} &           sep length &            sep width &             sep area \\\\\n",
       "\\midrule\n",
       "0   &               5.1000 &               3.5000 &              17.8500 \\\\\n",
       "50  &               7.0000 &               3.2000 &              22.4000 \\\\\n",
       "100 &               6.3000 &               3.3000 &              20.7900 \\\\\n",
       "\\bottomrule\n",
       "\\end{tabular}\n"
      ],
      "text/plain": [
       "              sep length            sep width             sep area\n",
       "0                 5.1000               3.5000              17.8500\n",
       "50                7.0000               3.2000              22.4000\n",
       "100               6.3000               3.3000              20.7900"
      ]
     },
     "metadata": {},
     "output_type": "display_data"
    }
   ],
   "source": [
    "# parameters\n",
    "# degree: degree of terms\n",
    "# interaction_only: no x**2, only x*y (and x,y)\n",
    "# include_bias: constant term\n",
    "\n",
    "quad_inters = skpre.PolynomialFeatures(degree=2, interaction_only=True,\n",
    "                                      include_bias=False)\n",
    "subset = iris_df.loc[[0,50,100], ['sepal length', 'sepal width']]\n",
    "new_terms = pd.DataFrame(quad_inters.fit_transform(subset), index=[0, 50, 100])\n",
    "\n",
    "new_terms.set_axis(['sep length', 'sep width', 'sep area'], axis=1, inplace=True)\n",
    "\n",
    "# note: creating the interaction *also*\n",
    "# includes the base terms in the interaction\n",
    "display(new_terms)"
   ]
  },
  {
   "cell_type": "code",
   "execution_count": 45,
   "id": "e1d8ef12",
   "metadata": {},
   "outputs": [
    {
     "data": {
      "text/html": [
       "<div>\n",
       "<style scoped>\n",
       "    .dataframe tbody tr th:only-of-type {\n",
       "        vertical-align: middle;\n",
       "    }\n",
       "\n",
       "    .dataframe tbody tr th {\n",
       "        vertical-align: top;\n",
       "    }\n",
       "\n",
       "    .dataframe thead th {\n",
       "        text-align: right;\n",
       "    }\n",
       "</style>\n",
       "<table border=\"1\" class=\"dataframe\">\n",
       "  <thead>\n",
       "    <tr style=\"text-align: right;\">\n",
       "      <th></th>\n",
       "      <th>Q('sepal length'):Q('sepal width')</th>\n",
       "    </tr>\n",
       "  </thead>\n",
       "  <tbody>\n",
       "    <tr>\n",
       "      <th>0</th>\n",
       "      <td>17.8500</td>\n",
       "    </tr>\n",
       "    <tr>\n",
       "      <th>50</th>\n",
       "      <td>22.4000</td>\n",
       "    </tr>\n",
       "    <tr>\n",
       "      <th>100</th>\n",
       "      <td>20.7900</td>\n",
       "    </tr>\n",
       "  </tbody>\n",
       "</table>\n",
       "</div>"
      ],
      "text/latex": [
       "\\begin{tabular}{lr}\n",
       "\\toprule\n",
       "{} &  Q('sepal length'):Q('sepal width') \\\\\n",
       "\\midrule\n",
       "0   &                             17.8500 \\\\\n",
       "50  &                             22.4000 \\\\\n",
       "100 &                             20.7900 \\\\\n",
       "\\bottomrule\n",
       "\\end{tabular}\n"
      ],
      "text/plain": [
       "     Q('sepal length'):Q('sepal width')\n",
       "0                               17.8500\n",
       "50                              22.4000\n",
       "100                             20.7900"
      ]
     },
     "execution_count": 45,
     "metadata": {},
     "output_type": "execute_result"
    }
   ],
   "source": [
    "design_df = patsy.dmatrix(\"Q('sepal length'):Q('sepal width') - 1\",\n",
    "                         data=iris_df.iloc[[0,50,100]],\n",
    "                         return_type='dataframe')\n",
    "\n",
    "design_df"
   ]
  },
  {
   "cell_type": "code",
   "execution_count": 48,
   "id": "6ec6ed3a",
   "metadata": {},
   "outputs": [
    {
     "data": {
      "text/html": [
       "<div>\n",
       "<style scoped>\n",
       "    .dataframe tbody tr th:only-of-type {\n",
       "        vertical-align: middle;\n",
       "    }\n",
       "\n",
       "    .dataframe tbody tr th {\n",
       "        vertical-align: top;\n",
       "    }\n",
       "\n",
       "    .dataframe thead th {\n",
       "        text-align: right;\n",
       "    }\n",
       "</style>\n",
       "<table border=\"1\" class=\"dataframe\">\n",
       "  <thead>\n",
       "    <tr style=\"text-align: right;\">\n",
       "      <th></th>\n",
       "      <th>sepal length</th>\n",
       "      <th>sepal width</th>\n",
       "      <th>petal length</th>\n",
       "      <th>petal width</th>\n",
       "      <th>species</th>\n",
       "      <th>big_sepal</th>\n",
       "      <th>big petal</th>\n",
       "      <th>big_petal</th>\n",
       "    </tr>\n",
       "  </thead>\n",
       "  <tbody>\n",
       "    <tr>\n",
       "      <th>0</th>\n",
       "      <td>5.1000</td>\n",
       "      <td>3.5000</td>\n",
       "      <td>1.4000</td>\n",
       "      <td>0.2000</td>\n",
       "      <td>setosa</td>\n",
       "      <td>True</td>\n",
       "      <td>False</td>\n",
       "      <td>False</td>\n",
       "    </tr>\n",
       "    <tr>\n",
       "      <th>50</th>\n",
       "      <td>7.0000</td>\n",
       "      <td>3.2000</td>\n",
       "      <td>4.7000</td>\n",
       "      <td>1.4000</td>\n",
       "      <td>versicolor</td>\n",
       "      <td>True</td>\n",
       "      <td>True</td>\n",
       "      <td>True</td>\n",
       "    </tr>\n",
       "    <tr>\n",
       "      <th>100</th>\n",
       "      <td>6.3000</td>\n",
       "      <td>3.3000</td>\n",
       "      <td>6.0000</td>\n",
       "      <td>2.5000</td>\n",
       "      <td>virginica</td>\n",
       "      <td>True</td>\n",
       "      <td>True</td>\n",
       "      <td>True</td>\n",
       "    </tr>\n",
       "  </tbody>\n",
       "</table>\n",
       "</div>"
      ],
      "text/latex": [
       "\\begin{tabular}{lrrrrllll}\n",
       "\\toprule\n",
       "{} &         sepal length &          sepal width &         petal length &          petal width &     species &  big\\_sepal &  big petal &  big\\_petal \\\\\n",
       "\\midrule\n",
       "0   &               5.1000 &               3.5000 &               1.4000 &               0.2000 &      setosa &       True &      False &      False \\\\\n",
       "50  &               7.0000 &               3.2000 &               4.7000 &               1.4000 &  versicolor &       True &       True &       True \\\\\n",
       "100 &               6.3000 &               3.3000 &               6.0000 &               2.5000 &   virginica &       True &       True &       True \\\\\n",
       "\\bottomrule\n",
       "\\end{tabular}\n"
      ],
      "text/plain": [
       "            sepal length          sepal width         petal length  \\\n",
       "0                 5.1000               3.5000               1.4000   \n",
       "50                7.0000               3.2000               4.7000   \n",
       "100               6.3000               3.3000               6.0000   \n",
       "\n",
       "             petal width     species  big_sepal  big petal  big_petal  \n",
       "0                 0.2000      setosa       True      False      False  \n",
       "50                1.4000  versicolor       True       True       True  \n",
       "100               2.5000   virginica       True       True       True  "
      ]
     },
     "metadata": {},
     "output_type": "display_data"
    }
   ],
   "source": [
    "# create areas\n",
    "sepal_area = iris_df['sepal length'] * iris_df['sepal width']\n",
    "petal_area = iris_df['petal length'] * iris_df['petal width']\n",
    "\n",
    "# discretize\n",
    "iris_df['big_sepal'] = sepal_area > sepal_area.median()\n",
    "iris_df['big_petal'] = petal_area > petal_area.median()\n",
    "display(iris_df.iloc[[0,50,100]])"
   ]
  },
  {
   "cell_type": "code",
   "execution_count": 53,
   "id": "596afa65",
   "metadata": {},
   "outputs": [
    {
     "data": {
      "text/html": [
       "<div>\n",
       "<style scoped>\n",
       "    .dataframe tbody tr th:only-of-type {\n",
       "        vertical-align: middle;\n",
       "    }\n",
       "\n",
       "    .dataframe tbody tr th {\n",
       "        vertical-align: top;\n",
       "    }\n",
       "\n",
       "    .dataframe thead th {\n",
       "        text-align: right;\n",
       "    }\n",
       "</style>\n",
       "<table border=\"1\" class=\"dataframe\">\n",
       "  <thead>\n",
       "    <tr style=\"text-align: right;\">\n",
       "      <th></th>\n",
       "      <th>big_sepal[False]:big_petal[False]</th>\n",
       "      <th>big_sepal[True]:big_petal[False]</th>\n",
       "    </tr>\n",
       "  </thead>\n",
       "  <tbody>\n",
       "    <tr>\n",
       "      <th>0</th>\n",
       "      <td>0.0000</td>\n",
       "      <td>1.0000</td>\n",
       "    </tr>\n",
       "    <tr>\n",
       "      <th>50</th>\n",
       "      <td>0.0000</td>\n",
       "      <td>0.0000</td>\n",
       "    </tr>\n",
       "    <tr>\n",
       "      <th>100</th>\n",
       "      <td>0.0000</td>\n",
       "      <td>0.0000</td>\n",
       "    </tr>\n",
       "  </tbody>\n",
       "</table>\n",
       "</div>"
      ],
      "text/latex": [
       "\\begin{tabular}{lrr}\n",
       "\\toprule\n",
       "{} &  big\\_sepal[False]:big\\_petal[False] &  big\\_sepal[True]:big\\_petal[False] \\\\\n",
       "\\midrule\n",
       "0   &                             0.0000 &                            1.0000 \\\\\n",
       "50  &                             0.0000 &                            0.0000 \\\\\n",
       "100 &                             0.0000 &                            0.0000 \\\\\n",
       "\\bottomrule\n",
       "\\end{tabular}\n"
      ],
      "text/plain": [
       "     big_sepal[False]:big_petal[False]  big_sepal[True]:big_petal[False]\n",
       "0                               0.0000                            1.0000\n",
       "50                              0.0000                            0.0000\n",
       "100                             0.0000                            0.0000"
      ]
     },
     "metadata": {},
     "output_type": "display_data"
    },
    {
     "data": {
      "text/html": [
       "<div>\n",
       "<style scoped>\n",
       "    .dataframe tbody tr th:only-of-type {\n",
       "        vertical-align: middle;\n",
       "    }\n",
       "\n",
       "    .dataframe tbody tr th {\n",
       "        vertical-align: top;\n",
       "    }\n",
       "\n",
       "    .dataframe thead th {\n",
       "        text-align: right;\n",
       "    }\n",
       "</style>\n",
       "<table border=\"1\" class=\"dataframe\">\n",
       "  <thead>\n",
       "    <tr style=\"text-align: right;\">\n",
       "      <th></th>\n",
       "      <th>big_sepal[False]:big_petal[True]</th>\n",
       "      <th>big_sepal[True]:big_petal[True]</th>\n",
       "    </tr>\n",
       "  </thead>\n",
       "  <tbody>\n",
       "    <tr>\n",
       "      <th>0</th>\n",
       "      <td>0.0000</td>\n",
       "      <td>0.0000</td>\n",
       "    </tr>\n",
       "    <tr>\n",
       "      <th>50</th>\n",
       "      <td>0.0000</td>\n",
       "      <td>1.0000</td>\n",
       "    </tr>\n",
       "    <tr>\n",
       "      <th>100</th>\n",
       "      <td>0.0000</td>\n",
       "      <td>1.0000</td>\n",
       "    </tr>\n",
       "  </tbody>\n",
       "</table>\n",
       "</div>"
      ],
      "text/latex": [
       "\\begin{tabular}{lrr}\n",
       "\\toprule\n",
       "{} &  big\\_sepal[False]:big\\_petal[True] &  big\\_sepal[True]:big\\_petal[True] \\\\\n",
       "\\midrule\n",
       "0   &                            0.0000 &                           0.0000 \\\\\n",
       "50  &                            0.0000 &                           1.0000 \\\\\n",
       "100 &                            0.0000 &                           1.0000 \\\\\n",
       "\\bottomrule\n",
       "\\end{tabular}\n"
      ],
      "text/plain": [
       "     big_sepal[False]:big_petal[True]  big_sepal[True]:big_petal[True]\n",
       "0                              0.0000                           0.0000\n",
       "50                             0.0000                           1.0000\n",
       "100                            0.0000                           1.0000"
      ]
     },
     "metadata": {},
     "output_type": "display_data"
    }
   ],
   "source": [
    "design_df = patsy.dmatrix(\"big_sepal:big_petal - 1\",\n",
    "                         data=iris_df.iloc[[0,50,100]],\n",
    "                         return_type='dataframe')\n",
    "\n",
    "display(design_df.iloc[:, :2])\n",
    "display(design_df.iloc[:,2: ])"
   ]
  },
  {
   "cell_type": "code",
   "execution_count": 55,
   "id": "a058639f",
   "metadata": {},
   "outputs": [
    {
     "data": {
      "text/html": [
       "<div>\n",
       "<style scoped>\n",
       "    .dataframe tbody tr th:only-of-type {\n",
       "        vertical-align: middle;\n",
       "    }\n",
       "\n",
       "    .dataframe tbody tr th {\n",
       "        vertical-align: top;\n",
       "    }\n",
       "\n",
       "    .dataframe thead th {\n",
       "        text-align: right;\n",
       "    }\n",
       "</style>\n",
       "<table border=\"1\" class=\"dataframe\">\n",
       "  <thead>\n",
       "    <tr style=\"text-align: right;\">\n",
       "      <th></th>\n",
       "      <th>C(species, Treatment)[setosa]:Q('sepal length')</th>\n",
       "    </tr>\n",
       "  </thead>\n",
       "  <tbody>\n",
       "    <tr>\n",
       "      <th>0</th>\n",
       "      <td>5.1000</td>\n",
       "    </tr>\n",
       "    <tr>\n",
       "      <th>50</th>\n",
       "      <td>0.0000</td>\n",
       "    </tr>\n",
       "    <tr>\n",
       "      <th>100</th>\n",
       "      <td>0.0000</td>\n",
       "    </tr>\n",
       "  </tbody>\n",
       "</table>\n",
       "</div>"
      ],
      "text/latex": [
       "\\begin{tabular}{lr}\n",
       "\\toprule\n",
       "{} &  C(species, Treatment)[setosa]:Q('sepal length') \\\\\n",
       "\\midrule\n",
       "0   &                                           5.1000 \\\\\n",
       "50  &                                           0.0000 \\\\\n",
       "100 &                                           0.0000 \\\\\n",
       "\\bottomrule\n",
       "\\end{tabular}\n"
      ],
      "text/plain": [
       "     C(species, Treatment)[setosa]:Q('sepal length')\n",
       "0                                             5.1000\n",
       "50                                            0.0000\n",
       "100                                           0.0000"
      ]
     },
     "metadata": {},
     "output_type": "display_data"
    },
    {
     "data": {
      "text/html": [
       "<div>\n",
       "<style scoped>\n",
       "    .dataframe tbody tr th:only-of-type {\n",
       "        vertical-align: middle;\n",
       "    }\n",
       "\n",
       "    .dataframe tbody tr th {\n",
       "        vertical-align: top;\n",
       "    }\n",
       "\n",
       "    .dataframe thead th {\n",
       "        text-align: right;\n",
       "    }\n",
       "</style>\n",
       "<table border=\"1\" class=\"dataframe\">\n",
       "  <thead>\n",
       "    <tr style=\"text-align: right;\">\n",
       "      <th></th>\n",
       "      <th>C(species, Treatment)[versicolor]:Q('sepal length')</th>\n",
       "    </tr>\n",
       "  </thead>\n",
       "  <tbody>\n",
       "    <tr>\n",
       "      <th>0</th>\n",
       "      <td>0.0000</td>\n",
       "    </tr>\n",
       "    <tr>\n",
       "      <th>50</th>\n",
       "      <td>7.0000</td>\n",
       "    </tr>\n",
       "    <tr>\n",
       "      <th>100</th>\n",
       "      <td>0.0000</td>\n",
       "    </tr>\n",
       "  </tbody>\n",
       "</table>\n",
       "</div>"
      ],
      "text/latex": [
       "\\begin{tabular}{lr}\n",
       "\\toprule\n",
       "{} &  C(species, Treatment)[versicolor]:Q('sepal length') \\\\\n",
       "\\midrule\n",
       "0   &                                             0.0000 \\\\\n",
       "50  &                                             7.0000 \\\\\n",
       "100 &                                             0.0000 \\\\\n",
       "\\bottomrule\n",
       "\\end{tabular}\n"
      ],
      "text/plain": [
       "     C(species, Treatment)[versicolor]:Q('sepal length')\n",
       "0                                               0.0000  \n",
       "50                                              7.0000  \n",
       "100                                             0.0000  "
      ]
     },
     "metadata": {},
     "output_type": "display_data"
    },
    {
     "data": {
      "text/html": [
       "<div>\n",
       "<style scoped>\n",
       "    .dataframe tbody tr th:only-of-type {\n",
       "        vertical-align: middle;\n",
       "    }\n",
       "\n",
       "    .dataframe tbody tr th {\n",
       "        vertical-align: top;\n",
       "    }\n",
       "\n",
       "    .dataframe thead th {\n",
       "        text-align: right;\n",
       "    }\n",
       "</style>\n",
       "<table border=\"1\" class=\"dataframe\">\n",
       "  <thead>\n",
       "    <tr style=\"text-align: right;\">\n",
       "      <th></th>\n",
       "      <th>C(species, Treatment)[virginica]:Q('sepal length')</th>\n",
       "    </tr>\n",
       "  </thead>\n",
       "  <tbody>\n",
       "    <tr>\n",
       "      <th>0</th>\n",
       "      <td>0.0000</td>\n",
       "    </tr>\n",
       "    <tr>\n",
       "      <th>50</th>\n",
       "      <td>0.0000</td>\n",
       "    </tr>\n",
       "    <tr>\n",
       "      <th>100</th>\n",
       "      <td>6.3000</td>\n",
       "    </tr>\n",
       "  </tbody>\n",
       "</table>\n",
       "</div>"
      ],
      "text/latex": [
       "\\begin{tabular}{lr}\n",
       "\\toprule\n",
       "{} &  C(species, Treatment)[virginica]:Q('sepal length') \\\\\n",
       "\\midrule\n",
       "0   &                                             0.0000 \\\\\n",
       "50  &                                             0.0000 \\\\\n",
       "100 &                                             6.3000 \\\\\n",
       "\\bottomrule\n",
       "\\end{tabular}\n"
      ],
      "text/plain": [
       "     C(species, Treatment)[virginica]:Q('sepal length')\n",
       "0                                               0.0000 \n",
       "50                                              0.0000 \n",
       "100                                             6.3000 "
      ]
     },
     "metadata": {},
     "output_type": "display_data"
    }
   ],
   "source": [
    "design_df = patsy.dmatrix(\"C(species,Treatment):Q('sepal length') - 1\",\n",
    "                         data=iris_df.iloc[[0,50,100]],\n",
    "                         return_type='dataframe')\n",
    "\n",
    "# breaks up the long display names\n",
    "display(design_df.iloc[:,[0]])\n",
    "display(design_df.iloc[:,[1]])\n",
    "display(design_df.iloc[:,[2]])"
   ]
  },
  {
   "cell_type": "code",
   "execution_count": 56,
   "id": "a1881411",
   "metadata": {},
   "outputs": [
    {
     "data": {
      "text/plain": [
       "(3, 3)"
      ]
     },
     "execution_count": 56,
     "metadata": {},
     "output_type": "execute_result"
    }
   ],
   "source": [
    "design_df.shape"
   ]
  },
  {
   "cell_type": "code",
   "execution_count": 57,
   "id": "41b8bb64",
   "metadata": {},
   "outputs": [
    {
     "name": "stdout",
     "output_type": "stream",
     "text": [
      "0                   5.1000\n",
      "50                  7.0000\n",
      "100                 6.3000\n",
      "Name: sepal length, dtype: float64\n"
     ]
    }
   ],
   "source": [
    "print(iris_df.iloc[[0,50,100]]['sepal length'])"
   ]
  },
  {
   "cell_type": "code",
   "execution_count": 59,
   "id": "11d10286",
   "metadata": {},
   "outputs": [],
   "source": [
    "import statsmodels as sm\n",
    "import statsmodels.formula.api as smf\n",
    "\n",
    "design = \"C(species,Treatment):petal_area\"\n",
    "design_matrix = patsy.dmatrix(design, data=iris_df)\n",
    "\n",
    "lr = linear_model.LinearRegression(fit_intercept=False)"
   ]
  },
  {
   "cell_type": "code",
   "execution_count": 60,
   "id": "3a31e66c",
   "metadata": {},
   "outputs": [
    {
     "name": "stdout",
     "output_type": "stream",
     "text": [
      "[ 2.8378  1.402  -0.0034  0.0146]\n"
     ]
    }
   ],
   "source": [
    "mod = lr.fit(design_matrix, iris_df['sepal width'])\n",
    "print(mod.coef_)"
   ]
  },
  {
   "cell_type": "code",
   "execution_count": 61,
   "id": "cafc0c9a",
   "metadata": {},
   "outputs": [
    {
     "name": "stdout",
     "output_type": "stream",
     "text": [
      "Intercept                                                    2.8378\n",
      "C(species, Treatment)[setosa]:petal_area                     1.4020\n",
      "C(species, Treatment)[versicolor]:petal_area                -0.0034\n",
      "C(species, Treatment)[virginica]:petal_area                  0.0146\n",
      "dtype: float64\n"
     ]
    }
   ],
   "source": [
    "# same results\n",
    "\n",
    "formula = \"Q('sepal width') ~ C(species,Treatment):petal_area\"\n",
    "res1 = smf.ols(formula=formula, data=iris_df).fit()\n",
    "print(res1.params)"
   ]
  },
  {
   "cell_type": "code",
   "execution_count": 64,
   "id": "e37add28",
   "metadata": {},
   "outputs": [],
   "source": [
    "iris_df = pd.DataFrame(iris.data, columns=iris.feature_names)\n",
    "iris_df['species'] = iris.target_names[iris.target]\n",
    "\n",
    "area_df = pd.DataFrame({\"sepal_area\" : iris_df['sepal length'] * iris_df['sepal width'],\n",
    "                       \"petal_area\" : iris_df['petal length'] * iris_df['petal width']})"
   ]
  },
  {
   "cell_type": "code",
   "execution_count": 71,
   "id": "ef55305c",
   "metadata": {},
   "outputs": [
    {
     "name": "stdout",
     "output_type": "stream",
     "text": [
      "Large areas as compared to median?\n",
      "     sepal_area  petal_area\n",
      "0          True       False\n",
      "50         True       False\n",
      "100        True        True\n"
     ]
    }
   ],
   "source": [
    "def median_big_small(d):\n",
    "    return d > np.median(d)\n",
    "\n",
    "transformer = skpre.FunctionTransformer(median_big_small)\n",
    "res = transformer.fit_transform(area_df)\n",
    "\n",
    "print(\"Large areas as compared to median?\")\n",
    "print(res.iloc[[0,50,100]])"
   ]
  },
  {
   "cell_type": "code",
   "execution_count": 72,
   "id": "b694ebfe",
   "metadata": {},
   "outputs": [],
   "source": [
    "from sklearn.base import TransformerMixin\n",
    "class Median_Big_small(TransformerMixin):\n",
    "    def __init__(self):\n",
    "        pass\n",
    "    def fit(self,ftrs,tgt=None):\n",
    "        self.medians = np.median(ftrs)\n",
    "        return self\n",
    "    def transform(self,ftrs,tgt=None):\n",
    "        return ftrs > self.medians"
   ]
  },
  {
   "cell_type": "code",
   "execution_count": 76,
   "id": "ce99aa0b",
   "metadata": {},
   "outputs": [
    {
     "name": "stdout",
     "output_type": "stream",
     "text": [
      "train\n"
     ]
    },
    {
     "data": {
      "text/html": [
       "<div>\n",
       "<style scoped>\n",
       "    .dataframe tbody tr th:only-of-type {\n",
       "        vertical-align: middle;\n",
       "    }\n",
       "\n",
       "    .dataframe tbody tr th {\n",
       "        vertical-align: top;\n",
       "    }\n",
       "\n",
       "    .dataframe thead th {\n",
       "        text-align: right;\n",
       "    }\n",
       "</style>\n",
       "<table border=\"1\" class=\"dataframe\">\n",
       "  <thead>\n",
       "    <tr style=\"text-align: right;\">\n",
       "      <th></th>\n",
       "      <th>sepal_area</th>\n",
       "      <th>petal_area</th>\n",
       "    </tr>\n",
       "  </thead>\n",
       "  <tbody>\n",
       "    <tr>\n",
       "      <th>105</th>\n",
       "      <td>True</td>\n",
       "      <td>True</td>\n",
       "    </tr>\n",
       "    <tr>\n",
       "      <th>10</th>\n",
       "      <td>True</td>\n",
       "      <td>False</td>\n",
       "    </tr>\n",
       "    <tr>\n",
       "      <th>109</th>\n",
       "      <td>True</td>\n",
       "      <td>True</td>\n",
       "    </tr>\n",
       "    <tr>\n",
       "      <th>88</th>\n",
       "      <td>True</td>\n",
       "      <td>False</td>\n",
       "    </tr>\n",
       "    <tr>\n",
       "      <th>134</th>\n",
       "      <td>True</td>\n",
       "      <td>False</td>\n",
       "    </tr>\n",
       "    <tr>\n",
       "      <th>...</th>\n",
       "      <td>...</td>\n",
       "      <td>...</td>\n",
       "    </tr>\n",
       "    <tr>\n",
       "      <th>108</th>\n",
       "      <td>True</td>\n",
       "      <td>False</td>\n",
       "    </tr>\n",
       "    <tr>\n",
       "      <th>135</th>\n",
       "      <td>True</td>\n",
       "      <td>True</td>\n",
       "    </tr>\n",
       "    <tr>\n",
       "      <th>82</th>\n",
       "      <td>True</td>\n",
       "      <td>False</td>\n",
       "    </tr>\n",
       "    <tr>\n",
       "      <th>28</th>\n",
       "      <td>True</td>\n",
       "      <td>False</td>\n",
       "    </tr>\n",
       "    <tr>\n",
       "      <th>4</th>\n",
       "      <td>True</td>\n",
       "      <td>False</td>\n",
       "    </tr>\n",
       "  </tbody>\n",
       "</table>\n",
       "<p>112 rows × 2 columns</p>\n",
       "</div>"
      ],
      "text/latex": [
       "\\begin{tabular}{lll}\n",
       "\\toprule\n",
       "{} &  sepal\\_area &  petal\\_area \\\\\n",
       "\\midrule\n",
       "105 &        True &        True \\\\\n",
       "10  &        True &       False \\\\\n",
       "109 &        True &        True \\\\\n",
       "88  &        True &       False \\\\\n",
       "134 &        True &       False \\\\\n",
       "144 &        True &        True \\\\\n",
       "51  &        True &       False \\\\\n",
       "145 &        True &       False \\\\\n",
       "29  &        True &       False \\\\\n",
       "9   &        True &       False \\\\\n",
       "1   &        True &       False \\\\\n",
       "117 &        True &        True \\\\\n",
       "94  &        True &       False \\\\\n",
       "149 &        True &       False \\\\\n",
       "50  &        True &       False \\\\\n",
       "95  &        True &       False \\\\\n",
       "113 &        True &       False \\\\\n",
       "34  &        True &       False \\\\\n",
       "45  &        True &       False \\\\\n",
       "120 &        True &       False \\\\\n",
       "148 &        True &       False \\\\\n",
       "47  &        True &       False \\\\\n",
       "142 &        True &       False \\\\\n",
       "12  &        True &       False \\\\\n",
       "97  &        True &       False \\\\\n",
       "52  &        True &       False \\\\\n",
       "115 &        True &       False \\\\\n",
       "16  &        True &       False \\\\\n",
       "119 &       False &       False \\\\\n",
       "26  &        True &       False \\\\\n",
       "63  &        True &       False \\\\\n",
       "40  &        True &       False \\\\\n",
       "77  &        True &       False \\\\\n",
       "49  &        True &       False \\\\\n",
       "59  &        True &       False \\\\\n",
       "118 &        True &        True \\\\\n",
       "122 &        True &        True \\\\\n",
       "101 &        True &       False \\\\\n",
       "7   &        True &       False \\\\\n",
       "27  &        True &       False \\\\\n",
       "23  &        True &       False \\\\\n",
       "75  &        True &       False \\\\\n",
       "71  &        True &       False \\\\\n",
       "86  &        True &       False \\\\\n",
       "73  &        True &       False \\\\\n",
       "11  &        True &       False \\\\\n",
       "102 &        True &       False \\\\\n",
       "96  &        True &       False \\\\\n",
       "15  &        True &       False \\\\\n",
       "123 &        True &       False \\\\\n",
       "53  &       False &       False \\\\\n",
       "124 &        True &       False \\\\\n",
       "30  &        True &       False \\\\\n",
       "14  &        True &       False \\\\\n",
       "13  &       False &       False \\\\\n",
       "48  &        True &       False \\\\\n",
       "106 &       False &       False \\\\\n",
       "17  &        True &       False \\\\\n",
       "56  &        True &       False \\\\\n",
       "19  &        True &       False \\\\\n",
       "133 &        True &       False \\\\\n",
       "98  &       False &       False \\\\\n",
       "139 &        True &       False \\\\\n",
       "100 &        True &        True \\\\\n",
       "74  &        True &       False \\\\\n",
       "84  &        True &       False \\\\\n",
       "79  &        True &       False \\\\\n",
       "20  &        True &       False \\\\\n",
       "46  &        True &       False \\\\\n",
       "128 &        True &       False \\\\\n",
       "110 &        True &       False \\\\\n",
       "31  &        True &       False \\\\\n",
       "141 &        True &       False \\\\\n",
       "43  &        True &       False \\\\\n",
       "129 &        True &       False \\\\\n",
       "5   &        True &       False \\\\\n",
       "37  &        True &       False \\\\\n",
       "32  &        True &       False \\\\\n",
       "55  &        True &       False \\\\\n",
       "24  &        True &       False \\\\\n",
       "112 &        True &       False \\\\\n",
       "62  &       False &       False \\\\\n",
       "61  &        True &       False \\\\\n",
       "91  &        True &       False \\\\\n",
       "76  &        True &       False \\\\\n",
       "2   &        True &       False \\\\\n",
       "0   &        True &       False \\\\\n",
       "132 &        True &       False \\\\\n",
       "104 &        True &       False \\\\\n",
       "126 &        True &       False \\\\\n",
       "60  &       False &       False \\\\\n",
       "57  &       False &       False \\\\\n",
       "140 &        True &        True \\\\\n",
       "125 &        True &       False \\\\\n",
       "38  &       False &       False \\\\\n",
       "137 &        True &       False \\\\\n",
       "89  &        True &       False \\\\\n",
       "90  &        True &       False \\\\\n",
       "107 &        True &       False \\\\\n",
       "18  &        True &       False \\\\\n",
       "69  &        True &       False \\\\\n",
       "35  &        True &       False \\\\\n",
       "131 &        True &       False \\\\\n",
       "44  &        True &       False \\\\\n",
       "70  &        True &       False \\\\\n",
       "85  &        True &       False \\\\\n",
       "64  &        True &       False \\\\\n",
       "108 &        True &       False \\\\\n",
       "135 &        True &        True \\\\\n",
       "82  &        True &       False \\\\\n",
       "28  &        True &       False \\\\\n",
       "4   &        True &       False \\\\\n",
       "\\bottomrule\n",
       "\\end{tabular}\n"
      ],
      "text/plain": [
       "     sepal_area  petal_area\n",
       "105        True        True\n",
       "10         True       False\n",
       "109        True        True\n",
       "88         True       False\n",
       "134        True       False\n",
       "..          ...         ...\n",
       "108        True       False\n",
       "135        True        True\n",
       "82         True       False\n",
       "28         True       False\n",
       "4          True       False\n",
       "\n",
       "[112 rows x 2 columns]"
      ]
     },
     "metadata": {},
     "output_type": "display_data"
    },
    {
     "name": "stdout",
     "output_type": "stream",
     "text": [
      "test\n"
     ]
    },
    {
     "data": {
      "text/html": [
       "<div>\n",
       "<style scoped>\n",
       "    .dataframe tbody tr th:only-of-type {\n",
       "        vertical-align: middle;\n",
       "    }\n",
       "\n",
       "    .dataframe tbody tr th {\n",
       "        vertical-align: top;\n",
       "    }\n",
       "\n",
       "    .dataframe thead th {\n",
       "        text-align: right;\n",
       "    }\n",
       "</style>\n",
       "<table border=\"1\" class=\"dataframe\">\n",
       "  <thead>\n",
       "    <tr style=\"text-align: right;\">\n",
       "      <th></th>\n",
       "      <th>sepal_area</th>\n",
       "      <th>petal_area</th>\n",
       "    </tr>\n",
       "  </thead>\n",
       "  <tbody>\n",
       "    <tr>\n",
       "      <th>103</th>\n",
       "      <td>True</td>\n",
       "      <td>False</td>\n",
       "    </tr>\n",
       "    <tr>\n",
       "      <th>33</th>\n",
       "      <td>True</td>\n",
       "      <td>False</td>\n",
       "    </tr>\n",
       "    <tr>\n",
       "      <th>116</th>\n",
       "      <td>True</td>\n",
       "      <td>False</td>\n",
       "    </tr>\n",
       "    <tr>\n",
       "      <th>83</th>\n",
       "      <td>True</td>\n",
       "      <td>False</td>\n",
       "    </tr>\n",
       "    <tr>\n",
       "      <th>138</th>\n",
       "      <td>True</td>\n",
       "      <td>False</td>\n",
       "    </tr>\n",
       "    <tr>\n",
       "      <th>6</th>\n",
       "      <td>True</td>\n",
       "      <td>False</td>\n",
       "    </tr>\n",
       "    <tr>\n",
       "      <th>39</th>\n",
       "      <td>True</td>\n",
       "      <td>False</td>\n",
       "    </tr>\n",
       "    <tr>\n",
       "      <th>136</th>\n",
       "      <td>True</td>\n",
       "      <td>True</td>\n",
       "    </tr>\n",
       "    <tr>\n",
       "      <th>3</th>\n",
       "      <td>True</td>\n",
       "      <td>False</td>\n",
       "    </tr>\n",
       "    <tr>\n",
       "      <th>121</th>\n",
       "      <td>True</td>\n",
       "      <td>False</td>\n",
       "    </tr>\n",
       "    <tr>\n",
       "      <th>92</th>\n",
       "      <td>True</td>\n",
       "      <td>False</td>\n",
       "    </tr>\n",
       "    <tr>\n",
       "      <th>146</th>\n",
       "      <td>True</td>\n",
       "      <td>False</td>\n",
       "    </tr>\n",
       "    <tr>\n",
       "      <th>41</th>\n",
       "      <td>False</td>\n",
       "      <td>False</td>\n",
       "    </tr>\n",
       "    <tr>\n",
       "      <th>58</th>\n",
       "      <td>True</td>\n",
       "      <td>False</td>\n",
       "    </tr>\n",
       "    <tr>\n",
       "      <th>66</th>\n",
       "      <td>True</td>\n",
       "      <td>False</td>\n",
       "    </tr>\n",
       "    <tr>\n",
       "      <th>78</th>\n",
       "      <td>True</td>\n",
       "      <td>False</td>\n",
       "    </tr>\n",
       "    <tr>\n",
       "      <th>72</th>\n",
       "      <td>True</td>\n",
       "      <td>False</td>\n",
       "    </tr>\n",
       "    <tr>\n",
       "      <th>99</th>\n",
       "      <td>True</td>\n",
       "      <td>False</td>\n",
       "    </tr>\n",
       "    <tr>\n",
       "      <th>127</th>\n",
       "      <td>True</td>\n",
       "      <td>False</td>\n",
       "    </tr>\n",
       "    <tr>\n",
       "      <th>68</th>\n",
       "      <td>True</td>\n",
       "      <td>False</td>\n",
       "    </tr>\n",
       "    <tr>\n",
       "      <th>36</th>\n",
       "      <td>True</td>\n",
       "      <td>False</td>\n",
       "    </tr>\n",
       "    <tr>\n",
       "      <th>114</th>\n",
       "      <td>True</td>\n",
       "      <td>False</td>\n",
       "    </tr>\n",
       "    <tr>\n",
       "      <th>143</th>\n",
       "      <td>True</td>\n",
       "      <td>True</td>\n",
       "    </tr>\n",
       "    <tr>\n",
       "      <th>65</th>\n",
       "      <td>True</td>\n",
       "      <td>False</td>\n",
       "    </tr>\n",
       "    <tr>\n",
       "      <th>54</th>\n",
       "      <td>True</td>\n",
       "      <td>False</td>\n",
       "    </tr>\n",
       "    <tr>\n",
       "      <th>22</th>\n",
       "      <td>True</td>\n",
       "      <td>False</td>\n",
       "    </tr>\n",
       "    <tr>\n",
       "      <th>81</th>\n",
       "      <td>True</td>\n",
       "      <td>False</td>\n",
       "    </tr>\n",
       "    <tr>\n",
       "      <th>130</th>\n",
       "      <td>True</td>\n",
       "      <td>False</td>\n",
       "    </tr>\n",
       "    <tr>\n",
       "      <th>42</th>\n",
       "      <td>True</td>\n",
       "      <td>False</td>\n",
       "    </tr>\n",
       "    <tr>\n",
       "      <th>87</th>\n",
       "      <td>True</td>\n",
       "      <td>False</td>\n",
       "    </tr>\n",
       "    <tr>\n",
       "      <th>8</th>\n",
       "      <td>True</td>\n",
       "      <td>False</td>\n",
       "    </tr>\n",
       "    <tr>\n",
       "      <th>93</th>\n",
       "      <td>False</td>\n",
       "      <td>False</td>\n",
       "    </tr>\n",
       "    <tr>\n",
       "      <th>111</th>\n",
       "      <td>True</td>\n",
       "      <td>False</td>\n",
       "    </tr>\n",
       "    <tr>\n",
       "      <th>147</th>\n",
       "      <td>True</td>\n",
       "      <td>False</td>\n",
       "    </tr>\n",
       "    <tr>\n",
       "      <th>67</th>\n",
       "      <td>True</td>\n",
       "      <td>False</td>\n",
       "    </tr>\n",
       "    <tr>\n",
       "      <th>21</th>\n",
       "      <td>True</td>\n",
       "      <td>False</td>\n",
       "    </tr>\n",
       "    <tr>\n",
       "      <th>80</th>\n",
       "      <td>True</td>\n",
       "      <td>False</td>\n",
       "    </tr>\n",
       "    <tr>\n",
       "      <th>25</th>\n",
       "      <td>True</td>\n",
       "      <td>False</td>\n",
       "    </tr>\n",
       "  </tbody>\n",
       "</table>\n",
       "</div>"
      ],
      "text/latex": [
       "\\begin{tabular}{lll}\n",
       "\\toprule\n",
       "{} &  sepal\\_area &  petal\\_area \\\\\n",
       "\\midrule\n",
       "103 &        True &       False \\\\\n",
       "33  &        True &       False \\\\\n",
       "116 &        True &       False \\\\\n",
       "83  &        True &       False \\\\\n",
       "138 &        True &       False \\\\\n",
       "6   &        True &       False \\\\\n",
       "39  &        True &       False \\\\\n",
       "136 &        True &        True \\\\\n",
       "3   &        True &       False \\\\\n",
       "121 &        True &       False \\\\\n",
       "92  &        True &       False \\\\\n",
       "146 &        True &       False \\\\\n",
       "41  &       False &       False \\\\\n",
       "58  &        True &       False \\\\\n",
       "66  &        True &       False \\\\\n",
       "78  &        True &       False \\\\\n",
       "72  &        True &       False \\\\\n",
       "99  &        True &       False \\\\\n",
       "127 &        True &       False \\\\\n",
       "68  &        True &       False \\\\\n",
       "36  &        True &       False \\\\\n",
       "114 &        True &       False \\\\\n",
       "143 &        True &        True \\\\\n",
       "65  &        True &       False \\\\\n",
       "54  &        True &       False \\\\\n",
       "22  &        True &       False \\\\\n",
       "81  &        True &       False \\\\\n",
       "130 &        True &       False \\\\\n",
       "42  &        True &       False \\\\\n",
       "87  &        True &       False \\\\\n",
       "8   &        True &       False \\\\\n",
       "93  &       False &       False \\\\\n",
       "111 &        True &       False \\\\\n",
       "147 &        True &       False \\\\\n",
       "67  &        True &       False \\\\\n",
       "21  &        True &       False \\\\\n",
       "80  &        True &       False \\\\\n",
       "25  &        True &       False \\\\\n",
       "\\bottomrule\n",
       "\\end{tabular}\n"
      ],
      "text/plain": [
       "     sepal_area  petal_area\n",
       "103        True       False\n",
       "33         True       False\n",
       "116        True       False\n",
       "83         True       False\n",
       "138        True       False\n",
       "6          True       False\n",
       "39         True       False\n",
       "136        True        True\n",
       "3          True       False\n",
       "121        True       False\n",
       "92         True       False\n",
       "146        True       False\n",
       "41        False       False\n",
       "58         True       False\n",
       "66         True       False\n",
       "78         True       False\n",
       "72         True       False\n",
       "99         True       False\n",
       "127        True       False\n",
       "68         True       False\n",
       "36         True       False\n",
       "114        True       False\n",
       "143        True        True\n",
       "65         True       False\n",
       "54         True       False\n",
       "22         True       False\n",
       "81         True       False\n",
       "130        True       False\n",
       "42         True       False\n",
       "87         True       False\n",
       "8          True       False\n",
       "93        False       False\n",
       "111        True       False\n",
       "147        True       False\n",
       "67         True       False\n",
       "21         True       False\n",
       "80         True       False\n",
       "25         True       False"
      ]
     },
     "metadata": {},
     "output_type": "display_data"
    }
   ],
   "source": [
    "training, testing = skms.train_test_split(area_df)\n",
    "\n",
    "transformer = Median_Big_small()\n",
    "train_xform = transformer.fit_transform(training)\n",
    "test_xform = transformer.fit_transform(testing)\n",
    "\n",
    "print('train')\n",
    "display(train_xform)\n",
    "print('test')\n",
    "(display(test_xform))"
   ]
  },
  {
   "cell_type": "markdown",
   "id": "9fe5cb82",
   "metadata": {},
   "source": [
    "## Target Manipulations"
   ]
  },
  {
   "cell_type": "code",
   "execution_count": 78,
   "id": "6c35f403",
   "metadata": {},
   "outputs": [],
   "source": [
    "x = np.linspace(1, 10, 50)\n",
    "n1 = np.random.normal(size=x.shape)\n",
    "\n",
    "comparison = pd.DataFrame({\"x\" : x,\n",
    "                          \"d1\" : 2*x+5 + n1,\n",
    "                          \"d2\" : 2*x**2+5 + n1})\n",
    "\n",
    "comparison['x'] = x\n",
    "melted = pd.melt(comparison, id_vars=['x'])"
   ]
  },
  {
   "cell_type": "code",
   "execution_count": 81,
   "id": "de9bb0db",
   "metadata": {},
   "outputs": [
    {
     "data": {
      "image/png": "[encoded data removed]",
      "text/plain": [
       "<Figure size 1000x500 with 2 Axes>"
      ]
     },
     "metadata": {},
     "output_type": "display_data"
    }
   ],
   "source": [
    "sns.lmplot(x='x', y='value',\n",
    "          data=melted, col='variable', ci=None);"
   ]
  },
  {
   "cell_type": "code",
   "execution_count": 82,
   "id": "34327d56",
   "metadata": {},
   "outputs": [
    {
     "data": {
      "text/plain": [
       "<bound method Figure.tight_layout of <Figure size 800x300 with 2 Axes>>"
      ]
     },
     "execution_count": 82,
     "metadata": {},
     "output_type": "execute_result"
    },
    {
     "data": {
      "image/png": "[encoded data removed]",
      "text/plain": [
       "<Figure size 800x300 with 2 Axes>"
      ]
     },
     "metadata": {},
     "output_type": "display_data"
    }
   ],
   "source": [
    "fig, axes = plt.subplots(1,2,figsize=(8,3))\n",
    "for ax, variable in zip(axes, ['d1','d2']):\n",
    "    predicted = (smf.ols(\"{} ~ x\".format(variable), data=comparison)\n",
    "                    .fit()\n",
    "                    .predict())\n",
    "    actual = comparison[variable]\n",
    "    sns.distplot(predicted - actual, norm_hist=True, rug=True, ax=ax)\n",
    "    ax.set_xlabel(variable)\n",
    "    ax.set_ylabel('residual')\n",
    "    \n",
    "fig.tight_layout"
   ]
  },
  {
   "cell_type": "code",
   "execution_count": 83,
   "id": "23d19159",
   "metadata": {},
   "outputs": [
    {
     "data": {
      "image/png": "[encoded data removed]",
      "text/plain": [
       "<Figure size 800x300 with 2 Axes>"
      ]
     },
     "metadata": {},
     "output_type": "display_data"
    }
   ],
   "source": [
    "magic = pd.DataFrame({\"d2\" : 2*x**2+5+n1,\n",
    "                     \"x_sq\" : x**2})\n",
    "melted = pd.melt(magic, id_vars=['x_sq'])\n",
    "\n",
    "fig, (ax1,ax2) = plt.subplots(1,2,figsize=(8,3))\n",
    "sns.regplot(x='x_sq', y='value',\n",
    "           data=melted, ci=None, ax=ax1)\n",
    "\n",
    "predicted = (smf.ols(\"d2 ~ x_sq\", data=magic)\n",
    "                .fit()\n",
    "                .predict())\n",
    "\n",
    "actual = comparison['d2']\n",
    "sns.distplot(predicted - actual, rug=True,\n",
    "            norm_hist=True, ax=ax2)\n",
    "\n",
    "ax2.set_title('histogram')\n",
    "ax2.set_xlim(-3,3)\n",
    "ax2.set_ylim(0, .45)\n",
    "ax2.set_ylabel('residual');"
   ]
  },
  {
   "cell_type": "code",
   "execution_count": 85,
   "id": "d336d5ae",
   "metadata": {},
   "outputs": [
    {
     "data": {
      "text/plain": [
       "<seaborn.axisgrid.FacetGrid at 0x7fa5f9dbbbb0>"
      ]
     },
     "execution_count": 85,
     "metadata": {},
     "output_type": "execute_result"
    },
    {
     "data": {
      "image/png": "[encoded data removed]",
      "text/plain": [
       "<Figure size 1000x500 with 2 Axes>"
      ]
     },
     "metadata": {},
     "output_type": "display_data"
    }
   ],
   "source": [
    "x = np.linspace(1,10,50)\n",
    "\n",
    "n1 = np.random.normal(size=x.shape)\n",
    "n2 = .5*x*np.random.normal(size=x.shape)\n",
    "\n",
    "comparison = pd.DataFrame({\"x\" : x,\n",
    "                           \"d1\" : 2*x+5+n1,\n",
    "                           \"d2\" : 2*x+5+n2})\n",
    "\n",
    "comparison['x'] = x\n",
    "melted = pd.melt(comparison, id_vars=['x'])\n",
    "\n",
    "sns.lmplot(x='x', y='value',\n",
    "        data=melted, col='variable', ci=None)"
   ]
  },
  {
   "cell_type": "code",
   "execution_count": 86,
   "id": "e64eaa76",
   "metadata": {},
   "outputs": [
    {
     "data": {
      "image/png": "[encoded data removed]",
      "text/plain": [
       "<Figure size 800x300 with 2 Axes>"
      ]
     },
     "metadata": {},
     "output_type": "display_data"
    }
   ],
   "source": [
    "fig, axes = plt.subplots(1,2,figsize=(8,3))\n",
    "for ax, variable in zip(axes, ['d1', 'd2']):\n",
    "    predicted = (smf.ols(\"{} ~ x\".format(variable),data=comparison)\n",
    "                    .fit()\n",
    "                    .predict())\n",
    "    actual = comparison[variable]\n",
    "    sns.distplot(predicted - actual, norm_hist=True, rug=True, ax=ax)\n",
    "    ax.set_xlabel(variable)\n",
    "    ax.set_ylabel('residual')\n",
    "    \n",
    "fig.tight_layout()"
   ]
  },
  {
   "cell_type": "code",
   "execution_count": 89,
   "id": "7d3f2892",
   "metadata": {},
   "outputs": [
    {
     "data": {
      "image/png": "[encoded data removed]",
      "text/plain": [
       "<Figure size 800x300 with 2 Axes>"
      ]
     },
     "metadata": {},
     "output_type": "display_data"
    }
   ],
   "source": [
    "magic = pd.DataFrame({\"log_d2\" : np.log(comparison['d2']),\n",
    "                      \"x\"      : x})\n",
    "melted = pd.melt(magic, id_vars=['x'])\n",
    "\n",
    "fig, (ax1,ax2) = plt.subplots(1,2,figsize=(8,3))\n",
    "sns.regplot(x='x', y='value', data=melted, ci=None, ax=ax1)\n",
    "\n",
    "predicted = (smf.ols(\"log_d2 ~ x\", data=magic)\n",
    "                .fit()\n",
    "                .predict())\n",
    "\n",
    "actual = magic['log_d2']\n",
    "sns.distplot(predicted - actual, rug=True, ax=ax2)\n",
    "\n",
    "ax2.set_title('histogram')\n",
    "ax2.set_xlim(-.7,.7)\n",
    "ax2.set_ylim(0,3)\n",
    "ax2.set_ylabel('residual');"
   ]
  },
  {
   "cell_type": "code",
   "execution_count": null,
   "id": "a14858ad",
   "metadata": {},
   "outputs": [],
   "source": []
  }
 ],
 "metadata": {
  "kernelspec": {
   "display_name": "Python 3 (ipykernel)",
   "language": "python",
   "name": "python3"
  },
  "language_info": {
   "codemirror_mode": {
    "name": "ipython",
    "version": 3
   },
   "file_extension": ".py",
   "mimetype": "text/x-python",
   "name": "python",
   "nbconvert_exporter": "python",
   "pygments_lexer": "ipython3",
   "version": "3.8.16"
  }
 },
 "nbformat": 4,
 "nbformat_minor": 5
}
