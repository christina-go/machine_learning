{
 "cells": [
  {
   "cell_type": "code",
   "execution_count": 2,
   "id": "e67caca0",
   "metadata": {},
   "outputs": [],
   "source": [
    "from mlwpy import *\n",
    "%matplotlib inline\n",
    "\n",
    "iris = datasets.load_iris()"
   ]
  },
  {
   "cell_type": "code",
   "execution_count": 3,
   "id": "26128322",
   "metadata": {},
   "outputs": [],
   "source": [
    "(iris_train, iris_test, \n",
    " iris_train_tgt, iris_test_tgt) = skms.train_test_split(iris.data, iris.target,\n",
    "                                                        test_size=.25)\n",
    "\n",
    "# remove units ' (cm)' from names\n",
    "iris.feature_names = [fn[:-5] for fn in iris.feature_names]\n",
    "\n",
    "# dataframe for convenience\n",
    "iris_df = pd.DataFrame(iris.data, columns=iris.feature_names)\n",
    "iris_df['species'] = iris.target_names[iris.target]"
   ]
  },
  {
   "cell_type": "code",
   "execution_count": 4,
   "id": "ad8fa5d3",
   "metadata": {},
   "outputs": [
    {
     "data": {
      "text/html": [
       "<div>\n",
       "<style scoped>\n",
       "    .dataframe tbody tr th:only-of-type {\n",
       "        vertical-align: middle;\n",
       "    }\n",
       "\n",
       "    .dataframe tbody tr th {\n",
       "        vertical-align: top;\n",
       "    }\n",
       "\n",
       "    .dataframe thead th {\n",
       "        text-align: right;\n",
       "    }\n",
       "</style>\n",
       "<table border=\"1\" class=\"dataframe\">\n",
       "  <thead>\n",
       "    <tr style=\"text-align: right;\">\n",
       "      <th></th>\n",
       "      <th>sepal length</th>\n",
       "      <th>sepal width</th>\n",
       "      <th>petal length</th>\n",
       "      <th>petal width</th>\n",
       "      <th>species</th>\n",
       "    </tr>\n",
       "  </thead>\n",
       "  <tbody>\n",
       "    <tr>\n",
       "      <th>0</th>\n",
       "      <td>5.1000</td>\n",
       "      <td>3.5000</td>\n",
       "      <td>1.4000</td>\n",
       "      <td>0.2000</td>\n",
       "      <td>setosa</td>\n",
       "    </tr>\n",
       "    <tr>\n",
       "      <th>1</th>\n",
       "      <td>4.9000</td>\n",
       "      <td>3.0000</td>\n",
       "      <td>1.4000</td>\n",
       "      <td>0.2000</td>\n",
       "      <td>setosa</td>\n",
       "    </tr>\n",
       "    <tr>\n",
       "      <th>2</th>\n",
       "      <td>4.7000</td>\n",
       "      <td>3.2000</td>\n",
       "      <td>1.3000</td>\n",
       "      <td>0.2000</td>\n",
       "      <td>setosa</td>\n",
       "    </tr>\n",
       "    <tr>\n",
       "      <th>3</th>\n",
       "      <td>4.6000</td>\n",
       "      <td>3.1000</td>\n",
       "      <td>1.5000</td>\n",
       "      <td>0.2000</td>\n",
       "      <td>setosa</td>\n",
       "    </tr>\n",
       "    <tr>\n",
       "      <th>4</th>\n",
       "      <td>5.0000</td>\n",
       "      <td>3.6000</td>\n",
       "      <td>1.4000</td>\n",
       "      <td>0.2000</td>\n",
       "      <td>setosa</td>\n",
       "    </tr>\n",
       "  </tbody>\n",
       "</table>\n",
       "</div>"
      ],
      "text/latex": [
       "\\begin{tabular}{lrrrrl}\n",
       "\\toprule\n",
       "{} &         sepal length &          sepal width &         petal length &          petal width & species \\\\\n",
       "\\midrule\n",
       "0 &               5.1000 &               3.5000 &               1.4000 &               0.2000 &  setosa \\\\\n",
       "1 &               4.9000 &               3.0000 &               1.4000 &               0.2000 &  setosa \\\\\n",
       "2 &               4.7000 &               3.2000 &               1.3000 &               0.2000 &  setosa \\\\\n",
       "3 &               4.6000 &               3.1000 &               1.5000 &               0.2000 &  setosa \\\\\n",
       "4 &               5.0000 &               3.6000 &               1.4000 &               0.2000 &  setosa \\\\\n",
       "\\bottomrule\n",
       "\\end{tabular}\n"
      ],
      "text/plain": [
       "          sepal length          sepal width         petal length  \\\n",
       "0               5.1000               3.5000               1.4000   \n",
       "1               4.9000               3.0000               1.4000   \n",
       "2               4.7000               3.2000               1.3000   \n",
       "3               4.6000               3.1000               1.5000   \n",
       "4               5.0000               3.6000               1.4000   \n",
       "\n",
       "           petal width species  \n",
       "0               0.2000  setosa  \n",
       "1               0.2000  setosa  \n",
       "2               0.2000  setosa  \n",
       "3               0.2000  setosa  \n",
       "4               0.2000  setosa  "
      ]
     },
     "execution_count": 4,
     "metadata": {},
     "output_type": "execute_result"
    }
   ],
   "source": [
    "iris_df.head()"
   ]
  },
  {
   "cell_type": "code",
   "execution_count": 6,
   "id": "df437462",
   "metadata": {},
   "outputs": [
    {
     "data": {
      "image/png": "[encoded data removed]",
      "text/plain": [
       "<Figure size 400x300 with 1 Axes>"
      ]
     },
     "metadata": {},
     "output_type": "display_data"
    }
   ],
   "source": [
    "fig, ax = plt.subplots(1,1,figsize=(4,3))\n",
    "f_temps = np.linspace(0, 212, 100)\n",
    "c_temps = (5/9) * (f_temps - 32)\n",
    "\n",
    "plt.plot(f_temps, f_temps, 'r', # F -> F\n",
    "         f_temps, c_temps, 'b'); # F -> C"
   ]
  },
  {
   "cell_type": "code",
   "execution_count": 7,
   "id": "492c959a",
   "metadata": {},
   "outputs": [
    {
     "data": {
      "image/png": "[encoded data removed]",
      "text/plain": [
       "<Figure size 400x300 with 1 Axes>"
      ]
     },
     "metadata": {},
     "output_type": "display_data"
    }
   ],
   "source": [
    "fig, ax = plt.subplots(1, 1, figsize=(4,3))\n",
    "original = np.random.uniform(-5, 5, 100)\n",
    "scaled = skpre.StandardScaler().fit_transform(original.reshape(-1,1))[:,0]\n",
    "bins = np.floor(original).astype(np.uint8) + 5\n",
    "\n",
    "df = pd.DataFrame({'original': original,\n",
    "                   'scaled': scaled,\n",
    "                   'hue': bins})\n",
    "\n",
    "df = pd.melt(df, id_vars='hue', var_name='scale')\n",
    "\n",
    "sns.swarmplot(x='scale', y='value', hue='hue', data=df).legend_.remove()"
   ]
  },
  {
   "cell_type": "code",
   "execution_count": 12,
   "id": "94701a91",
   "metadata": {},
   "outputs": [
    {
     "data": {
      "image/png": "[encoded data removed]",
      "text/plain": [
       "<Figure size 400x300 with 1 Axes>"
      ]
     },
     "metadata": {},
     "output_type": "display_data"
    }
   ],
   "source": [
    "iris_df = pd.DataFrame(iris.data, columns=iris.feature_names)\n",
    "\n",
    "bins = pd.cut(iris_df['sepal width'],\n",
    "             np.percentile(iris_df['sepal width'],\n",
    "                          [25, 50, 75, 100])).cat.codes\n",
    "\n",
    "df = pd.DataFrame({'orig':iris_df['sepal width'],\n",
    "                  'hue':bins})\n",
    "\n",
    "scalers = [('std', skpre.StandardScaler()),\n",
    "          ('01', skpre.MinMaxScaler()),\n",
    "          ('-1', skpre.MinMaxScaler((-1,1)))]\n",
    "\n",
    "for name, scaler in scalers:\n",
    "    df[name] = scaler.fit_transform(df[['orig']]).reshape(-1)\n",
    "    \n",
    "df = pd.melt(df, id_vars='hue', var_name='scale')\n",
    "sns.swarmplot(x='scale', y='value', hue='hue', data=df).legend_.remove()"
   ]
  },
  {
   "cell_type": "code",
   "execution_count": 17,
   "id": "c90013f5",
   "metadata": {},
   "outputs": [
    {
     "data": {
      "text/html": [
       "<div>\n",
       "<style scoped>\n",
       "    .dataframe tbody tr th:only-of-type {\n",
       "        vertical-align: middle;\n",
       "    }\n",
       "\n",
       "    .dataframe tbody tr th {\n",
       "        vertical-align: top;\n",
       "    }\n",
       "\n",
       "    .dataframe thead th {\n",
       "        text-align: right;\n",
       "    }\n",
       "</style>\n",
       "<table border=\"1\" class=\"dataframe\">\n",
       "  <thead>\n",
       "    <tr style=\"text-align: right;\">\n",
       "      <th></th>\n",
       "      <th>sepal length</th>\n",
       "      <th>sepal width</th>\n",
       "      <th>petal length</th>\n",
       "      <th>petal width</th>\n",
       "      <th>species</th>\n",
       "    </tr>\n",
       "  </thead>\n",
       "  <tbody>\n",
       "    <tr>\n",
       "      <th>0</th>\n",
       "      <td>5.1000</td>\n",
       "      <td>3.5000</td>\n",
       "      <td>1.4000</td>\n",
       "      <td>0.2000</td>\n",
       "      <td>setosa</td>\n",
       "    </tr>\n",
       "    <tr>\n",
       "      <th>50</th>\n",
       "      <td>7.0000</td>\n",
       "      <td>3.2000</td>\n",
       "      <td>4.7000</td>\n",
       "      <td>1.4000</td>\n",
       "      <td>versicolor</td>\n",
       "    </tr>\n",
       "    <tr>\n",
       "      <th>100</th>\n",
       "      <td>6.3000</td>\n",
       "      <td>3.3000</td>\n",
       "      <td>6.0000</td>\n",
       "      <td>2.5000</td>\n",
       "      <td>virginica</td>\n",
       "    </tr>\n",
       "  </tbody>\n",
       "</table>\n",
       "</div>"
      ],
      "text/latex": [
       "\\begin{tabular}{lrrrrl}\n",
       "\\toprule\n",
       "{} &         sepal length &          sepal width &         petal length &          petal width &     species \\\\\n",
       "\\midrule\n",
       "0   &               5.1000 &               3.5000 &               1.4000 &               0.2000 &      setosa \\\\\n",
       "50  &               7.0000 &               3.2000 &               4.7000 &               1.4000 &  versicolor \\\\\n",
       "100 &               6.3000 &               3.3000 &               6.0000 &               2.5000 &   virginica \\\\\n",
       "\\bottomrule\n",
       "\\end{tabular}\n"
      ],
      "text/plain": [
       "            sepal length          sepal width         petal length  \\\n",
       "0                 5.1000               3.5000               1.4000   \n",
       "50                7.0000               3.2000               4.7000   \n",
       "100               6.3000               3.3000               6.0000   \n",
       "\n",
       "             petal width     species  \n",
       "0                 0.2000      setosa  \n",
       "50                1.4000  versicolor  \n",
       "100               2.5000   virginica  "
      ]
     },
     "metadata": {},
     "output_type": "display_data"
    }
   ],
   "source": [
    "# discretization\n",
    "\n",
    "iris_df = pd.DataFrame(iris.data, columns=iris.feature_names)\n",
    "iris_df['species'] = iris.target_names[iris.target]\n",
    "\n",
    "display(iris_df.iloc[[0,50,100]])"
   ]
  },
  {
   "cell_type": "code",
   "execution_count": 15,
   "id": "cff7ef4e",
   "metadata": {},
   "outputs": [
    {
     "data": {
      "text/plain": [
       "array(['setosa', 'versicolor', 'virginica'], dtype='<U10')"
      ]
     },
     "execution_count": 15,
     "metadata": {},
     "output_type": "execute_result"
    }
   ],
   "source": [
    "iris.target_names"
   ]
  },
  {
   "cell_type": "code",
   "execution_count": 16,
   "id": "b157a06d",
   "metadata": {},
   "outputs": [
    {
     "data": {
      "text/plain": [
       "array([0, 0, 0, 0, 0, 0, 0, 0, 0, 0, 0, 0, 0, 0, 0, 0, 0, 0, 0, 0, 0, 0,\n",
       "       0, 0, 0, 0, 0, 0, 0, 0, 0, 0, 0, 0, 0, 0, 0, 0, 0, 0, 0, 0, 0, 0,\n",
       "       0, 0, 0, 0, 0, 0, 1, 1, 1, 1, 1, 1, 1, 1, 1, 1, 1, 1, 1, 1, 1, 1,\n",
       "       1, 1, 1, 1, 1, 1, 1, 1, 1, 1, 1, 1, 1, 1, 1, 1, 1, 1, 1, 1, 1, 1,\n",
       "       1, 1, 1, 1, 1, 1, 1, 1, 1, 1, 1, 1, 2, 2, 2, 2, 2, 2, 2, 2, 2, 2,\n",
       "       2, 2, 2, 2, 2, 2, 2, 2, 2, 2, 2, 2, 2, 2, 2, 2, 2, 2, 2, 2, 2, 2,\n",
       "       2, 2, 2, 2, 2, 2, 2, 2, 2, 2, 2, 2, 2, 2, 2, 2, 2, 2])"
      ]
     },
     "execution_count": 16,
     "metadata": {},
     "output_type": "execute_result"
    }
   ],
   "source": [
    "iris.target"
   ]
  },
  {
   "cell_type": "code",
   "execution_count": 18,
   "id": "8301d4fd",
   "metadata": {},
   "outputs": [
    {
     "data": {
      "image/png": "[encoded data removed]",
      "text/plain": [
       "<Figure size 400x300 with 1 Axes>"
      ]
     },
     "metadata": {},
     "output_type": "display_data"
    }
   ],
   "source": [
    "plt.subplots(1,1,figsize=(4,3))\n",
    "ax = sns.distplot(iris_df['sepal length'], hist=False, rug=True)\n",
    "ax.set_ylabel(\"Approximate %\");"
   ]
  },
  {
   "cell_type": "code",
   "execution_count": 77,
   "id": "4029e614",
   "metadata": {},
   "outputs": [
    {
     "name": "stdout",
     "output_type": "stream",
     "text": [
      "Column Mean [5.8433]\n"
     ]
    },
    {
     "data": {
      "text/html": [
       "<div>\n",
       "<style scoped>\n",
       "    .dataframe tbody tr th:only-of-type {\n",
       "        vertical-align: middle;\n",
       "    }\n",
       "\n",
       "    .dataframe tbody tr th {\n",
       "        vertical-align: top;\n",
       "    }\n",
       "\n",
       "    .dataframe thead th {\n",
       "        text-align: right;\n",
       "    }\n",
       "</style>\n",
       "<table border=\"1\" class=\"dataframe\">\n",
       "  <thead>\n",
       "    <tr style=\"text-align: right;\">\n",
       "      <th></th>\n",
       "      <th>sepal length</th>\n",
       "      <th>&gt; Mean</th>\n",
       "    </tr>\n",
       "  </thead>\n",
       "  <tbody>\n",
       "    <tr>\n",
       "      <th>0</th>\n",
       "      <td>5.1000</td>\n",
       "      <td>False</td>\n",
       "    </tr>\n",
       "    <tr>\n",
       "      <th>50</th>\n",
       "      <td>7.0000</td>\n",
       "      <td>True</td>\n",
       "    </tr>\n",
       "    <tr>\n",
       "      <th>100</th>\n",
       "      <td>6.3000</td>\n",
       "      <td>True</td>\n",
       "    </tr>\n",
       "  </tbody>\n",
       "</table>\n",
       "</div>"
      ],
      "text/latex": [
       "\\begin{tabular}{lrl}\n",
       "\\toprule\n",
       "{} &         sepal length &  > Mean \\\\\n",
       "\\midrule\n",
       "0   &               5.1000 &   False \\\\\n",
       "50  &               7.0000 &    True \\\\\n",
       "100 &               6.3000 &    True \\\\\n",
       "\\bottomrule\n",
       "\\end{tabular}\n"
      ],
      "text/plain": [
       "            sepal length  > Mean\n",
       "0                 5.1000   False\n",
       "50                7.0000    True\n",
       "100               6.3000    True"
      ]
     },
     "metadata": {},
     "output_type": "display_data"
    }
   ],
   "source": [
    "column = iris_df[['sepal length']] #keep 2Dness bc sk complains\n",
    "col_mean = column.mean().values\n",
    "\n",
    "\n",
    "both = column.copy()\n",
    "both['> Mean'] = np.where(column > column.mean(), True, False)\n",
    "\n",
    "\n",
    "print('Column Mean', col_mean)\n",
    "display(both.iloc[[0,50,100]])"
   ]
  },
  {
   "cell_type": "code",
   "execution_count": 66,
   "id": "21514007",
   "metadata": {},
   "outputs": [
    {
     "data": {
      "text/plain": [
       "array([5.8433])"
      ]
     },
     "execution_count": 66,
     "metadata": {},
     "output_type": "execute_result"
    }
   ],
   "source": [
    "col_mean"
   ]
  },
  {
   "cell_type": "code",
   "execution_count": 67,
   "id": "f4e64462",
   "metadata": {},
   "outputs": [
    {
     "data": {
      "text/html": [
       "<div>\n",
       "<style scoped>\n",
       "    .dataframe tbody tr th:only-of-type {\n",
       "        vertical-align: middle;\n",
       "    }\n",
       "\n",
       "    .dataframe tbody tr th {\n",
       "        vertical-align: top;\n",
       "    }\n",
       "\n",
       "    .dataframe thead th {\n",
       "        text-align: right;\n",
       "    }\n",
       "</style>\n",
       "<table border=\"1\" class=\"dataframe\">\n",
       "  <thead>\n",
       "    <tr style=\"text-align: right;\">\n",
       "      <th></th>\n",
       "      <th>sepal length</th>\n",
       "    </tr>\n",
       "  </thead>\n",
       "  <tbody>\n",
       "    <tr>\n",
       "      <th>0</th>\n",
       "      <td>5.1000</td>\n",
       "    </tr>\n",
       "    <tr>\n",
       "      <th>1</th>\n",
       "      <td>4.9000</td>\n",
       "    </tr>\n",
       "    <tr>\n",
       "      <th>2</th>\n",
       "      <td>4.7000</td>\n",
       "    </tr>\n",
       "    <tr>\n",
       "      <th>3</th>\n",
       "      <td>4.6000</td>\n",
       "    </tr>\n",
       "    <tr>\n",
       "      <th>4</th>\n",
       "      <td>5.0000</td>\n",
       "    </tr>\n",
       "    <tr>\n",
       "      <th>...</th>\n",
       "      <td>...</td>\n",
       "    </tr>\n",
       "    <tr>\n",
       "      <th>145</th>\n",
       "      <td>6.7000</td>\n",
       "    </tr>\n",
       "    <tr>\n",
       "      <th>146</th>\n",
       "      <td>6.3000</td>\n",
       "    </tr>\n",
       "    <tr>\n",
       "      <th>147</th>\n",
       "      <td>6.5000</td>\n",
       "    </tr>\n",
       "    <tr>\n",
       "      <th>148</th>\n",
       "      <td>6.2000</td>\n",
       "    </tr>\n",
       "    <tr>\n",
       "      <th>149</th>\n",
       "      <td>5.9000</td>\n",
       "    </tr>\n",
       "  </tbody>\n",
       "</table>\n",
       "<p>150 rows × 1 columns</p>\n",
       "</div>"
      ],
      "text/latex": [
       "\\begin{tabular}{lr}\n",
       "\\toprule\n",
       "{} &         sepal length \\\\\n",
       "\\midrule\n",
       "0   &               5.1000 \\\\\n",
       "1   &               4.9000 \\\\\n",
       "2   &               4.7000 \\\\\n",
       "3   &               4.6000 \\\\\n",
       "4   &               5.0000 \\\\\n",
       "5   &               5.4000 \\\\\n",
       "6   &               4.6000 \\\\\n",
       "7   &               5.0000 \\\\\n",
       "8   &               4.4000 \\\\\n",
       "9   &               4.9000 \\\\\n",
       "10  &               5.4000 \\\\\n",
       "11  &               4.8000 \\\\\n",
       "12  &               4.8000 \\\\\n",
       "13  &               4.3000 \\\\\n",
       "14  &               5.8000 \\\\\n",
       "15  &               5.7000 \\\\\n",
       "16  &               5.4000 \\\\\n",
       "17  &               5.1000 \\\\\n",
       "18  &               5.7000 \\\\\n",
       "19  &               5.1000 \\\\\n",
       "20  &               5.4000 \\\\\n",
       "21  &               5.1000 \\\\\n",
       "22  &               4.6000 \\\\\n",
       "23  &               5.1000 \\\\\n",
       "24  &               4.8000 \\\\\n",
       "25  &               5.0000 \\\\\n",
       "26  &               5.0000 \\\\\n",
       "27  &               5.2000 \\\\\n",
       "28  &               5.2000 \\\\\n",
       "29  &               4.7000 \\\\\n",
       "30  &               4.8000 \\\\\n",
       "31  &               5.4000 \\\\\n",
       "32  &               5.2000 \\\\\n",
       "33  &               5.5000 \\\\\n",
       "34  &               4.9000 \\\\\n",
       "35  &               5.0000 \\\\\n",
       "36  &               5.5000 \\\\\n",
       "37  &               4.9000 \\\\\n",
       "38  &               4.4000 \\\\\n",
       "39  &               5.1000 \\\\\n",
       "40  &               5.0000 \\\\\n",
       "41  &               4.5000 \\\\\n",
       "42  &               4.4000 \\\\\n",
       "43  &               5.0000 \\\\\n",
       "44  &               5.1000 \\\\\n",
       "45  &               4.8000 \\\\\n",
       "46  &               5.1000 \\\\\n",
       "47  &               4.6000 \\\\\n",
       "48  &               5.3000 \\\\\n",
       "49  &               5.0000 \\\\\n",
       "50  &               7.0000 \\\\\n",
       "51  &               6.4000 \\\\\n",
       "52  &               6.9000 \\\\\n",
       "53  &               5.5000 \\\\\n",
       "54  &               6.5000 \\\\\n",
       "55  &               5.7000 \\\\\n",
       "56  &               6.3000 \\\\\n",
       "57  &               4.9000 \\\\\n",
       "58  &               6.6000 \\\\\n",
       "59  &               5.2000 \\\\\n",
       "60  &               5.0000 \\\\\n",
       "61  &               5.9000 \\\\\n",
       "62  &               6.0000 \\\\\n",
       "63  &               6.1000 \\\\\n",
       "64  &               5.6000 \\\\\n",
       "65  &               6.7000 \\\\\n",
       "66  &               5.6000 \\\\\n",
       "67  &               5.8000 \\\\\n",
       "68  &               6.2000 \\\\\n",
       "69  &               5.6000 \\\\\n",
       "70  &               5.9000 \\\\\n",
       "71  &               6.1000 \\\\\n",
       "72  &               6.3000 \\\\\n",
       "73  &               6.1000 \\\\\n",
       "74  &               6.4000 \\\\\n",
       "75  &               6.6000 \\\\\n",
       "76  &               6.8000 \\\\\n",
       "77  &               6.7000 \\\\\n",
       "78  &               6.0000 \\\\\n",
       "79  &               5.7000 \\\\\n",
       "80  &               5.5000 \\\\\n",
       "81  &               5.5000 \\\\\n",
       "82  &               5.8000 \\\\\n",
       "83  &               6.0000 \\\\\n",
       "84  &               5.4000 \\\\\n",
       "85  &               6.0000 \\\\\n",
       "86  &               6.7000 \\\\\n",
       "87  &               6.3000 \\\\\n",
       "88  &               5.6000 \\\\\n",
       "89  &               5.5000 \\\\\n",
       "90  &               5.5000 \\\\\n",
       "91  &               6.1000 \\\\\n",
       "92  &               5.8000 \\\\\n",
       "93  &               5.0000 \\\\\n",
       "94  &               5.6000 \\\\\n",
       "95  &               5.7000 \\\\\n",
       "96  &               5.7000 \\\\\n",
       "97  &               6.2000 \\\\\n",
       "98  &               5.1000 \\\\\n",
       "99  &               5.7000 \\\\\n",
       "100 &               6.3000 \\\\\n",
       "101 &               5.8000 \\\\\n",
       "102 &               7.1000 \\\\\n",
       "103 &               6.3000 \\\\\n",
       "104 &               6.5000 \\\\\n",
       "105 &               7.6000 \\\\\n",
       "106 &               4.9000 \\\\\n",
       "107 &               7.3000 \\\\\n",
       "108 &               6.7000 \\\\\n",
       "109 &               7.2000 \\\\\n",
       "110 &               6.5000 \\\\\n",
       "111 &               6.4000 \\\\\n",
       "112 &               6.8000 \\\\\n",
       "113 &               5.7000 \\\\\n",
       "114 &               5.8000 \\\\\n",
       "115 &               6.4000 \\\\\n",
       "116 &               6.5000 \\\\\n",
       "117 &               7.7000 \\\\\n",
       "118 &               7.7000 \\\\\n",
       "119 &               6.0000 \\\\\n",
       "120 &               6.9000 \\\\\n",
       "121 &               5.6000 \\\\\n",
       "122 &               7.7000 \\\\\n",
       "123 &               6.3000 \\\\\n",
       "124 &               6.7000 \\\\\n",
       "125 &               7.2000 \\\\\n",
       "126 &               6.2000 \\\\\n",
       "127 &               6.1000 \\\\\n",
       "128 &               6.4000 \\\\\n",
       "129 &               7.2000 \\\\\n",
       "130 &               7.4000 \\\\\n",
       "131 &               7.9000 \\\\\n",
       "132 &               6.4000 \\\\\n",
       "133 &               6.3000 \\\\\n",
       "134 &               6.1000 \\\\\n",
       "135 &               7.7000 \\\\\n",
       "136 &               6.3000 \\\\\n",
       "137 &               6.4000 \\\\\n",
       "138 &               6.0000 \\\\\n",
       "139 &               6.9000 \\\\\n",
       "140 &               6.7000 \\\\\n",
       "141 &               6.9000 \\\\\n",
       "142 &               5.8000 \\\\\n",
       "143 &               6.8000 \\\\\n",
       "144 &               6.7000 \\\\\n",
       "145 &               6.7000 \\\\\n",
       "146 &               6.3000 \\\\\n",
       "147 &               6.5000 \\\\\n",
       "148 &               6.2000 \\\\\n",
       "149 &               5.9000 \\\\\n",
       "\\bottomrule\n",
       "\\end{tabular}\n"
      ],
      "text/plain": [
       "            sepal length\n",
       "0                 5.1000\n",
       "1                 4.9000\n",
       "2                 4.7000\n",
       "3                 4.6000\n",
       "4                 5.0000\n",
       "..                   ...\n",
       "145               6.7000\n",
       "146               6.3000\n",
       "147               6.5000\n",
       "148               6.2000\n",
       "149               5.9000\n",
       "\n",
       "[150 rows x 1 columns]"
      ]
     },
     "execution_count": 67,
     "metadata": {},
     "output_type": "execute_result"
    }
   ],
   "source": [
    "iris_df[['sepal length']]"
   ]
  },
  {
   "cell_type": "code",
   "execution_count": 72,
   "id": "a1b38be7",
   "metadata": {},
   "outputs": [
    {
     "data": {
      "text/plain": [
       "(150, 1)"
      ]
     },
     "execution_count": 72,
     "metadata": {},
     "output_type": "execute_result"
    }
   ],
   "source": [
    "column.values.shape"
   ]
  },
  {
   "cell_type": "code",
   "execution_count": 71,
   "id": "be22a393",
   "metadata": {},
   "outputs": [
    {
     "data": {
      "text/plain": [
       "(1, 150)"
      ]
     },
     "execution_count": 71,
     "metadata": {},
     "output_type": "execute_result"
    }
   ],
   "source": [
    "(column.values.reshape(1,-1)).shape"
   ]
  },
  {
   "cell_type": "code",
   "execution_count": 73,
   "id": "b4b3ab70",
   "metadata": {},
   "outputs": [
    {
     "data": {
      "text/plain": [
       "(1,)"
      ]
     },
     "execution_count": 73,
     "metadata": {},
     "output_type": "execute_result"
    }
   ],
   "source": [
    "col_mean.shape"
   ]
  },
  {
   "cell_type": "code",
   "execution_count": 75,
   "id": "40077675",
   "metadata": {},
   "outputs": [
    {
     "data": {
      "text/plain": [
       "(1, 1)"
      ]
     },
     "execution_count": 75,
     "metadata": {},
     "output_type": "execute_result"
    }
   ],
   "source": [
    "col_mean.reshape(-1,1).shape"
   ]
  },
  {
   "cell_type": "code",
   "execution_count": 60,
   "id": "1519f7a5",
   "metadata": {},
   "outputs": [
    {
     "data": {
      "text/html": [
       "<div>\n",
       "<style scoped>\n",
       "    .dataframe tbody tr th:only-of-type {\n",
       "        vertical-align: middle;\n",
       "    }\n",
       "\n",
       "    .dataframe tbody tr th {\n",
       "        vertical-align: top;\n",
       "    }\n",
       "\n",
       "    .dataframe thead tr th {\n",
       "        text-align: left;\n",
       "    }\n",
       "</style>\n",
       "<table border=\"1\" class=\"dataframe\">\n",
       "  <thead>\n",
       "    <tr>\n",
       "      <th></th>\n",
       "      <th colspan=\"2\" halign=\"left\">input ftrs</th>\n",
       "      <th>target ftr</th>\n",
       "    </tr>\n",
       "    <tr>\n",
       "      <th></th>\n",
       "      <th>petal width</th>\n",
       "      <th>species</th>\n",
       "      <th>petal length</th>\n",
       "    </tr>\n",
       "  </thead>\n",
       "  <tbody>\n",
       "    <tr>\n",
       "      <th>0</th>\n",
       "      <td>0.2000</td>\n",
       "      <td>setosa</td>\n",
       "      <td>1.4000</td>\n",
       "    </tr>\n",
       "    <tr>\n",
       "      <th>50</th>\n",
       "      <td>1.4000</td>\n",
       "      <td>versicolor</td>\n",
       "      <td>4.7000</td>\n",
       "    </tr>\n",
       "    <tr>\n",
       "      <th>100</th>\n",
       "      <td>2.5000</td>\n",
       "      <td>virginica</td>\n",
       "      <td>6.0000</td>\n",
       "    </tr>\n",
       "  </tbody>\n",
       "</table>\n",
       "</div>"
      ],
      "text/latex": [
       "\\begin{tabular}{lrlr}\n",
       "\\toprule\n",
       "{} & \\multicolumn{2}{l}{input ftrs} &           target ftr \\\\\n",
       "{} &          petal width &     species &         petal length \\\\\n",
       "\\midrule\n",
       "0   &               0.2000 &      setosa &               1.4000 \\\\\n",
       "50  &               1.4000 &  versicolor &               4.7000 \\\\\n",
       "100 &               2.5000 &   virginica &               6.0000 \\\\\n",
       "\\bottomrule\n",
       "\\end{tabular}\n"
      ],
      "text/plain": [
       "              input ftrs                       target ftr\n",
       "             petal width     species         petal length\n",
       "0                 0.2000      setosa               1.4000\n",
       "50                1.4000  versicolor               4.7000\n",
       "100               2.5000   virginica               6.0000"
      ]
     },
     "metadata": {},
     "output_type": "display_data"
    }
   ],
   "source": [
    "new_iris_df = pd.DataFrame(iris_df, columns=['petal length', 'petal width', 'species'])\n",
    "\n",
    "\n",
    "new_iris_df.columns = pd.MultiIndex([['input ftrs', 'target ftr'],\n",
    "                                    new_iris_df.columns],\n",
    "                                   [[1, 0, 0], [0, 1, 2]])\n",
    "\n",
    "new_iris_df.sort_index(axis='columns', inplace=True)\n",
    "display(new_iris_df.iloc[[0,50,100]])"
   ]
  },
  {
   "cell_type": "code",
   "execution_count": null,
   "id": "70c1e5b4",
   "metadata": {},
   "outputs": [],
   "source": []
  },
  {
   "cell_type": "code",
   "execution_count": 63,
   "id": "be90d10e",
   "metadata": {},
   "outputs": [
    {
     "name": "stdout",
     "output_type": "stream",
     "text": [
      "Numerical categories:\n",
      "[0 1 2]\n",
      "One-hot coding:\n",
      "[[1. 0. 0.]\n",
      " [0. 1. 0.]\n",
      " [0. 0. 1.]]\n"
     ]
    }
   ],
   "source": [
    "print(\"Numerical categories:\",\n",
    "     iris.target[[0,50,100]], sep='\\n')\n",
    "\n",
    "# produces sparse representation\n",
    "sparse = skpre.OneHotEncoder().fit_transform(iris.target.reshape(-1,1))\n",
    "\n",
    "print(\"One-hot coding:\",\n",
    "     sparse[[0,50,100]].todense(), sep=\"\\n\")"
   ]
  },
  {
   "cell_type": "code",
   "execution_count": 78,
   "id": "4781b3c7",
   "metadata": {},
   "outputs": [
    {
     "data": {
      "text/html": [
       "<div>\n",
       "<style scoped>\n",
       "    .dataframe tbody tr th:only-of-type {\n",
       "        vertical-align: middle;\n",
       "    }\n",
       "\n",
       "    .dataframe tbody tr th {\n",
       "        vertical-align: top;\n",
       "    }\n",
       "\n",
       "    .dataframe thead th {\n",
       "        text-align: right;\n",
       "    }\n",
       "</style>\n",
       "<table border=\"1\" class=\"dataframe\">\n",
       "  <thead>\n",
       "    <tr style=\"text-align: right;\">\n",
       "      <th></th>\n",
       "      <th>sepal length</th>\n",
       "      <th>sepal width</th>\n",
       "      <th>petal length</th>\n",
       "      <th>petal width</th>\n",
       "      <th>is_setosa</th>\n",
       "      <th>is_versicolor</th>\n",
       "      <th>is_virginica</th>\n",
       "    </tr>\n",
       "  </thead>\n",
       "  <tbody>\n",
       "    <tr>\n",
       "      <th>0</th>\n",
       "      <td>5.1000</td>\n",
       "      <td>3.5000</td>\n",
       "      <td>1.4000</td>\n",
       "      <td>0.2000</td>\n",
       "      <td>1</td>\n",
       "      <td>0</td>\n",
       "      <td>0</td>\n",
       "    </tr>\n",
       "    <tr>\n",
       "      <th>50</th>\n",
       "      <td>7.0000</td>\n",
       "      <td>3.2000</td>\n",
       "      <td>4.7000</td>\n",
       "      <td>1.4000</td>\n",
       "      <td>0</td>\n",
       "      <td>1</td>\n",
       "      <td>0</td>\n",
       "    </tr>\n",
       "    <tr>\n",
       "      <th>100</th>\n",
       "      <td>6.3000</td>\n",
       "      <td>3.3000</td>\n",
       "      <td>6.0000</td>\n",
       "      <td>2.5000</td>\n",
       "      <td>0</td>\n",
       "      <td>0</td>\n",
       "      <td>1</td>\n",
       "    </tr>\n",
       "  </tbody>\n",
       "</table>\n",
       "</div>"
      ],
      "text/latex": [
       "\\begin{tabular}{lrrrrrrr}\n",
       "\\toprule\n",
       "{} &         sepal length &          sepal width &         petal length &          petal width &  is\\_setosa &  is\\_versicolor &  is\\_virginica \\\\\n",
       "\\midrule\n",
       "0   &               5.1000 &               3.5000 &               1.4000 &               0.2000 &          1 &              0 &             0 \\\\\n",
       "50  &               7.0000 &               3.2000 &               4.7000 &               1.4000 &          0 &              1 &             0 \\\\\n",
       "100 &               6.3000 &               3.3000 &               6.0000 &               2.5000 &          0 &              0 &             1 \\\\\n",
       "\\bottomrule\n",
       "\\end{tabular}\n"
      ],
      "text/plain": [
       "            sepal length          sepal width         petal length  \\\n",
       "0                 5.1000               3.5000               1.4000   \n",
       "50                7.0000               3.2000               4.7000   \n",
       "100               6.3000               3.3000               6.0000   \n",
       "\n",
       "             petal width  is_setosa  is_versicolor  is_virginica  \n",
       "0                 0.2000          1              0             0  \n",
       "50                1.4000          0              1             0  \n",
       "100               2.5000          0              0             1  "
      ]
     },
     "execution_count": 78,
     "metadata": {},
     "output_type": "execute_result"
    }
   ],
   "source": [
    "encoded = pd.get_dummies(iris_df, prefix=\"is\")\n",
    "encoded.iloc[[0,50,100]]"
   ]
  },
  {
   "cell_type": "code",
   "execution_count": 79,
   "id": "fbb02330",
   "metadata": {},
   "outputs": [
    {
     "data": {
      "text/html": [
       "<div>\n",
       "<style scoped>\n",
       "    .dataframe tbody tr th:only-of-type {\n",
       "        vertical-align: middle;\n",
       "    }\n",
       "\n",
       "    .dataframe tbody tr th {\n",
       "        vertical-align: top;\n",
       "    }\n",
       "\n",
       "    .dataframe thead th {\n",
       "        text-align: right;\n",
       "    }\n",
       "</style>\n",
       "<table border=\"1\" class=\"dataframe\">\n",
       "  <thead>\n",
       "    <tr style=\"text-align: right;\">\n",
       "      <th></th>\n",
       "      <th>sepal length</th>\n",
       "      <th>sepal width</th>\n",
       "      <th>petal length</th>\n",
       "      <th>petal width</th>\n",
       "      <th>species</th>\n",
       "      <th>0</th>\n",
       "      <th>1</th>\n",
       "      <th>2</th>\n",
       "    </tr>\n",
       "  </thead>\n",
       "  <tbody>\n",
       "    <tr>\n",
       "      <th>0</th>\n",
       "      <td>5.1000</td>\n",
       "      <td>3.5000</td>\n",
       "      <td>1.4000</td>\n",
       "      <td>0.2000</td>\n",
       "      <td>setosa</td>\n",
       "      <td>1</td>\n",
       "      <td>0</td>\n",
       "      <td>0</td>\n",
       "    </tr>\n",
       "    <tr>\n",
       "      <th>50</th>\n",
       "      <td>7.0000</td>\n",
       "      <td>3.2000</td>\n",
       "      <td>4.7000</td>\n",
       "      <td>1.4000</td>\n",
       "      <td>versicolor</td>\n",
       "      <td>0</td>\n",
       "      <td>1</td>\n",
       "      <td>0</td>\n",
       "    </tr>\n",
       "    <tr>\n",
       "      <th>100</th>\n",
       "      <td>6.3000</td>\n",
       "      <td>3.3000</td>\n",
       "      <td>6.0000</td>\n",
       "      <td>2.5000</td>\n",
       "      <td>virginica</td>\n",
       "      <td>0</td>\n",
       "      <td>0</td>\n",
       "      <td>1</td>\n",
       "    </tr>\n",
       "  </tbody>\n",
       "</table>\n",
       "</div>"
      ],
      "text/latex": [
       "\\begin{tabular}{lrrrrlrrr}\n",
       "\\toprule\n",
       "{} &         sepal length &          sepal width &         petal length &          petal width &     species &  0 &  1 &  2 \\\\\n",
       "\\midrule\n",
       "0   &               5.1000 &               3.5000 &               1.4000 &               0.2000 &      setosa &  1 &  0 &  0 \\\\\n",
       "50  &               7.0000 &               3.2000 &               4.7000 &               1.4000 &  versicolor &  0 &  1 &  0 \\\\\n",
       "100 &               6.3000 &               3.3000 &               6.0000 &               2.5000 &   virginica &  0 &  0 &  1 \\\\\n",
       "\\bottomrule\n",
       "\\end{tabular}\n"
      ],
      "text/plain": [
       "            sepal length          sepal width         petal length  \\\n",
       "0                 5.1000               3.5000               1.4000   \n",
       "50                7.0000               3.2000               4.7000   \n",
       "100               6.3000               3.3000               6.0000   \n",
       "\n",
       "             petal width     species  0  1  2  \n",
       "0                 0.2000      setosa  1  0  0  \n",
       "50                1.4000  versicolor  0  1  0  \n",
       "100               2.5000   virginica  0  0  1  "
      ]
     },
     "execution_count": 79,
     "metadata": {},
     "output_type": "execute_result"
    }
   ],
   "source": [
    "encoded_species = pd.get_dummies(iris.target)\n",
    "encoded_df = pd.merge(iris_df, encoded_species,\n",
    "                     right_index=True, left_index=True)\n",
    "\n",
    "encoded_df.iloc[[0,50,100]]"
   ]
  },
  {
   "cell_type": "code",
   "execution_count": 80,
   "id": "fdd00f1e",
   "metadata": {},
   "outputs": [
    {
     "name": "stdout",
     "output_type": "stream",
     "text": [
      "ContrastMatrix(array([[1., 0., 0.],\n",
      "                      [0., 1., 0.],\n",
      "                      [0., 0., 1.]]),\n",
      "               ['[setosa]', '[versicolor]', '[virginica]'])\n"
     ]
    }
   ],
   "source": [
    "import patsy.contrasts as pc\n",
    "\n",
    "levels = iris.target_names\n",
    "coding = (pc.Treatment(reference=0).code_with_intercept(list(levels)))\n",
    "\n",
    "print(coding)"
   ]
  },
  {
   "cell_type": "code",
   "execution_count": 81,
   "id": "6b10130d",
   "metadata": {},
   "outputs": [
    {
     "data": {
      "text/html": [
       "<div>\n",
       "<style scoped>\n",
       "    .dataframe tbody tr th:only-of-type {\n",
       "        vertical-align: middle;\n",
       "    }\n",
       "\n",
       "    .dataframe tbody tr th {\n",
       "        vertical-align: top;\n",
       "    }\n",
       "\n",
       "    .dataframe thead th {\n",
       "        text-align: right;\n",
       "    }\n",
       "</style>\n",
       "<table border=\"1\" class=\"dataframe\">\n",
       "  <thead>\n",
       "    <tr style=\"text-align: right;\">\n",
       "      <th></th>\n",
       "      <th>species[setosa]</th>\n",
       "      <th>species[versicolor]</th>\n",
       "      <th>species[virginica]</th>\n",
       "    </tr>\n",
       "  </thead>\n",
       "  <tbody>\n",
       "    <tr>\n",
       "      <th>0</th>\n",
       "      <td>1.0000</td>\n",
       "      <td>0.0000</td>\n",
       "      <td>0.0000</td>\n",
       "    </tr>\n",
       "    <tr>\n",
       "      <th>50</th>\n",
       "      <td>0.0000</td>\n",
       "      <td>1.0000</td>\n",
       "      <td>0.0000</td>\n",
       "    </tr>\n",
       "    <tr>\n",
       "      <th>100</th>\n",
       "      <td>0.0000</td>\n",
       "      <td>0.0000</td>\n",
       "      <td>1.0000</td>\n",
       "    </tr>\n",
       "  </tbody>\n",
       "</table>\n",
       "</div>"
      ],
      "text/latex": [
       "\\begin{tabular}{lrrr}\n",
       "\\toprule\n",
       "{} &      species[setosa] &  species[versicolor] &   species[virginica] \\\\\n",
       "\\midrule\n",
       "0   &               1.0000 &               0.0000 &               0.0000 \\\\\n",
       "50  &               0.0000 &               1.0000 &               0.0000 \\\\\n",
       "100 &               0.0000 &               0.0000 &               1.0000 \\\\\n",
       "\\bottomrule\n",
       "\\end{tabular}\n"
      ],
      "text/plain": [
       "         species[setosa]  species[versicolor]   species[virginica]\n",
       "0                 1.0000               0.0000               0.0000\n",
       "50                0.0000               1.0000               0.0000\n",
       "100               0.0000               0.0000               1.0000"
      ]
     },
     "metadata": {},
     "output_type": "display_data"
    }
   ],
   "source": [
    "encoded = patsy.dmatrix('species-1',\n",
    "                       iris_df,\n",
    "                       return_type='dataframe')\n",
    "\n",
    "display(encoded.iloc[[0,50,100]])"
   ]
  },
  {
   "cell_type": "code",
   "execution_count": 82,
   "id": "4548369b",
   "metadata": {},
   "outputs": [
    {
     "data": {
      "text/html": [
       "<div>\n",
       "<style scoped>\n",
       "    .dataframe tbody tr th:only-of-type {\n",
       "        vertical-align: middle;\n",
       "    }\n",
       "\n",
       "    .dataframe tbody tr th {\n",
       "        vertical-align: top;\n",
       "    }\n",
       "\n",
       "    .dataframe thead th {\n",
       "        text-align: right;\n",
       "    }\n",
       "</style>\n",
       "<table border=\"1\" class=\"dataframe\">\n",
       "  <thead>\n",
       "    <tr style=\"text-align: right;\">\n",
       "      <th></th>\n",
       "      <th>Intercept</th>\n",
       "      <th>species[T.versicolor]</th>\n",
       "      <th>species[T.virginica]</th>\n",
       "    </tr>\n",
       "  </thead>\n",
       "  <tbody>\n",
       "    <tr>\n",
       "      <th>0</th>\n",
       "      <td>1.0000</td>\n",
       "      <td>0.0000</td>\n",
       "      <td>0.0000</td>\n",
       "    </tr>\n",
       "    <tr>\n",
       "      <th>50</th>\n",
       "      <td>1.0000</td>\n",
       "      <td>1.0000</td>\n",
       "      <td>0.0000</td>\n",
       "    </tr>\n",
       "    <tr>\n",
       "      <th>100</th>\n",
       "      <td>1.0000</td>\n",
       "      <td>0.0000</td>\n",
       "      <td>1.0000</td>\n",
       "    </tr>\n",
       "  </tbody>\n",
       "</table>\n",
       "</div>"
      ],
      "text/latex": [
       "\\begin{tabular}{lrrr}\n",
       "\\toprule\n",
       "{} &            Intercept &  species[T.versicolor] &  species[T.virginica] \\\\\n",
       "\\midrule\n",
       "0   &               1.0000 &                 0.0000 &                0.0000 \\\\\n",
       "50  &               1.0000 &                 1.0000 &                0.0000 \\\\\n",
       "100 &               1.0000 &                 0.0000 &                1.0000 \\\\\n",
       "\\bottomrule\n",
       "\\end{tabular}\n"
      ],
      "text/plain": [
       "               Intercept  species[T.versicolor]  species[T.virginica]\n",
       "0                 1.0000                 0.0000                0.0000\n",
       "50                1.0000                 1.0000                0.0000\n",
       "100               1.0000                 0.0000                1.0000"
      ]
     },
     "metadata": {},
     "output_type": "display_data"
    }
   ],
   "source": [
    "encoded = patsy.dmatrix('species',\n",
    "                       iris_df,\n",
    "                       return_type='dataframe')\n",
    "\n",
    "display(encoded.iloc[[0,50,100]])"
   ]
  },
  {
   "cell_type": "code",
   "execution_count": 83,
   "id": "c282ab59",
   "metadata": {},
   "outputs": [
    {
     "data": {
      "text/html": [
       "<div>\n",
       "<style scoped>\n",
       "    .dataframe tbody tr th:only-of-type {\n",
       "        vertical-align: middle;\n",
       "    }\n",
       "\n",
       "    .dataframe tbody tr th {\n",
       "        vertical-align: top;\n",
       "    }\n",
       "\n",
       "    .dataframe thead th {\n",
       "        text-align: right;\n",
       "    }\n",
       "</style>\n",
       "<table border=\"1\" class=\"dataframe\">\n",
       "  <thead>\n",
       "    <tr style=\"text-align: right;\">\n",
       "      <th></th>\n",
       "      <th>cost</th>\n",
       "      <th>pet_cat</th>\n",
       "      <th>pet_dog</th>\n",
       "    </tr>\n",
       "  </thead>\n",
       "  <tbody>\n",
       "    <tr>\n",
       "      <th>0</th>\n",
       "      <td>20.0000</td>\n",
       "      <td>1</td>\n",
       "      <td>0</td>\n",
       "    </tr>\n",
       "    <tr>\n",
       "      <th>1</th>\n",
       "      <td>25.0000</td>\n",
       "      <td>1</td>\n",
       "      <td>0</td>\n",
       "    </tr>\n",
       "    <tr>\n",
       "      <th>2</th>\n",
       "      <td>40.0000</td>\n",
       "      <td>0</td>\n",
       "      <td>1</td>\n",
       "    </tr>\n",
       "  </tbody>\n",
       "</table>\n",
       "</div>"
      ],
      "text/latex": [
       "\\begin{tabular}{lrrr}\n",
       "\\toprule\n",
       "{} &                 cost &  pet\\_cat &  pet\\_dog \\\\\n",
       "\\midrule\n",
       "0 &              20.0000 &        1 &        0 \\\\\n",
       "1 &              25.0000 &        1 &        0 \\\\\n",
       "2 &              40.0000 &        0 &        1 \\\\\n",
       "\\bottomrule\n",
       "\\end{tabular}\n"
      ],
      "text/plain": [
       "                  cost  pet_cat  pet_dog\n",
       "0              20.0000        1        0\n",
       "1              25.0000        1        0\n",
       "2              40.0000        0        1"
      ]
     },
     "metadata": {},
     "output_type": "display_data"
    }
   ],
   "source": [
    "pet_data = pd.DataFrame({'pet' :['cat', 'cat', 'dog'],\n",
    "                        'cost' :[20.0, 25.0, 40.0]})\n",
    "\n",
    "pet_df = pd.get_dummies(pet_data)\n",
    "display(pet_df)"
   ]
  },
  {
   "cell_type": "code",
   "execution_count": 86,
   "id": "fa77efe6",
   "metadata": {},
   "outputs": [],
   "source": [
    "def pretty_coeffs(sk_lr_model, ftr_names):\n",
    "    ' helper to display sklearn results in a nice dataframe '\n",
    "    lr_coeffs = pd.DataFrame(sk_lr_model.coef_,\n",
    "                            columns=ftr_names,\n",
    "                            index=[\"Coeff\"])\n",
    "    \n",
    "    lr_coeffs['intercept'] = sk_lr_model.intercept_\n",
    "    return lr_coeffs"
   ]
  },
  {
   "cell_type": "code",
   "execution_count": 87,
   "id": "295d4d7a",
   "metadata": {},
   "outputs": [
    {
     "data": {
      "text/html": [
       "<div>\n",
       "<style scoped>\n",
       "    .dataframe tbody tr th:only-of-type {\n",
       "        vertical-align: middle;\n",
       "    }\n",
       "\n",
       "    .dataframe tbody tr th {\n",
       "        vertical-align: top;\n",
       "    }\n",
       "\n",
       "    .dataframe thead th {\n",
       "        text-align: right;\n",
       "    }\n",
       "</style>\n",
       "<table border=\"1\" class=\"dataframe\">\n",
       "  <thead>\n",
       "    <tr style=\"text-align: right;\">\n",
       "      <th></th>\n",
       "      <th>pet_cat</th>\n",
       "      <th>pet_dog</th>\n",
       "      <th>intercept</th>\n",
       "    </tr>\n",
       "  </thead>\n",
       "  <tbody>\n",
       "    <tr>\n",
       "      <th>Coeff</th>\n",
       "      <td>22.5000</td>\n",
       "      <td>40.0000</td>\n",
       "      <td>0.0000</td>\n",
       "    </tr>\n",
       "  </tbody>\n",
       "</table>\n",
       "</div>"
      ],
      "text/latex": [
       "\\begin{tabular}{lrrr}\n",
       "\\toprule\n",
       "{} &              pet\\_cat &              pet\\_dog &            intercept \\\\\n",
       "\\midrule\n",
       "Coeff &              22.5000 &              40.0000 &               0.0000 \\\\\n",
       "\\bottomrule\n",
       "\\end{tabular}\n"
      ],
      "text/plain": [
       "                   pet_cat              pet_dog            intercept\n",
       "Coeff              22.5000              40.0000               0.0000"
      ]
     },
     "metadata": {},
     "output_type": "display_data"
    }
   ],
   "source": [
    "sk_tgt = pet_df['cost'].values.reshape(-1,1)\n",
    "sk_ftrs = pet_df.drop('cost', axis='columns')\n",
    "\n",
    "sk_model = (linear_model.LinearRegression(fit_intercept=False)\n",
    "                        .fit(sk_ftrs, sk_tgt))\n",
    "\n",
    "display(pretty_coeffs(sk_model, sk_ftrs.columns))"
   ]
  },
  {
   "cell_type": "code",
   "execution_count": 89,
   "id": "14474c73",
   "metadata": {},
   "outputs": [],
   "source": [
    "import statsmodels as sm\n",
    "import statsmodels.formula.api as smf"
   ]
  },
  {
   "cell_type": "code",
   "execution_count": 91,
   "id": "0594738d",
   "metadata": {},
   "outputs": [
    {
     "data": {
      "text/html": [
       "<div>\n",
       "<style scoped>\n",
       "    .dataframe tbody tr th:only-of-type {\n",
       "        vertical-align: middle;\n",
       "    }\n",
       "\n",
       "    .dataframe tbody tr th {\n",
       "        vertical-align: top;\n",
       "    }\n",
       "\n",
       "    .dataframe thead th {\n",
       "        text-align: right;\n",
       "    }\n",
       "</style>\n",
       "<table border=\"1\" class=\"dataframe\">\n",
       "  <thead>\n",
       "    <tr style=\"text-align: right;\">\n",
       "      <th></th>\n",
       "      <th>pet[cat]</th>\n",
       "      <th>pet[dog]</th>\n",
       "    </tr>\n",
       "  </thead>\n",
       "  <tbody>\n",
       "    <tr>\n",
       "      <th>0</th>\n",
       "      <td>22.5000</td>\n",
       "      <td>40.0000</td>\n",
       "    </tr>\n",
       "  </tbody>\n",
       "</table>\n",
       "</div>"
      ],
      "text/latex": [
       "\\begin{tabular}{lrr}\n",
       "\\toprule\n",
       "{} &             pet[cat] &             pet[dog] \\\\\n",
       "\\midrule\n",
       "0 &              22.5000 &              40.0000 \\\\\n",
       "\\bottomrule\n",
       "\\end{tabular}\n"
      ],
      "text/plain": [
       "              pet[cat]             pet[dog]\n",
       "0              22.5000              40.0000"
      ]
     },
     "metadata": {},
     "output_type": "display_data"
    }
   ],
   "source": [
    "formula = 'cost ~ pet - 1'\n",
    "\n",
    "sm_model = smf.ols(formula, data=pet_data).fit()\n",
    "display(pd.DataFrame(sm_model.params).T)"
   ]
  },
  {
   "cell_type": "code",
   "execution_count": 92,
   "id": "88f35261",
   "metadata": {},
   "outputs": [
    {
     "data": {
      "text/html": [
       "<div>\n",
       "<style scoped>\n",
       "    .dataframe tbody tr th:only-of-type {\n",
       "        vertical-align: middle;\n",
       "    }\n",
       "\n",
       "    .dataframe tbody tr th {\n",
       "        vertical-align: top;\n",
       "    }\n",
       "\n",
       "    .dataframe thead th {\n",
       "        text-align: right;\n",
       "    }\n",
       "</style>\n",
       "<table border=\"1\" class=\"dataframe\">\n",
       "  <thead>\n",
       "    <tr style=\"text-align: right;\">\n",
       "      <th></th>\n",
       "      <th>pet_cat</th>\n",
       "      <th>pet_dog</th>\n",
       "      <th>intercept</th>\n",
       "    </tr>\n",
       "  </thead>\n",
       "  <tbody>\n",
       "    <tr>\n",
       "      <th>Coeff</th>\n",
       "      <td>-8.7500</td>\n",
       "      <td>8.7500</td>\n",
       "      <td>31.2500</td>\n",
       "    </tr>\n",
       "  </tbody>\n",
       "</table>\n",
       "</div>"
      ],
      "text/latex": [
       "\\begin{tabular}{lrrr}\n",
       "\\toprule\n",
       "{} &              pet\\_cat &              pet\\_dog &            intercept \\\\\n",
       "\\midrule\n",
       "Coeff &              -8.7500 &               8.7500 &              31.2500 \\\\\n",
       "\\bottomrule\n",
       "\\end{tabular}\n"
      ],
      "text/plain": [
       "                   pet_cat              pet_dog            intercept\n",
       "Coeff              -8.7500               8.7500              31.2500"
      ]
     },
     "metadata": {},
     "output_type": "display_data"
    }
   ],
   "source": [
    "sk_tgt = pet_df['cost'].values.reshape(-1,1)\n",
    "sk_ftrs = pet_df.drop('cost', axis='columns')\n",
    "sk_model = (linear_model.LinearRegression()\n",
    "                        .fit(sk_ftrs, sk_tgt))\n",
    "\n",
    "display(pretty_coeffs(sk_model, sk_ftrs.columns))"
   ]
  },
  {
   "cell_type": "code",
   "execution_count": 94,
   "id": "91a76f54",
   "metadata": {},
   "outputs": [
    {
     "data": {
      "text/html": [
       "<div>\n",
       "<style scoped>\n",
       "    .dataframe tbody tr th:only-of-type {\n",
       "        vertical-align: middle;\n",
       "    }\n",
       "\n",
       "    .dataframe tbody tr th {\n",
       "        vertical-align: top;\n",
       "    }\n",
       "\n",
       "    .dataframe thead th {\n",
       "        text-align: right;\n",
       "    }\n",
       "</style>\n",
       "<table border=\"1\" class=\"dataframe\">\n",
       "  <thead>\n",
       "    <tr style=\"text-align: right;\">\n",
       "      <th></th>\n",
       "      <th>pet[cat]</th>\n",
       "      <th>pet[dog]</th>\n",
       "      <th>ones</th>\n",
       "    </tr>\n",
       "  </thead>\n",
       "  <tbody>\n",
       "    <tr>\n",
       "      <th>0</th>\n",
       "      <td>1.6667</td>\n",
       "      <td>19.1667</td>\n",
       "      <td>20.8333</td>\n",
       "    </tr>\n",
       "  </tbody>\n",
       "</table>\n",
       "</div>"
      ],
      "text/latex": [
       "\\begin{tabular}{lrrr}\n",
       "\\toprule\n",
       "{} &             pet[cat] &             pet[dog] &                 ones \\\\\n",
       "\\midrule\n",
       "0 &               1.6667 &              19.1667 &              20.8333 \\\\\n",
       "\\bottomrule\n",
       "\\end{tabular}\n"
      ],
      "text/plain": [
       "              pet[cat]             pet[dog]                 ones\n",
       "0               1.6667              19.1667              20.8333"
      ]
     },
     "metadata": {},
     "output_type": "display_data"
    }
   ],
   "source": [
    "pet_data_p1 = pet_data.copy()\n",
    "pet_data_p1['ones'] = 1.0\n",
    "\n",
    "formula = 'cost ~ (pet -1) + ones'\n",
    "sm_model = smf.ols(formula, data=pet_data_p1).fit()\n",
    "\n",
    "display(pd.DataFrame(sm_model.params).T)"
   ]
  },
  {
   "cell_type": "code",
   "execution_count": null,
   "id": "78d35eb3",
   "metadata": {},
   "outputs": [],
   "source": []
  }
 ],
 "metadata": {
  "kernelspec": {
   "display_name": "Python 3 (ipykernel)",
   "language": "python",
   "name": "python3"
  },
  "language_info": {
   "codemirror_mode": {
    "name": "ipython",
    "version": 3
   },
   "file_extension": ".py",
   "mimetype": "text/x-python",
   "name": "python",
   "nbconvert_exporter": "python",
   "pygments_lexer": "ipython3",
   "version": "3.8.16"
  }
 },
 "nbformat": 4,
 "nbformat_minor": 5
}
