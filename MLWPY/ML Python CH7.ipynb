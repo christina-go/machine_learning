{
 "cells": [
  {
   "cell_type": "code",
   "execution_count": 54,
   "id": "675bbdcc",
   "metadata": {},
   "outputs": [],
   "source": [
    "#Setup\n",
    "\n",
    "from mlwpy import *\n",
    "%matplotlib inline\n",
    "\n",
    "diabetes = datasets.load_diabetes()\n",
    "tts = skms.train_test_split(diabetes.data,\n",
    "                           diabetes.target,\n",
    "                           test_size=.25,\n",
    "                           random_state=42)\n",
    "\n",
    "(diabetes_train_ftrs, diabetes_test_ftrs,\n",
    "diabetes_train_tgt, diabetes_test_tgt) = tts"
   ]
  },
  {
   "cell_type": "markdown",
   "id": "3da229bf",
   "metadata": {},
   "source": [
    "### 7.1 Baseline Regressors"
   ]
  },
  {
   "cell_type": "code",
   "execution_count": 55,
   "id": "0281d814",
   "metadata": {},
   "outputs": [],
   "source": [
    "baseline = dummy.DummyRegressor(strategy='median')"
   ]
  },
  {
   "cell_type": "code",
   "execution_count": 56,
   "id": "c43d7cd4",
   "metadata": {},
   "outputs": [
    {
     "data": {
      "text/html": [
       "<div>\n",
       "<style scoped>\n",
       "    .dataframe tbody tr th:only-of-type {\n",
       "        vertical-align: middle;\n",
       "    }\n",
       "\n",
       "    .dataframe tbody tr th {\n",
       "        vertical-align: top;\n",
       "    }\n",
       "\n",
       "    .dataframe thead th {\n",
       "        text-align: right;\n",
       "    }\n",
       "</style>\n",
       "<table border=\"1\" class=\"dataframe\">\n",
       "  <thead>\n",
       "    <tr style=\"text-align: right;\">\n",
       "      <th></th>\n",
       "      <th>mse</th>\n",
       "    </tr>\n",
       "  </thead>\n",
       "  <tbody>\n",
       "    <tr>\n",
       "      <th>constant</th>\n",
       "      <td>14,657.6847</td>\n",
       "    </tr>\n",
       "    <tr>\n",
       "      <th>quantile</th>\n",
       "      <td>10,216.3874</td>\n",
       "    </tr>\n",
       "    <tr>\n",
       "      <th>mean</th>\n",
       "      <td>5,607.1979</td>\n",
       "    </tr>\n",
       "    <tr>\n",
       "      <th>median</th>\n",
       "      <td>5,542.2252</td>\n",
       "    </tr>\n",
       "  </tbody>\n",
       "</table>\n",
       "</div>"
      ],
      "text/latex": [
       "\\begin{tabular}{lr}\n",
       "\\toprule\n",
       "{} &                  mse \\\\\n",
       "\\midrule\n",
       "constant &          14,657.6847 \\\\\n",
       "quantile &          10,216.3874 \\\\\n",
       "mean     &           5,607.1979 \\\\\n",
       "median   &           5,542.2252 \\\\\n",
       "\\bottomrule\n",
       "\\end{tabular}\n"
      ],
      "text/plain": [
       "                          mse\n",
       "constant          14,657.6847\n",
       "quantile          10,216.3874\n",
       "mean               5,607.1979\n",
       "median             5,542.2252"
      ]
     },
     "metadata": {},
     "output_type": "display_data"
    }
   ],
   "source": [
    "strategies = ['constant', 'quantile', 'mean', 'median']\n",
    "baseline_args = [{\"strategy\":s} for s in strategies]\n",
    "\n",
    "#additional args for constant and quantile\n",
    "baseline_args[0]['constant'] = 50.0\n",
    "baseline_args[1]['quantile'] = 0.75\n",
    "\n",
    "#similar to ch 5 but using a list comprehension\n",
    "#process a single argument package (a dict)\n",
    "\n",
    "def do_one(**args):\n",
    "    baseline = dummy.DummyRegressor(**args)\n",
    "    baseline.fit(diabetes_train_ftrs, diabetes_train_tgt)\n",
    "    base_preds = baseline.predict(diabetes_test_ftrs)\n",
    "    return metrics.mean_squared_error(base_preds, diabetes_test_tgt)\n",
    "\n",
    "#gather all results via a list comprehension\n",
    "mses = [do_one(**bla) for bla in baseline_args]\n",
    "\n",
    "display(pd.DataFrame({'mse':mses}, index=strategies))"
   ]
  },
  {
   "cell_type": "markdown",
   "id": "6c855642",
   "metadata": {},
   "source": [
    "### 7.2 Additional Measures for Regression"
   ]
  },
  {
   "cell_type": "code",
   "execution_count": 57,
   "id": "a5209814",
   "metadata": {},
   "outputs": [
    {
     "data": {
      "text/plain": [
       "array([-57.5939, -64.6062, -68.5219, -63.694 , -68.1175])"
      ]
     },
     "execution_count": 57,
     "metadata": {},
     "output_type": "execute_result"
    }
   ],
   "source": [
    "def rms_error(actual, predicted):\n",
    "    ' root-mean-squared-error function '\n",
    "    #lesser values are better - closer to 0\n",
    "    mse = metrics.mean_squared_error(actual, predicted)\n",
    "    return np.sqrt(mse)\n",
    "\n",
    "def neg_rmse_score(actual, predicted):\n",
    "    ' rmse based score function '\n",
    "    #greater values are better\n",
    "    return -rms_error(actual, predicted)\n",
    "\n",
    "\n",
    "def neg_rmse_scorer(mod, ftrs, tgt_actual):\n",
    "    ' rmse scorer suitable for scoring arg '\n",
    "    tgt_pred = mod.predict(ftrs)\n",
    "    return neg_rmse_score(tgt_actual, tgt_pred)\n",
    "    \n",
    "\n",
    "knn = neighbors.KNeighborsRegressor(n_neighbors=3)\n",
    "skms.cross_val_score(knn,\n",
    "                    diabetes.data, diabetes.target,\n",
    "                    cv=skms.KFold(5, shuffle=True),\n",
    "                    scoring=neg_rmse_scorer)\n"
   ]
  },
  {
   "cell_type": "code",
   "execution_count": 58,
   "id": "ba37d6f6",
   "metadata": {},
   "outputs": [
    {
     "name": "stdout",
     "output_type": "stream",
     "text": [
      "Return the coefficient of determination :math:`R^2` of the\n"
     ]
    }
   ],
   "source": [
    "lr = linear_model.LinearRegression()\n",
    "\n",
    "print(lr.score.__doc__.splitlines()[0])"
   ]
  },
  {
   "cell_type": "code",
   "execution_count": 59,
   "id": "6725f569",
   "metadata": {},
   "outputs": [
    {
     "name": "stdout",
     "output_type": "stream",
     "text": [
      "Help on method score in module sklearn.base:\n",
      "\n",
      "score(X, y, sample_weight=None) method of sklearn.linear_model._base.LinearRegression instance\n",
      "    Return the coefficient of determination :math:`R^2` of the\n",
      "    prediction.\n",
      "    \n",
      "    The coefficient :math:`R^2` is defined as :math:`(1 - \\frac{u}{v})`,\n",
      "    where :math:`u` is the residual sum of squares ``((y_true - y_pred)\n",
      "    ** 2).sum()`` and :math:`v` is the total sum of squares ``((y_true -\n",
      "    y_true.mean()) ** 2).sum()``. The best possible score is 1.0 and it\n",
      "    can be negative (because the model can be arbitrarily worse). A\n",
      "    constant model that always predicts the expected value of `y`,\n",
      "    disregarding the input features, would get a :math:`R^2` score of\n",
      "    0.0.\n",
      "    \n",
      "    Parameters\n",
      "    ----------\n",
      "    X : array-like of shape (n_samples, n_features)\n",
      "        Test samples. For some estimators this may be a precomputed\n",
      "        kernel matrix or a list of generic objects instead with shape\n",
      "        ``(n_samples, n_samples_fitted)``, where ``n_samples_fitted``\n",
      "        is the number of samples used in the fitting for the estimator.\n",
      "    \n",
      "    y : array-like of shape (n_samples,) or (n_samples, n_outputs)\n",
      "        True values for `X`.\n",
      "    \n",
      "    sample_weight : array-like of shape (n_samples,), default=None\n",
      "        Sample weights.\n",
      "    \n",
      "    Returns\n",
      "    -------\n",
      "    score : float\n",
      "        :math:`R^2` of ``self.predict(X)`` wrt. `y`.\n",
      "    \n",
      "    Notes\n",
      "    -----\n",
      "    The :math:`R^2` score used when calling ``score`` on a regressor uses\n",
      "    ``multioutput='uniform_average'`` from version 0.23 to keep consistent\n",
      "    with default value of :func:`~sklearn.metrics.r2_score`.\n",
      "    This influences the ``score`` method of all the multioutput\n",
      "    regressors (except for\n",
      "    :class:`~sklearn.multioutput.MultiOutputRegressor`).\n",
      "\n"
     ]
    }
   ],
   "source": [
    "help(lr.score)"
   ]
  },
  {
   "cell_type": "code",
   "execution_count": 60,
   "id": "ed1dc745",
   "metadata": {},
   "outputs": [
    {
     "name": "stdout",
     "output_type": "stream",
     "text": [
      "manual r2: 0.40\n"
     ]
    }
   ],
   "source": [
    "#sse - sum of squared errors\n",
    "\n",
    "our_preds = np.array([1, 2, 3])\n",
    "mean_preds = np.array([2, 2, 2])\n",
    "actual = np.array([2, 3, 4])\n",
    "\n",
    "sse_ours = np.sum((our_preds - actual)**2)\n",
    "sse_mean = np.sum((mean_preds - actual)**2)\n",
    "\n",
    "# r-squared formula\n",
    "r_2 = 1 - (sse_ours / sse_mean)\n",
    "print(\"manual r2:{:5.2f}\".format(r_2))"
   ]
  },
  {
   "cell_type": "code",
   "execution_count": 61,
   "id": "6814343d",
   "metadata": {},
   "outputs": [
    {
     "name": "stdout",
     "output_type": "stream",
     "text": [
      "3\n",
      "5\n"
     ]
    }
   ],
   "source": [
    "print(sse_ours)\n",
    "print(sse_mean)"
   ]
  },
  {
   "cell_type": "code",
   "execution_count": 62,
   "id": "aab0d518",
   "metadata": {},
   "outputs": [
    {
     "name": "stdout",
     "output_type": "stream",
     "text": [
      "-0.014016723490579253\n"
     ]
    }
   ],
   "source": [
    "baseline = dummy.DummyRegressor(strategy='mean')\n",
    "\n",
    "baseline.fit(diabetes_train_ftrs, diabetes_train_tgt)\n",
    "base_preds = baseline.predict(diabetes_test_ftrs)\n",
    "\n",
    "#r2 is not symmetric because true values have priority\n",
    "#and are used to compute target mean\n",
    "base_r2_sklearn = metrics.r2_score(diabetes_test_tgt, base_preds)\n",
    "print(base_r2_sklearn)"
   ]
  },
  {
   "cell_type": "code",
   "execution_count": 63,
   "id": "2a481deb",
   "metadata": {},
   "outputs": [
    {
     "name": "stdout",
     "output_type": "stream",
     "text": [
      "sklearn train-mean model SSE(on test): 622398.9703179051\n",
      " manual train-mean model SSE(on test): 622398.9703179051\n",
      "  manual test-mean model SSE(on test): 613795.5675675676\n"
     ]
    }
   ],
   "source": [
    "#sklearn-train-mean to predict test tgts\n",
    "base_errors = base_preds - diabetes_test_tgt\n",
    "sse_base_preds = np.dot(base_errors, base_errors)\n",
    "\n",
    "#train-mean to predict test targets\n",
    "train_mean_errors = np.mean(diabetes_train_tgt) - diabetes_test_tgt\n",
    "sse_mean_train = np.dot(train_mean_errors, train_mean_errors)\n",
    "\n",
    "#test-mean to predict test targets\n",
    "test_mean_errors = np.mean(diabetes_test_tgt) - diabetes_test_tgt\n",
    "sse_mean_test = np.dot(test_mean_errors, test_mean_errors)\n",
    "\n",
    "print(\"sklearn train-mean model SSE(on test):\", sse_base_preds)\n",
    "print(\" manual train-mean model SSE(on test):\", sse_mean_train)\n",
    "print(\"  manual test-mean model SSE(on test):\", sse_mean_test)"
   ]
  },
  {
   "cell_type": "code",
   "execution_count": 64,
   "id": "249cfd79",
   "metadata": {},
   "outputs": [
    {
     "data": {
      "text/plain": [
       "-0.014016723490578809"
      ]
     },
     "execution_count": 64,
     "metadata": {},
     "output_type": "execute_result"
    }
   ],
   "source": [
    "1 - (sse_base_preds / sse_mean_test)"
   ]
  },
  {
   "cell_type": "code",
   "execution_count": 65,
   "id": "0903ba32",
   "metadata": {},
   "outputs": [
    {
     "name": "stdout",
     "output_type": "stream",
     "text": [
      "-0.014016723490579253\n",
      "-0.014016723490578809\n"
     ]
    }
   ],
   "source": [
    "print(base_r2_sklearn)\n",
    "print(1 - (sse_base_preds / sse_mean_test))"
   ]
  },
  {
   "cell_type": "markdown",
   "id": "912fab53",
   "metadata": {},
   "source": [
    "### 7.3 Residual Plots"
   ]
  },
  {
   "cell_type": "code",
   "execution_count": 66,
   "id": "297e8ed8",
   "metadata": {},
   "outputs": [
    {
     "data": {
      "text/html": [
       "<div>\n",
       "<style scoped>\n",
       "    .dataframe tbody tr th:only-of-type {\n",
       "        vertical-align: middle;\n",
       "    }\n",
       "\n",
       "    .dataframe tbody tr th {\n",
       "        vertical-align: top;\n",
       "    }\n",
       "\n",
       "    .dataframe thead th {\n",
       "        text-align: right;\n",
       "    }\n",
       "</style>\n",
       "<table border=\"1\" class=\"dataframe\">\n",
       "  <thead>\n",
       "    <tr style=\"text-align: right;\">\n",
       "      <th></th>\n",
       "      <th>predicted</th>\n",
       "      <th>actual</th>\n",
       "      <th>error</th>\n",
       "    </tr>\n",
       "    <tr>\n",
       "      <th>example</th>\n",
       "      <th></th>\n",
       "      <th></th>\n",
       "      <th></th>\n",
       "    </tr>\n",
       "  </thead>\n",
       "  <tbody>\n",
       "    <tr>\n",
       "      <th>0</th>\n",
       "      <td>4</td>\n",
       "      <td>3</td>\n",
       "      <td>1</td>\n",
       "    </tr>\n",
       "    <tr>\n",
       "      <th>1</th>\n",
       "      <td>2</td>\n",
       "      <td>5</td>\n",
       "      <td>-3</td>\n",
       "    </tr>\n",
       "    <tr>\n",
       "      <th>2</th>\n",
       "      <td>9</td>\n",
       "      <td>7</td>\n",
       "      <td>2</td>\n",
       "    </tr>\n",
       "  </tbody>\n",
       "</table>\n",
       "</div>"
      ],
      "text/latex": [
       "\\begin{tabular}{lrrr}\n",
       "\\toprule\n",
       "{} &  predicted &  actual &  error \\\\\n",
       "example &            &         &        \\\\\n",
       "\\midrule\n",
       "0       &          4 &       3 &      1 \\\\\n",
       "1       &          2 &       5 &     -3 \\\\\n",
       "2       &          9 &       7 &      2 \\\\\n",
       "\\bottomrule\n",
       "\\end{tabular}\n"
      ],
      "text/plain": [
       "         predicted  actual  error\n",
       "example                          \n",
       "0                4       3      1\n",
       "1                2       5     -3\n",
       "2                9       7      2"
      ]
     },
     "metadata": {},
     "output_type": "display_data"
    }
   ],
   "source": [
    "#Error Plots\n",
    "ape_df = pd.DataFrame({'predicted' : [4, 2, 9],\n",
    "                       'actual'    : [3, 5, 7]})\n",
    "\n",
    "ape_df['error'] = ape_df['predicted'] - ape_df['actual']\n",
    "\n",
    "ape_df.index.name = 'example'\n",
    "display(ape_df)"
   ]
  },
  {
   "cell_type": "code",
   "execution_count": 67,
   "id": "faf3f168",
   "metadata": {},
   "outputs": [
    {
     "data": {
      "image/png": "[encoded data removed]",
      "text/plain": [
       "<Figure size 432x216 with 2 Axes>"
      ]
     },
     "metadata": {
      "needs_background": "light"
     },
     "output_type": "display_data"
    }
   ],
   "source": [
    "def regression_errors(figsize, predicted, actual, errors='all'):\n",
    "    ''' figsize -> subplots;\n",
    "        predicted/actual data -> columns in a DataFrame\n",
    "        errors -> \"all\" or sequence of indices '''\n",
    "    \n",
    "    fig, axes = plt.subplots(1, 2, figsize=figsize,\n",
    "                             sharex=True, sharey=True)\n",
    "    df = pd.DataFrame({'actual':actual,\n",
    "                       'predicted':predicted})\n",
    "    \n",
    "    for ax, (x,y) in zip(axes, it.permutations(['actual',\n",
    "                                                'predicted'])):\n",
    "        # plot the data as '.'; perfect as y=x line\n",
    "        ax.plot(df[x], df[y], '.', label='data')\n",
    "        ax.plot(df['actual'], df['actual'], '-',\n",
    "                label='perfection')\n",
    "        ax.legend()\n",
    "        \n",
    "        ax.set_xlabel('{} Value'.format(x.capitalize()))\n",
    "        ax.set_ylabel('{} Value'.format(y.capitalize()))\n",
    "        ax.set_aspect('equal')\n",
    "        \n",
    "    axes[1].yaxis.tick_right()\n",
    "    axes[1].yaxis.set_label_position(\"right\")\n",
    "    \n",
    "    #show connecting bars from data to perfect\n",
    "    #for all or only those specified?\n",
    "    if errors == 'all':\n",
    "        errors = range(len(df))\n",
    "    if errors:\n",
    "        acts = df.actual.iloc[errors]\n",
    "        preds = df.predicted.iloc[errors]\n",
    "        axes[0].vlines(acts, preds, acts, 'r')\n",
    "        axes[1].hlines(acts, preds, acts, 'r')\n",
    "        \n",
    "regression_errors((6, 3), ape_df.predicted, ape_df.actual)"
   ]
  },
  {
   "cell_type": "code",
   "execution_count": 68,
   "id": "974457b2",
   "metadata": {},
   "outputs": [
    {
     "data": {
      "image/png": "[encoded data removed]",
      "text/plain": [
       "<Figure size 576x288 with 2 Axes>"
      ]
     },
     "metadata": {
      "needs_background": "light"
     },
     "output_type": "display_data"
    }
   ],
   "source": [
    "lr = linear_model.LinearRegression()\n",
    "preds = (lr.fit(diabetes_train_ftrs, diabetes_train_tgt)\n",
    "           .predict(diabetes_test_ftrs))\n",
    "\n",
    "regression_errors((8, 4), preds, diabetes_test_tgt, errors=[-20])"
   ]
  },
  {
   "cell_type": "code",
   "execution_count": 69,
   "id": "0a0ffab8",
   "metadata": {},
   "outputs": [
    {
     "data": {
      "text/html": [
       "<div>\n",
       "<style scoped>\n",
       "    .dataframe tbody tr th:only-of-type {\n",
       "        vertical-align: middle;\n",
       "    }\n",
       "\n",
       "    .dataframe tbody tr th {\n",
       "        vertical-align: top;\n",
       "    }\n",
       "\n",
       "    .dataframe thead th {\n",
       "        text-align: right;\n",
       "    }\n",
       "</style>\n",
       "<table border=\"1\" class=\"dataframe\">\n",
       "  <thead>\n",
       "    <tr style=\"text-align: right;\">\n",
       "      <th></th>\n",
       "      <th>predicted</th>\n",
       "      <th>actual</th>\n",
       "      <th>error</th>\n",
       "      <th>resid</th>\n",
       "    </tr>\n",
       "    <tr>\n",
       "      <th>example</th>\n",
       "      <th></th>\n",
       "      <th></th>\n",
       "      <th></th>\n",
       "      <th></th>\n",
       "    </tr>\n",
       "  </thead>\n",
       "  <tbody>\n",
       "    <tr>\n",
       "      <th>0</th>\n",
       "      <td>4</td>\n",
       "      <td>3</td>\n",
       "      <td>1</td>\n",
       "      <td>-1</td>\n",
       "    </tr>\n",
       "    <tr>\n",
       "      <th>1</th>\n",
       "      <td>2</td>\n",
       "      <td>5</td>\n",
       "      <td>-3</td>\n",
       "      <td>3</td>\n",
       "    </tr>\n",
       "    <tr>\n",
       "      <th>2</th>\n",
       "      <td>9</td>\n",
       "      <td>7</td>\n",
       "      <td>2</td>\n",
       "      <td>-2</td>\n",
       "    </tr>\n",
       "  </tbody>\n",
       "</table>\n",
       "</div>"
      ],
      "text/latex": [
       "\\begin{tabular}{lrrrr}\n",
       "\\toprule\n",
       "{} &  predicted &  actual &  error &  resid \\\\\n",
       "example &            &         &        &        \\\\\n",
       "\\midrule\n",
       "0       &          4 &       3 &      1 &     -1 \\\\\n",
       "1       &          2 &       5 &     -3 &      3 \\\\\n",
       "2       &          9 &       7 &      2 &     -2 \\\\\n",
       "\\bottomrule\n",
       "\\end{tabular}\n"
      ],
      "text/plain": [
       "         predicted  actual  error  resid\n",
       "example                                 \n",
       "0                4       3      1     -1\n",
       "1                2       5     -3      3\n",
       "2                9       7      2     -2"
      ]
     },
     "metadata": {},
     "output_type": "display_data"
    }
   ],
   "source": [
    "#Residual Plots - difference between actuals and predicted\n",
    "\n",
    "ape_df = pd.DataFrame({'predicted' : [4, 2, 9],\n",
    "                       'actual'    : [3, 5, 7]})\n",
    "\n",
    "ape_df['error'] = ape_df['predicted'] - ape_df['actual']\n",
    "ape_df['resid'] = ape_df['actual'] - ape_df['predicted']\n",
    "\n",
    "ape_df.index.name = 'example'\n",
    "display(ape_df)"
   ]
  },
  {
   "cell_type": "code",
   "execution_count": 70,
   "id": "774387c0",
   "metadata": {},
   "outputs": [
    {
     "data": {
      "image/png": "[encoded data removed]",
      "text/plain": [
       "<Figure size 576x288 with 2 Axes>"
      ]
     },
     "metadata": {
      "needs_background": "light"
     },
     "output_type": "display_data"
    }
   ],
   "source": [
    "def regression_residuals(ax, predicted, actual,\n",
    "                         show_errors=None, right=False):\n",
    "    ''' figsize -> subplots;\n",
    "        predicted/actual data -> columns of a DataFrame\n",
    "        errors -> \"all\" or sequence of indices '''\n",
    "    df = pd.DataFrame({'actual': actual,\n",
    "                       'predicted': predicted})\n",
    "    df['error'] = df.actual - df.predicted\n",
    "    ax.plot(df.predicted, df.error, '.')\n",
    "    ax.plot(df.predicted, np.zeros_like(predicted), '-')\n",
    "    \n",
    "    if right:\n",
    "        ax.yaxis.tick_right()\n",
    "        ax.yaxis.set_label_position(\"right\")\n",
    "        ax.set_xlabel('Predicted Value')\n",
    "        ax.set_ylabel('Residual')\n",
    "        \n",
    "    if show_errors == 'all':\n",
    "        show_errors = range(len(df))\n",
    "    if show_errors:\n",
    "        preds = df.predicted.iloc[show_errors]\n",
    "        errors = df.error.iloc[show_errors]\n",
    "        ax.vlines(preds, 0, errors, 'r')\n",
    "        \n",
    "fig, (ax1, ax2) = plt.subplots(1, 2, figsize=(8,4))\n",
    "\n",
    "ax1.plot(ape_df.predicted, ape_df.actual, 'r.', #pred vs actual\n",
    "         [0, 10], [0, 10], 'b-')                #perfect line\n",
    "ax1.set_xlabel('Predicted')\n",
    "ax1.set_ylabel('Actual')\n",
    "regression_residuals(ax2, ape_df.predicted, ape_df.actual,\n",
    "                     'all', right=True)"
   ]
  },
  {
   "cell_type": "code",
   "execution_count": 71,
   "id": "71bff6b8",
   "metadata": {},
   "outputs": [
    {
     "data": {
      "image/png": "[encoded data removed]",
      "text/plain": [
       "<Figure size 720x360 with 2 Axes>"
      ]
     },
     "metadata": {
      "needs_background": "light"
     },
     "output_type": "display_data"
    }
   ],
   "source": [
    "lr = linear_model.LinearRegression()\n",
    "knn = neighbors.KNeighborsRegressor()\n",
    "\n",
    "models = [lr, knn]\n",
    "\n",
    "fig, axes = plt.subplots(1, 2, figsize=(10, 5),\n",
    "                         sharex=True, sharey=True)\n",
    "fig.tight_layout()\n",
    "\n",
    "for model, ax, on_right in zip(models, axes, [False, True]):\n",
    "    preds = (model.fit(diabetes_train_ftrs, diabetes_train_tgt)\n",
    "                  .predict(diabetes_test_ftrs))\n",
    "    \n",
    "    regression_residuals(ax, preds, diabetes_test_tgt, [-20], on_right)\n",
    "    \n",
    "axes[0].set_title('Linear Regression Residuals')\n",
    "axes[1].set_title('k-NN Regressor Residuals');"
   ]
  },
  {
   "cell_type": "code",
   "execution_count": 72,
   "id": "c997996e",
   "metadata": {},
   "outputs": [
    {
     "name": "stdout",
     "output_type": "stream",
     "text": [
      "280.0\n"
     ]
    }
   ],
   "source": [
    "print(diabetes_test_tgt[-20])"
   ]
  },
  {
   "cell_type": "code",
   "execution_count": 73,
   "id": "16b38cf6",
   "metadata": {},
   "outputs": [
    {
     "data": {
      "text/html": [
       "<div>\n",
       "<style scoped>\n",
       "    .dataframe tbody tr th:only-of-type {\n",
       "        vertical-align: middle;\n",
       "    }\n",
       "\n",
       "    .dataframe tbody tr th {\n",
       "        vertical-align: top;\n",
       "    }\n",
       "\n",
       "    .dataframe thead th {\n",
       "        text-align: right;\n",
       "    }\n",
       "</style>\n",
       "<table border=\"1\" class=\"dataframe\">\n",
       "  <thead>\n",
       "    <tr style=\"text-align: right;\">\n",
       "      <th></th>\n",
       "      <th>x</th>\n",
       "      <th>std-ized</th>\n",
       "    </tr>\n",
       "  </thead>\n",
       "  <tbody>\n",
       "    <tr>\n",
       "      <th>mean</th>\n",
       "      <td>2.5000</td>\n",
       "      <td>0.0000</td>\n",
       "    </tr>\n",
       "    <tr>\n",
       "      <th>std</th>\n",
       "      <td>4.6706</td>\n",
       "      <td>1.0000</td>\n",
       "    </tr>\n",
       "  </tbody>\n",
       "</table>\n",
       "</div>"
      ],
      "text/latex": [
       "\\begin{tabular}{lrr}\n",
       "\\toprule\n",
       "{} &                    x &             std-ized \\\\\n",
       "\\midrule\n",
       "mean &               2.5000 &               0.0000 \\\\\n",
       "std  &               4.6706 &               1.0000 \\\\\n",
       "\\bottomrule\n",
       "\\end{tabular}\n"
      ],
      "text/plain": [
       "                        x             std-ized\n",
       "mean               2.5000               0.0000\n",
       "std                4.6706               1.0000"
      ]
     },
     "metadata": {},
     "output_type": "display_data"
    },
    {
     "data": {
      "image/png": "[encoded data removed]",
      "text/plain": [
       "<Figure size 216x216 with 1 Axes>"
      ]
     },
     "metadata": {
      "needs_background": "light"
     },
     "output_type": "display_data"
    }
   ],
   "source": [
    "#1D standardization\n",
    "#place evenly spaced values in a dataframe\n",
    "\n",
    "xs = np.linspace(-5, 10, 20)\n",
    "df = pd.DataFrame(xs, columns=['x'])\n",
    "\n",
    "#center ( - mean) and scale (/ std)\n",
    "df['std-ized'] = (df.x - df.x.mean()) / df.x.std()\n",
    "\n",
    "#show original and new data; compute statistics\n",
    "fig, ax = plt.subplots(1, 1, figsize=(3, 3))\n",
    "\n",
    "sns.stripplot(data=df)\n",
    "display(df.describe().loc[['mean', 'std']])"
   ]
  },
  {
   "cell_type": "code",
   "execution_count": 74,
   "id": "8aa1c169",
   "metadata": {},
   "outputs": [
    {
     "data": {
      "text/html": [
       "<div>\n",
       "<style scoped>\n",
       "    .dataframe tbody tr th:only-of-type {\n",
       "        vertical-align: middle;\n",
       "    }\n",
       "\n",
       "    .dataframe tbody tr th {\n",
       "        vertical-align: top;\n",
       "    }\n",
       "\n",
       "    .dataframe thead th {\n",
       "        text-align: right;\n",
       "    }\n",
       "</style>\n",
       "<table border=\"1\" class=\"dataframe\">\n",
       "  <thead>\n",
       "    <tr style=\"text-align: right;\">\n",
       "      <th></th>\n",
       "      <th>x</th>\n",
       "      <th>y</th>\n",
       "    </tr>\n",
       "  </thead>\n",
       "  <tbody>\n",
       "    <tr>\n",
       "      <th>mean</th>\n",
       "      <td>0.0000</td>\n",
       "      <td>-0.0000</td>\n",
       "    </tr>\n",
       "    <tr>\n",
       "      <th>std</th>\n",
       "      <td>1.0000</td>\n",
       "      <td>1.0000</td>\n",
       "    </tr>\n",
       "  </tbody>\n",
       "</table>\n",
       "</div>"
      ],
      "text/latex": [
       "\\begin{tabular}{lrr}\n",
       "\\toprule\n",
       "{} &                    x &                    y \\\\\n",
       "\\midrule\n",
       "mean &               0.0000 &              -0.0000 \\\\\n",
       "std  &               1.0000 &               1.0000 \\\\\n",
       "\\bottomrule\n",
       "\\end{tabular}\n"
      ],
      "text/plain": [
       "                        x                    y\n",
       "mean               0.0000              -0.0000\n",
       "std                1.0000               1.0000"
      ]
     },
     "metadata": {},
     "output_type": "display_data"
    }
   ],
   "source": [
    "# 2 1D standardizations\n",
    "xs = np.linspace(-5, 10, 20)\n",
    "ys = 3*xs + 2 + np.random.uniform(20, 40, 20)\n",
    "\n",
    "df = pd.DataFrame({'x':xs, 'y':ys})\n",
    "df_std_ized = (df - df.mean()) / df.std()\n",
    "\n",
    "display(df_std_ized.describe().loc[['mean', 'std']])"
   ]
  },
  {
   "cell_type": "code",
   "execution_count": 75,
   "id": "5e952c7a",
   "metadata": {},
   "outputs": [
    {
     "data": {
      "image/png": "[encoded data removed]",
      "text/plain": [
       "<Figure size 360x360 with 4 Axes>"
      ]
     },
     "metadata": {
      "needs_background": "light"
     },
     "output_type": "display_data"
    }
   ],
   "source": [
    "fig, ax = plt.subplots(2, 2, figsize=(5,5))\n",
    "\n",
    "ax[0,0].plot(df.x, df.y, '.')\n",
    "ax[0,1].plot(df_std_ized.x, df_std_ized.y, '.')\n",
    "ax[0,0].set_ylabel('\"Natural\" Scale')\n",
    "\n",
    "ax[1,0].plot(df.x, df.y, '.')\n",
    "ax[1,1].plot(df_std_ized.x, df_std_ized.y, '.')\n",
    "\n",
    "ax[1,0].axis([-10, 50, -10, 50])\n",
    "ax[1,1].axis([-10, 50, -10, 50])\n",
    "\n",
    "ax[1,0].set_ylabel('Fixed/Shared Scale')\n",
    "ax[1,0].set_xlabel('Original Data')\n",
    "ax[1,1].set_xlabel('Standardized Data');"
   ]
  },
  {
   "cell_type": "code",
   "execution_count": 76,
   "id": "11865095",
   "metadata": {},
   "outputs": [
    {
     "data": {
      "text/plain": [
       "array([[ 0.191 ],\n",
       "       [-1.1462],\n",
       "       [ 0.9552],\n",
       "       [ 0.5731],\n",
       "       [-1.3373],\n",
       "       [-0.191 ],\n",
       "       [ 1.5283],\n",
       "       [ 2.1014],\n",
       "       [ 1.3373],\n",
       "       [ 1.7194]])"
      ]
     },
     "execution_count": 76,
     "metadata": {},
     "output_type": "execute_result"
    }
   ],
   "source": [
    "train_xs, test_xs = skms.train_test_split(xs.reshape(-1,1), test_size=.5)\n",
    "\n",
    "scaler = skpre.StandardScaler()\n",
    "scaler.fit(train_xs).transform(test_xs)"
   ]
  },
  {
   "cell_type": "code",
   "execution_count": 77,
   "id": "f595a5b3",
   "metadata": {},
   "outputs": [
    {
     "data": {
      "text/plain": [
       "array([[23.6297],\n",
       "       [31.3485],\n",
       "       [21.7   ],\n",
       "       [54.5048],\n",
       "       [52.5751],\n",
       "       [39.0672],\n",
       "       [35.2079],\n",
       "       [27.4891],\n",
       "       [56.4345],\n",
       "       [40.9969]])"
      ]
     },
     "execution_count": 77,
     "metadata": {},
     "output_type": "execute_result"
    }
   ],
   "source": [
    "# standarize and fit model using a pipeline\n",
    "(train_xs, test_xs,\n",
    "train_ys, test_ys) = skms.train_test_split(xs.reshape(-1,1),\n",
    "                                           ys.reshape(-1, 1),\n",
    "                                           test_size=.5)\n",
    "\n",
    "scaler = skpre.StandardScaler()\n",
    "lr = linear_model.LinearRegression()\n",
    "\n",
    "std_lr_pipe = pipeline.make_pipeline(scaler, lr)\n",
    "\n",
    "std_lr_pipe.fit(train_xs, train_ys).predict(test_xs)"
   ]
  },
  {
   "cell_type": "code",
   "execution_count": 106,
   "id": "a88a4b9a",
   "metadata": {},
   "outputs": [
    {
     "data": {
      "text/html": [
       "<div>\n",
       "<style scoped>\n",
       "    .dataframe tbody tr th:only-of-type {\n",
       "        vertical-align: middle;\n",
       "    }\n",
       "\n",
       "    .dataframe tbody tr th {\n",
       "        vertical-align: top;\n",
       "    }\n",
       "\n",
       "    .dataframe thead th {\n",
       "        text-align: right;\n",
       "    }\n",
       "</style>\n",
       "<table border=\"1\" class=\"dataframe\">\n",
       "  <thead>\n",
       "    <tr style=\"text-align: right;\">\n",
       "      <th></th>\n",
       "      <th>count</th>\n",
       "      <th>mean</th>\n",
       "      <th>std</th>\n",
       "      <th>min</th>\n",
       "      <th>25%</th>\n",
       "      <th>50%</th>\n",
       "      <th>75%</th>\n",
       "      <th>max</th>\n",
       "    </tr>\n",
       "  </thead>\n",
       "  <tbody>\n",
       "    <tr>\n",
       "      <th>absences</th>\n",
       "      <td>395.0000</td>\n",
       "      <td>5.7089</td>\n",
       "      <td>8.0031</td>\n",
       "      <td>0.0000</td>\n",
       "      <td>0.0000</td>\n",
       "      <td>4.0000</td>\n",
       "      <td>8.0000</td>\n",
       "      <td>75.0000</td>\n",
       "    </tr>\n",
       "  </tbody>\n",
       "</table>\n",
       "</div>"
      ],
      "text/latex": [
       "\\begin{tabular}{lrrrrrrrr}\n",
       "\\toprule\n",
       "{} &                count &                 mean &                  std &                  min &                  25\\% &                  50\\% &                  75\\% &                  max \\\\\n",
       "\\midrule\n",
       "absences &             395.0000 &               5.7089 &               8.0031 &               0.0000 &               0.0000 &               4.0000 &               8.0000 &              75.0000 \\\\\n",
       "\\bottomrule\n",
       "\\end{tabular}\n"
      ],
      "text/plain": [
       "                        count                 mean                  std  \\\n",
       "absences             395.0000               5.7089               8.0031   \n",
       "\n",
       "                          min                  25%                  50%  \\\n",
       "absences               0.0000               0.0000               4.0000   \n",
       "\n",
       "                          75%                  max  \n",
       "absences               8.0000              75.0000  "
      ]
     },
     "metadata": {},
     "output_type": "display_data"
    }
   ],
   "source": [
    "raw_loc = 'data/student/student-mat.csv'\n",
    "\n",
    "df = pd.read_csv(raw_loc, sep=';')\n",
    "df = df.drop(columns=['G1', 'G2']).select_dtypes(include=['number'])\n",
    "df.to_csv('portuguese_student_numeric.csv', index=False)\n",
    "\n",
    "\n",
    "student_df = pd.read_csv('data/student/portuguese_student_numeric.csv')\n",
    "display(student_df[['absences']].describe().T)"
   ]
  },
  {
   "cell_type": "code",
   "execution_count": 107,
   "id": "8b4e4847",
   "metadata": {},
   "outputs": [
    {
     "data": {
      "text/plain": [
       "Index(['age', 'Medu', 'Fedu', 'traveltime', 'studytime', 'failures', 'famrel',\n",
       "       'freetime', 'goout', 'Dalc', 'Walc', 'health', 'absences', 'G3'],\n",
       "      dtype='object')"
      ]
     },
     "execution_count": 107,
     "metadata": {},
     "output_type": "execute_result"
    }
   ],
   "source": [
    "student_df.columns"
   ]
  },
  {
   "cell_type": "code",
   "execution_count": 108,
   "id": "d2e035e2",
   "metadata": {},
   "outputs": [],
   "source": [
    "student_ftrs = student_df[student_df.columns[:-1]]\n",
    "student_tgt = student_df['G3']"
   ]
  },
  {
   "cell_type": "code",
   "execution_count": null,
   "id": "579c067d",
   "metadata": {},
   "outputs": [],
   "source": []
  },
  {
   "cell_type": "code",
   "execution_count": 112,
   "id": "216a6690",
   "metadata": {},
   "outputs": [
    {
     "data": {
      "image/png": "[encoded data removed]",
      "text/plain": [
       "<Figure size 432x288 with 2 Axes>"
      ]
     },
     "metadata": {
      "needs_background": "light"
     },
     "output_type": "display_data"
    }
   ],
   "source": [
    "scaler = skpre.StandardScaler()\n",
    "\n",
    "lr = linear_model.LinearRegression()\n",
    "knn_3 = neighbors.KNeighborsRegressor(n_neighbors = 3)\n",
    "knn_10 = neighbors.KNeighborsRegressor(n_neighbors = 10)\n",
    "\n",
    "std_lr_pipe = pipeline.make_pipeline(scaler, lr)\n",
    "std_knn3_pipe = pipeline.make_pipeline(scaler, knn_3)\n",
    "std_knn10_pipe = pipeline.make_pipeline(scaler, knn_10)\n",
    "\n",
    "# mean with/without Standardization should give same results\n",
    "regressors = {'baseline' : dummy.DummyRegressor(strategy='mean'),\n",
    "              'std_knn3' : std_knn3_pipe,\n",
    "              'std_knn10' : std_knn10_pipe,\n",
    "              'std_lr' : std_lr_pipe}\n",
    "\n",
    "msrs = {'MAE' : metrics.make_scorer(metrics.mean_absolute_error),\n",
    "        'RMSE' : metrics.make_scorer(rms_error)}\n",
    "\n",
    "fig, axes = plt.subplots(2, 1, figsize=(6, 4))\n",
    "fig.tight_layout()\n",
    "\n",
    "for mod_name, model in regressors.items():\n",
    "    cv_results = skms.cross_validate(model,\n",
    "                                     student_ftrs, student_tgt,\n",
    "                                     scoring = msrs, cv=10)\n",
    "    \n",
    "    for ax, msr in zip(axes, msrs):\n",
    "        msr_results = cv_results[\"test_\" + msr]\n",
    "        my_lbl = \"{:12s} {:.3f} {:.2f}\".format(mod_name,\n",
    "                                              msr_results.mean(),\n",
    "                                              msr_results.std())\n",
    "        \n",
    "        ax.plot(msr_results, 'o--', label=my_lbl)\n",
    "        ax.set_title(msr)\n",
    "\n",
    "        #ax.legend() #uncommon for summary stats"
   ]
  },
  {
   "cell_type": "code",
   "execution_count": null,
   "id": "2cfa1be3",
   "metadata": {},
   "outputs": [],
   "source": []
  },
  {
   "cell_type": "code",
   "execution_count": 114,
   "id": "6fba8192",
   "metadata": {},
   "outputs": [
    {
     "data": {
      "image/png": "[encoded data removed]",
      "text/plain": [
       "<Figure size 432x216 with 1 Axes>"
      ]
     },
     "metadata": {
      "needs_background": "light"
     },
     "output_type": "display_data"
    }
   ],
   "source": [
    "fig, ax = plt.subplots(1, 1, figsize=(6, 3))\n",
    "baseline_results = skms.cross_val_score(regressors['baseline'],\n",
    "                                        student_ftrs, student_tgt,\n",
    "                                        scoring = msrs['RMSE'], cv=10)\n",
    "\n",
    "for mod_name, model in regressors.items():\n",
    "    if mod_name.startswith(\"std_\"):\n",
    "        cv_results = skms.cross_val_score(model,\n",
    "                                          student_ftrs, student_tgt,\n",
    "                                          scoring = msrs['RMSE'], cv=10)\n",
    "        \n",
    "        my_lbl = \"{:12s} {:.3} {:.2f}\".format(mod_name,\n",
    "                                              cv_results.mean(),\n",
    "                                              cv_results.std())\n",
    "        \n",
    "        ax.plot(cv_results / baseline_results, 'o--', label=my_lbl)\n",
    "        \n",
    "ax.set_title(\"RMSE(model) / RMSE(baseline)\\n$<1$ is better than baseline\")\n",
    "\n",
    "ax.legend();"
   ]
  },
  {
   "cell_type": "code",
   "execution_count": 117,
   "id": "578068d1",
   "metadata": {},
   "outputs": [
    {
     "data": {
      "image/png": "[encoded data removed]",
      "text/plain": [
       "<Figure size 432x216 with 1 Axes>"
      ]
     },
     "metadata": {
      "needs_background": "light"
     },
     "output_type": "display_data"
    }
   ],
   "source": [
    "fig, ax = plt.subplots(1, 1, figsize=(6,3))\n",
    "for mod_name, model in regressors.items():\n",
    "    cv_results = skms.cross_val_score(model,\n",
    "                                      student_ftrs, student_tgt,\n",
    "                                      cv=10)\n",
    "    my_lbl = \"{:12s} {:.3f} {:.2f}\".format(mod_name,\n",
    "                                           cv_results.mean(),\n",
    "                                           cv_results.std())\n",
    "    \n",
    "    ax.plot(cv_results, 'o--', label=my_lbl)\n",
    "\n",
    "ax.set_title(\"$R^2$\");\n",
    "ax.legend();\n",
    "    \n",
    "    "
   ]
  },
  {
   "cell_type": "code",
   "execution_count": 120,
   "id": "66d6e0a7",
   "metadata": {},
   "outputs": [
    {
     "data": {
      "text/html": [
       "<div>\n",
       "<style scoped>\n",
       "    .dataframe tbody tr th:only-of-type {\n",
       "        vertical-align: middle;\n",
       "    }\n",
       "\n",
       "    .dataframe tbody tr th {\n",
       "        vertical-align: top;\n",
       "    }\n",
       "\n",
       "    .dataframe thead th {\n",
       "        text-align: right;\n",
       "    }\n",
       "</style>\n",
       "<table border=\"1\" class=\"dataframe\">\n",
       "  <thead>\n",
       "    <tr style=\"text-align: right;\">\n",
       "      <th></th>\n",
       "      <th>MAD</th>\n",
       "      <th>RMSE</th>\n",
       "    </tr>\n",
       "  </thead>\n",
       "  <tbody>\n",
       "    <tr>\n",
       "      <th>baseline</th>\n",
       "      <td>3.4470</td>\n",
       "      <td>4.6116</td>\n",
       "    </tr>\n",
       "    <tr>\n",
       "      <th>std_knn3</th>\n",
       "      <td>3.7797</td>\n",
       "      <td>4.8915</td>\n",
       "    </tr>\n",
       "    <tr>\n",
       "      <th>std_knn10</th>\n",
       "      <td>3.3666</td>\n",
       "      <td>4.4873</td>\n",
       "    </tr>\n",
       "    <tr>\n",
       "      <th>std_lr</th>\n",
       "      <td>3.3883</td>\n",
       "      <td>4.3653</td>\n",
       "    </tr>\n",
       "  </tbody>\n",
       "</table>\n",
       "</div>"
      ],
      "text/latex": [
       "\\begin{tabular}{lrr}\n",
       "\\toprule\n",
       "{} &                  MAD &                 RMSE \\\\\n",
       "\\midrule\n",
       "baseline  &               3.4470 &               4.6116 \\\\\n",
       "std\\_knn3  &               3.7797 &               4.8915 \\\\\n",
       "std\\_knn10 &               3.3666 &               4.4873 \\\\\n",
       "std\\_lr    &               3.3883 &               4.3653 \\\\\n",
       "\\bottomrule\n",
       "\\end{tabular}\n"
      ],
      "text/plain": [
       "                           MAD                 RMSE\n",
       "baseline                3.4470               4.6116\n",
       "std_knn3                3.7797               4.8915\n",
       "std_knn10               3.3666               4.4873\n",
       "std_lr                  3.3883               4.3653"
      ]
     },
     "execution_count": 120,
     "metadata": {},
     "output_type": "execute_result"
    }
   ],
   "source": [
    "msrs = {'MAD' : metrics.mean_absolute_error,\n",
    "        'RMSE' : rms_error} # not scorer, no model\n",
    "\n",
    "results = {}\n",
    "for mod_name, model in regressors.items():\n",
    "    cv_preds = skms.cross_val_predict(model,\n",
    "                                      student_ftrs, student_tgt,\n",
    "                                      cv=10)\n",
    "    \n",
    "    for ax, msr in zip(axes, msrs):\n",
    "        msr_results = msrs[msr](student_tgt, cv_preds)\n",
    "        results.setdefault(msr, []).append(msr_results)\n",
    "        \n",
    "df = pd.DataFrame(results, index=regressors.keys())\n",
    "df\n",
    "    \n",
    "    "
   ]
  },
  {
   "cell_type": "code",
   "execution_count": 122,
   "id": "39dc7f29",
   "metadata": {},
   "outputs": [
    {
     "data": {
      "text/html": [
       "<div>\n",
       "<style scoped>\n",
       "    .dataframe tbody tr th:only-of-type {\n",
       "        vertical-align: middle;\n",
       "    }\n",
       "\n",
       "    .dataframe tbody tr th {\n",
       "        vertical-align: top;\n",
       "    }\n",
       "\n",
       "    .dataframe thead th {\n",
       "        text-align: right;\n",
       "    }\n",
       "</style>\n",
       "<table border=\"1\" class=\"dataframe\">\n",
       "  <thead>\n",
       "    <tr style=\"text-align: right;\">\n",
       "      <th></th>\n",
       "      <th>count</th>\n",
       "      <th>mean</th>\n",
       "      <th>std</th>\n",
       "      <th>min</th>\n",
       "      <th>25%</th>\n",
       "      <th>50%</th>\n",
       "      <th>75%</th>\n",
       "      <th>max</th>\n",
       "    </tr>\n",
       "  </thead>\n",
       "  <tbody>\n",
       "    <tr>\n",
       "      <th>G3</th>\n",
       "      <td>395.0000</td>\n",
       "      <td>10.4152</td>\n",
       "      <td>4.5814</td>\n",
       "      <td>0.0000</td>\n",
       "      <td>8.0000</td>\n",
       "      <td>11.0000</td>\n",
       "      <td>14.0000</td>\n",
       "      <td>20.0000</td>\n",
       "    </tr>\n",
       "  </tbody>\n",
       "</table>\n",
       "</div>"
      ],
      "text/latex": [
       "\\begin{tabular}{lrrrrrrrr}\n",
       "\\toprule\n",
       "{} &                count &                 mean &                  std &                  min &                  25\\% &                  50\\% &                  75\\% &                  max \\\\\n",
       "\\midrule\n",
       "G3 &             395.0000 &              10.4152 &               4.5814 &               0.0000 &               8.0000 &              11.0000 &              14.0000 &              20.0000 \\\\\n",
       "\\bottomrule\n",
       "\\end{tabular}\n"
      ],
      "text/plain": [
       "                  count                 mean                  std  \\\n",
       "G3             395.0000              10.4152               4.5814   \n",
       "\n",
       "                    min                  25%                  50%  \\\n",
       "G3               0.0000               8.0000              11.0000   \n",
       "\n",
       "                    75%                  max  \n",
       "G3              14.0000              20.0000  "
      ]
     },
     "execution_count": 122,
     "metadata": {},
     "output_type": "execute_result"
    },
    {
     "data": {
      "image/png": "[encoded data removed]",
      "text/plain": [
       "<Figure size 720x360 with 4 Axes>"
      ]
     },
     "metadata": {
      "needs_background": "light"
     },
     "output_type": "display_data"
    }
   ],
   "source": [
    "fig, axes = plt.subplots(1, 4, figsize=(10, 5),\n",
    "                         sharex=True, sharey=True)\n",
    "fig.tight_layout()\n",
    "\n",
    "for model_name, ax in zip(regressors, axes):\n",
    "    model = regressors[model_name]\n",
    "    preds = skms.cross_val_predict(model,\n",
    "                                   student_ftrs, student_tgt,\n",
    "                                   cv=10)\n",
    "    \n",
    "    regression_residuals(ax, preds, student_tgt)\n",
    "    ax.set_title(model_name + \" residuals\")\n",
    "pd.DataFrame(student_tgt).describe().T"
   ]
  },
  {
   "cell_type": "code",
   "execution_count": null,
   "id": "66e0616a",
   "metadata": {},
   "outputs": [],
   "source": []
  }
 ],
 "metadata": {
  "kernelspec": {
   "display_name": "Python 3 (ipykernel)",
   "language": "python",
   "name": "python3"
  },
  "language_info": {
   "codemirror_mode": {
    "name": "ipython",
    "version": 3
   },
   "file_extension": ".py",
   "mimetype": "text/x-python",
   "name": "python",
   "nbconvert_exporter": "python",
   "pygments_lexer": "ipython3",
   "version": "3.9.7"
  }
 },
 "nbformat": 4,
 "nbformat_minor": 5
}
