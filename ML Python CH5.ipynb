{
 "cells": [
  {
   "cell_type": "code",
   "execution_count": 2,
   "id": "25aa40ab",
   "metadata": {},
   "outputs": [
    {
     "data": {
      "text/plain": [
       "'0.9.0'"
      ]
     },
     "execution_count": 2,
     "metadata": {},
     "output_type": "execute_result"
    }
   ],
   "source": [
    "#setup\n",
    "from mlwpy import *\n",
    "diabetes = datasets.load_diabetes()\n",
    "%matplotlib inline\n",
    "sns.__version__"
   ]
  },
  {
   "cell_type": "markdown",
   "id": "06f17219",
   "metadata": {},
   "source": [
    "### 5.3.1 Synthetic Data and Linear Regression"
   ]
  },
  {
   "cell_type": "code",
   "execution_count": 3,
   "id": "e751fd7f",
   "metadata": {},
   "outputs": [
    {
     "data": {
      "text/html": [
       "<div>\n",
       "<style scoped>\n",
       "    .dataframe tbody tr th:only-of-type {\n",
       "        vertical-align: middle;\n",
       "    }\n",
       "\n",
       "    .dataframe tbody tr th {\n",
       "        vertical-align: top;\n",
       "    }\n",
       "\n",
       "    .dataframe thead th {\n",
       "        text-align: right;\n",
       "    }\n",
       "</style>\n",
       "<table border=\"1\" class=\"dataframe\">\n",
       "  <thead>\n",
       "    <tr style=\"text-align: right;\">\n",
       "      <th></th>\n",
       "      <th>0</th>\n",
       "      <th>1</th>\n",
       "      <th>2</th>\n",
       "      <th>3</th>\n",
       "      <th>4</th>\n",
       "      <th>5</th>\n",
       "      <th>6</th>\n",
       "      <th>7</th>\n",
       "      <th>8</th>\n",
       "      <th>9</th>\n",
       "    </tr>\n",
       "  </thead>\n",
       "  <tbody>\n",
       "    <tr>\n",
       "      <th>ftr</th>\n",
       "      <td>-1.5789</td>\n",
       "      <td>-6.8421</td>\n",
       "      <td>-3.6842</td>\n",
       "      <td>1.5789</td>\n",
       "      <td>-7.8947</td>\n",
       "      <td>3.6842</td>\n",
       "      <td>7.8947</td>\n",
       "      <td>4.7368</td>\n",
       "      <td>5.7895</td>\n",
       "      <td>-0.5263</td>\n",
       "    </tr>\n",
       "    <tr>\n",
       "      <th>tgt</th>\n",
       "      <td>2.3906</td>\n",
       "      <td>91.0234</td>\n",
       "      <td>22.3791</td>\n",
       "      <td>3.8658</td>\n",
       "      <td>122.5817</td>\n",
       "      <td>22.9962</td>\n",
       "      <td>121.7528</td>\n",
       "      <td>40.6026</td>\n",
       "      <td>62.7696</td>\n",
       "      <td>-1.6137</td>\n",
       "    </tr>\n",
       "  </tbody>\n",
       "</table>\n",
       "</div>"
      ],
      "text/latex": [
       "\\begin{tabular}{lrrrrrrrrrr}\n",
       "\\toprule\n",
       "{} &                    0 &                    1 &                    2 &                    3 &                    4 &                    5 &                    6 &                    7 &                    8 &                    9 \\\\\n",
       "\\midrule\n",
       "ftr &              -1.5789 &              -6.8421 &              -3.6842 &               1.5789 &              -7.8947 &               3.6842 &               7.8947 &               4.7368 &               5.7895 &              -0.5263 \\\\\n",
       "tgt &               2.3906 &              91.0234 &              22.3791 &               3.8658 &             122.5817 &              22.9962 &             121.7528 &              40.6026 &              62.7696 &              -1.6137 \\\\\n",
       "\\bottomrule\n",
       "\\end{tabular}\n"
      ],
      "text/plain": [
       "                       0                    1                    2  \\\n",
       "ftr              -1.5789              -6.8421              -3.6842   \n",
       "tgt               2.3906              91.0234              22.3791   \n",
       "\n",
       "                       3                    4                    5  \\\n",
       "ftr               1.5789              -7.8947               3.6842   \n",
       "tgt               3.8658             122.5817              22.9962   \n",
       "\n",
       "                       6                    7                    8  \\\n",
       "ftr               7.8947               4.7368               5.7895   \n",
       "tgt             121.7528              40.6026              62.7696   \n",
       "\n",
       "                       9  \n",
       "ftr              -0.5263  \n",
       "tgt              -1.6137  "
      ]
     },
     "metadata": {},
     "output_type": "display_data"
    }
   ],
   "source": [
    "N = 20\n",
    "ftr = np.linspace(-10, 10, num=N)                  #ftr vals\n",
    "tgt = 2*ftr**2 -3 + np.random.uniform(-2, 2, N)    #tgt = func(ftr)\n",
    "\n",
    "(train_ftr, test_ftr,\n",
    "train_tgt, test_tgt) = skms.train_test_split(ftr,\n",
    "                                            tgt,\n",
    "                                            test_size=N//2)\n",
    "\n",
    "display(pd.DataFrame({\"ftr\":train_ftr,\n",
    "                     \"tgt\":train_tgt}).T)"
   ]
  },
  {
   "cell_type": "code",
   "execution_count": 4,
   "id": "76e66259",
   "metadata": {},
   "outputs": [
    {
     "data": {
      "image/png": "[encoded data removed]",
      "text/plain": [
       "<Figure size 432x288 with 1 Axes>"
      ]
     },
     "metadata": {
      "needs_background": "light"
     },
     "output_type": "display_data"
    }
   ],
   "source": [
    "plt.plot(train_ftr, train_tgt, 'bo')\n",
    "plt.plot(test_ftr, np.zeros_like(test_ftr), 'r+');"
   ]
  },
  {
   "cell_type": "code",
   "execution_count": 5,
   "id": "978e0582",
   "metadata": {},
   "outputs": [
    {
     "data": {
      "text/plain": [
       "array([53.218 , 41.4552, 56.8374])"
      ]
     },
     "execution_count": 5,
     "metadata": {},
     "output_type": "execute_result"
    }
   ],
   "source": [
    "#note: sklearn *really* wants 2D inputs (a table)\n",
    "#so we use reshape here\n",
    "sk_model = linear_model.LinearRegression()\n",
    "sk_model.fit(train_ftr.reshape(-1,1), train_tgt)\n",
    "sk_preds = sk_model.predict(test_ftr.reshape(-1,1))\n",
    "sk_preds[:3]"
   ]
  },
  {
   "cell_type": "code",
   "execution_count": 6,
   "id": "f896485b",
   "metadata": {},
   "outputs": [
    {
     "name": "stdout",
     "output_type": "stream",
     "text": [
      "[53.218  41.4552 56.8374]\n"
     ]
    }
   ],
   "source": [
    "#fit-predict-evaluate a 1D polynomial (a line)\n",
    "model_one = np.poly1d(np.polyfit(train_ftr, train_tgt, 1))\n",
    "preds_one = model_one(test_ftr)\n",
    "print(preds_one[:3])"
   ]
  },
  {
   "cell_type": "code",
   "execution_count": 7,
   "id": "3d43e9a5",
   "metadata": {},
   "outputs": [
    {
     "name": "stdout",
     "output_type": "stream",
     "text": [
      "all close? True\n",
      "RMSE: 86.69151817350722\n"
     ]
    }
   ],
   "source": [
    "#the predictions come back the same\n",
    "print(\"all close?\", np.allclose(sk_preds, preds_one))\n",
    "\n",
    "#and we can still use sklearn to evaluate it\n",
    "mse = metrics.mean_squared_error\n",
    "print(\"RMSE:\", np.sqrt(mse(test_tgt, preds_one)))"
   ]
  },
  {
   "cell_type": "code",
   "execution_count": 8,
   "id": "3d1ef55a",
   "metadata": {},
   "outputs": [
    {
     "name": "stdout",
     "output_type": "stream",
     "text": [
      "RMSE: 1.2765992188881117\n"
     ]
    }
   ],
   "source": [
    "#fit-predict-evaluate a 2D polynomial (a parabola)\n",
    "model_two = np.poly1d(np.polyfit(train_ftr, train_tgt, 2))\n",
    "preds_two = model_two(test_ftr)\n",
    "print(\"RMSE:\", np.sqrt(mse(test_tgt, preds_two)))"
   ]
  },
  {
   "cell_type": "code",
   "execution_count": 9,
   "id": "df79c3fa",
   "metadata": {},
   "outputs": [
    {
     "name": "stdout",
     "output_type": "stream",
     "text": [
      "RSME: 317.3634424235501\n"
     ]
    }
   ],
   "source": [
    "model_three = np.poly1d(np.polyfit(train_ftr, train_tgt, 9))\n",
    "preds_three = model_three(test_ftr)\n",
    "print(\"RSME:\", np.sqrt(mse(test_tgt, preds_three)))"
   ]
  },
  {
   "cell_type": "markdown",
   "id": "a4574e2c",
   "metadata": {},
   "source": [
    "### 5.3.3 Visualizing Over-Underfitting and \"Just Right\""
   ]
  },
  {
   "cell_type": "code",
   "execution_count": 11,
   "id": "013fe92c",
   "metadata": {},
   "outputs": [
    {
     "data": {
      "image/png": "[encoded data removed]",
      "text/plain": [
       "<Figure size 432x216 with 2 Axes>"
      ]
     },
     "metadata": {
      "needs_background": "light"
     },
     "output_type": "display_data"
    }
   ],
   "source": [
    "fig, axes = plt.subplots(1,2,figsize=(6,3),sharey=True)\n",
    "\n",
    "labels = ['line','parabola','nonic']\n",
    "models = [model_one, model_two, model_three]\n",
    "train = (train_ftr, train_tgt)\n",
    "test = (test_ftr, test_tgt)\n",
    "\n",
    "for ax, (ftr,tgt) in zip(axes, [train, test]):\n",
    "    ax.plot(ftr, tgt, 'k+')\n",
    "    \n",
    "    for m,lbl in zip(models, labels):\n",
    "        ftr = sorted(ftr)\n",
    "        ax.plot(ftr, m(ftr), '-', label=lbl)\n",
    "        \n",
    "axes[1].set_ylim(-20, 200)\n",
    "axes[0].set_title(\"Train\")\n",
    "axes[1].set_title(\"Test\");\n",
    "axes[0].legend(loc='upper center');"
   ]
  },
  {
   "cell_type": "code",
   "execution_count": 12,
   "id": "a8dc03d7",
   "metadata": {},
   "outputs": [
    {
     "data": {
      "text/html": [
       "<div>\n",
       "<style scoped>\n",
       "    .dataframe tbody tr th:only-of-type {\n",
       "        vertical-align: middle;\n",
       "    }\n",
       "\n",
       "    .dataframe tbody tr th {\n",
       "        vertical-align: top;\n",
       "    }\n",
       "\n",
       "    .dataframe thead th {\n",
       "        text-align: right;\n",
       "    }\n",
       "</style>\n",
       "<table border=\"1\" class=\"dataframe\">\n",
       "  <thead>\n",
       "    <tr style=\"text-align: right;\">\n",
       "      <th></th>\n",
       "      <th>Train Error</th>\n",
       "      <th>Test Error</th>\n",
       "    </tr>\n",
       "    <tr>\n",
       "      <th>Complexity</th>\n",
       "      <th></th>\n",
       "      <th></th>\n",
       "    </tr>\n",
       "  </thead>\n",
       "  <tbody>\n",
       "    <tr>\n",
       "      <th>1</th>\n",
       "      <td>45.4951</td>\n",
       "      <td>86.6915</td>\n",
       "    </tr>\n",
       "    <tr>\n",
       "      <th>2</th>\n",
       "      <td>1.0828</td>\n",
       "      <td>1.2766</td>\n",
       "    </tr>\n",
       "    <tr>\n",
       "      <th>6</th>\n",
       "      <td>0.2819</td>\n",
       "      <td>6.1417</td>\n",
       "    </tr>\n",
       "    <tr>\n",
       "      <th>9</th>\n",
       "      <td>0.0000</td>\n",
       "      <td>317.3634</td>\n",
       "    </tr>\n",
       "  </tbody>\n",
       "</table>\n",
       "</div>"
      ],
      "text/latex": [
       "\\begin{tabular}{lrr}\n",
       "\\toprule\n",
       "{} &          Train Error &           Test Error \\\\\n",
       "Complexity &                      &                      \\\\\n",
       "\\midrule\n",
       "1          &              45.4951 &              86.6915 \\\\\n",
       "2          &               1.0828 &               1.2766 \\\\\n",
       "6          &               0.2819 &               6.1417 \\\\\n",
       "9          &               0.0000 &             317.3634 \\\\\n",
       "\\bottomrule\n",
       "\\end{tabular}\n"
      ],
      "text/plain": [
       "                    Train Error           Test Error\n",
       "Complexity                                          \n",
       "1                       45.4951              86.6915\n",
       "2                        1.0828               1.2766\n",
       "6                        0.2819               6.1417\n",
       "9                        0.0000             317.3634"
      ]
     },
     "execution_count": 12,
     "metadata": {},
     "output_type": "execute_result"
    }
   ],
   "source": [
    "results = []\n",
    "\n",
    "for complexity in [1, 2, 6, 9]:\n",
    "    model = np.poly1d(np.polyfit(train_ftr, train_tgt, complexity))\n",
    "    train_error = np.sqrt(mse(train_tgt, model(train_ftr)))\n",
    "    test_error = np.sqrt(mse(test_tgt, model(test_ftr)))\n",
    "    results.append((complexity, train_error, test_error))\n",
    "    \n",
    "columns = [\"Complexity\", \"Train Error\", \"Test Error\"]\n",
    "results_df = pd.DataFrame.from_records(results, \n",
    "                                      columns=columns,\n",
    "                                      index=\"Complexity\")\n",
    "\n",
    "results_df"
   ]
  },
  {
   "cell_type": "code",
   "execution_count": 13,
   "id": "5fbd04c1",
   "metadata": {},
   "outputs": [
    {
     "data": {
      "text/plain": [
       "<AxesSubplot:xlabel='Complexity'>"
      ]
     },
     "execution_count": 13,
     "metadata": {},
     "output_type": "execute_result"
    },
    {
     "data": {
      "image/png": "[encoded data removed]",
      "text/plain": [
       "<Figure size 432x288 with 1 Axes>"
      ]
     },
     "metadata": {
      "needs_background": "light"
     },
     "output_type": "display_data"
    }
   ],
   "source": [
    "results_df.plot()"
   ]
  },
  {
   "cell_type": "code",
   "execution_count": 23,
   "id": "3b8088a8",
   "metadata": {},
   "outputs": [],
   "source": [
    "def training_loss(loss, model, training_data):\n",
    "    ' total training_loss on train_data with model under loss '\n",
    "    return sum(loss(model.predict(x.reshape(1, -1)), y)\n",
    "              for x, y in training_data)\n",
    "\n",
    "def squared_error(prediction, actual):\n",
    "    ' squared error on a single example '\n",
    "    return (prediction - actual)**2\n",
    "\n",
    "#could be used like:\n",
    "#my_training_loss = training_loss(squared_error, model, training_data)"
   ]
  },
  {
   "cell_type": "code",
   "execution_count": 24,
   "id": "eece1704",
   "metadata": {},
   "outputs": [
    {
     "name": "stdout",
     "output_type": "stream",
     "text": [
      "[863792.3333]\n"
     ]
    }
   ],
   "source": [
    "knn = neighbors.KNeighborsRegressor(n_neighbors=3)\n",
    "fit = knn.fit(diabetes.data, diabetes.target)\n",
    "\n",
    "training_data = zip(diabetes.data, diabetes.target)\n",
    "\n",
    "my_training_loss = training_loss(squared_error,\n",
    "                                knn,\n",
    "                                training_data)\n",
    "\n",
    "print(my_training_loss)"
   ]
  },
  {
   "cell_type": "code",
   "execution_count": 27,
   "id": "6a50eda7",
   "metadata": {},
   "outputs": [
    {
     "name": "stdout",
     "output_type": "stream",
     "text": [
      "863792.3333333333\n"
     ]
    }
   ],
   "source": [
    "mse = metrics.mean_squared_error(diabetes.target,\n",
    "                                knn.predict(diabetes.data))\n",
    "\n",
    "print(mse*len(diabetes.data))"
   ]
  },
  {
   "cell_type": "code",
   "execution_count": 28,
   "id": "dbd0a6de",
   "metadata": {},
   "outputs": [],
   "source": [
    "def complexity(model):\n",
    "    return model.complexity\n",
    "\n",
    "def cost(model, training_data, loss, _lambda):\n",
    "    return training_loss(m,D) + _lambda * complexity(m)"
   ]
  },
  {
   "cell_type": "code",
   "execution_count": 29,
   "id": "160a5b12",
   "metadata": {},
   "outputs": [
    {
     "data": {
      "text/plain": [
       "array([-3206.7542, -3426.4313, -3587.9422, -3039.4944, -3282.6016])"
      ]
     },
     "execution_count": 29,
     "metadata": {},
     "output_type": "execute_result"
    }
   ],
   "source": [
    "#data, model, fit & cv-score\n",
    "model = neighbors.KNeighborsRegressor(10)\n",
    "skms.cross_val_score(model,\n",
    "                    diabetes.data,\n",
    "                    diabetes.target,\n",
    "                    cv=5,\n",
    "                    scoring='neg_mean_squared_error')\n",
    "\n",
    "#notes\n",
    "#defaults for cross_val_score are\n",
    "#cv=3 fold, no shuffle, stratified if classifier\n",
    "#model.score by default (regressors: r2, classifiers: accuracy)"
   ]
  },
  {
   "cell_type": "markdown",
   "id": "af23dd15",
   "metadata": {},
   "source": [
    "### 5.5.2 Stratification"
   ]
  },
  {
   "cell_type": "code",
   "execution_count": 30,
   "id": "6591af0e",
   "metadata": {},
   "outputs": [
    {
     "data": {
      "text/plain": [
       "array([0.9667, 1.    , 1.    , 0.9333, 1.    ])"
      ]
     },
     "execution_count": 30,
     "metadata": {},
     "output_type": "execute_result"
    }
   ],
   "source": [
    "iris = datasets.load_iris()\n",
    "model = neighbors.KNeighborsClassifier(10)\n",
    "skms.cross_val_score(model, iris.data, iris.target, cv=5)"
   ]
  },
  {
   "cell_type": "code",
   "execution_count": 31,
   "id": "94791ec0",
   "metadata": {},
   "outputs": [
    {
     "name": "stdout",
     "output_type": "stream",
     "text": [
      "[['doge' 'doge' 'doge']\n",
      " ['catto' 'doge' 'catto']]\n"
     ]
    }
   ],
   "source": [
    "#not stratified\n",
    "pet = np.array(['catto', 'doge', 'catto',\n",
    "               'doge', 'doge', 'doge'])\n",
    "list_folds = list(skms.KFold(2).split(pet))\n",
    "training_idxs = np.array(list_folds)[:, 0, :]\n",
    "\n",
    "print(pet[training_idxs])"
   ]
  },
  {
   "cell_type": "code",
   "execution_count": 32,
   "id": "127e327e",
   "metadata": {},
   "outputs": [
    {
     "name": "stdout",
     "output_type": "stream",
     "text": [
      "[['catto' 'doge' 'doge']\n",
      " ['catto' 'doge' 'doge']]\n"
     ]
    }
   ],
   "source": [
    "#stratified\n",
    "#typically behind the scenes\n",
    "#making StratifiedKFold produce readable output\n",
    "#is tricky\n",
    "pet = np.array(['catto', 'doge', 'catto',\n",
    "               'doge', 'doge', 'doge'])\n",
    "\n",
    "idxs = np.array(list(skms.StratifiedKFold(2)\n",
    "                    .split(np.ones_like(pet), pet)))\n",
    "\n",
    "training_idxs = idxs[:, 0, :]\n",
    "print(pet[training_idxs])"
   ]
  },
  {
   "cell_type": "code",
   "execution_count": 33,
   "id": "52cc9c92",
   "metadata": {},
   "outputs": [
    {
     "data": {
      "text/plain": [
       "array([1.    , 1.    , 0.8667, 0.9667, 0.7667])"
      ]
     },
     "execution_count": 33,
     "metadata": {},
     "output_type": "execute_result"
    }
   ],
   "source": [
    "#running nonstratified CV\n",
    "iris = datasets.load_iris()\n",
    "model = neighbors.KNeighborsClassifier(10)\n",
    "non_strat_kf = skms.KFold(5)\n",
    "skms.cross_val_score(model, iris.data,\n",
    "                    iris.target,\n",
    "                    cv=non_strat_kf)"
   ]
  },
  {
   "cell_type": "markdown",
   "id": "69837a56",
   "metadata": {},
   "source": [
    "### 5.5.3 Repeated Train-Test Splits"
   ]
  },
  {
   "cell_type": "code",
   "execution_count": 34,
   "id": "5b2f2a01",
   "metadata": {},
   "outputs": [
    {
     "data": {
      "text/html": [
       "<div>\n",
       "<style scoped>\n",
       "    .dataframe tbody tr th:only-of-type {\n",
       "        vertical-align: middle;\n",
       "    }\n",
       "\n",
       "    .dataframe tbody tr th {\n",
       "        vertical-align: top;\n",
       "    }\n",
       "\n",
       "    .dataframe thead th {\n",
       "        text-align: right;\n",
       "    }\n",
       "</style>\n",
       "<table border=\"1\" class=\"dataframe\">\n",
       "  <thead>\n",
       "    <tr style=\"text-align: right;\">\n",
       "      <th>Repeat</th>\n",
       "      <th>0</th>\n",
       "      <th>1</th>\n",
       "      <th>2</th>\n",
       "      <th>3</th>\n",
       "      <th>4</th>\n",
       "      <th>5</th>\n",
       "      <th>6</th>\n",
       "      <th>7</th>\n",
       "      <th>8</th>\n",
       "      <th>9</th>\n",
       "    </tr>\n",
       "  </thead>\n",
       "  <tbody>\n",
       "    <tr>\n",
       "      <th>RMSE</th>\n",
       "      <td>49.0032</td>\n",
       "      <td>50.1912</td>\n",
       "      <td>51.9735</td>\n",
       "      <td>52.0722</td>\n",
       "      <td>53.2005</td>\n",
       "      <td>55.7008</td>\n",
       "      <td>56.2542</td>\n",
       "      <td>57.4917</td>\n",
       "      <td>58.6379</td>\n",
       "      <td>58.6942</td>\n",
       "    </tr>\n",
       "  </tbody>\n",
       "</table>\n",
       "</div>"
      ],
      "text/latex": [
       "\\begin{tabular}{lrrrrrrrrrr}\n",
       "\\toprule\n",
       "Repeat &                    0 &                    1 &                    2 &                    3 &                    4 &                    5 &                    6 &                    7 &                    8 &                    9 \\\\\n",
       "\\midrule\n",
       "RMSE &              49.0032 &              50.1912 &              51.9735 &              52.0722 &              53.2005 &              55.7008 &              56.2542 &              57.4917 &              58.6379 &              58.6942 \\\\\n",
       "\\bottomrule\n",
       "\\end{tabular}\n"
      ],
      "text/plain": [
       "Repeat                    0                    1                    2  \\\n",
       "RMSE                49.0032              50.1912              51.9735   \n",
       "\n",
       "Repeat                    3                    4                    5  \\\n",
       "RMSE                52.0722              53.2005              55.7008   \n",
       "\n",
       "Repeat                    6                    7                    8  \\\n",
       "RMSE                56.2542              57.4917              58.6379   \n",
       "\n",
       "Repeat                    9  \n",
       "RMSE                58.6942  "
      ]
     },
     "metadata": {},
     "output_type": "display_data"
    }
   ],
   "source": [
    "linreg = linear_model.LinearRegression()\n",
    "diabetes = datasets.load_diabetes()\n",
    "\n",
    "scores = []\n",
    "\n",
    "for r in range(10):\n",
    "    tts = skms.train_test_split(diabetes.data,\n",
    "                               diabetes.target,\n",
    "                               test_size=.25)\n",
    "    \n",
    "    (diabetes_train_ftrs, diabetes_test_ftrs,\n",
    "    diabetes_train_tgt, diabetes_test_tgt) = tts\n",
    "    \n",
    "    fit = linreg.fit(diabetes_train_ftrs, diabetes_train_tgt)\n",
    "    preds = fit.predict(diabetes_test_ftrs)\n",
    "    \n",
    "    score = metrics.mean_squared_error(diabetes_test_tgt, preds)\n",
    "    scores.append(score)\n",
    "    \n",
    "scores = pd.Series(np.sqrt(sorted(scores)))\n",
    "df = pd.DataFrame({\"RMSE\":scores})\n",
    "df.index.name = 'Repeat'\n",
    "display(df.T)"
   ]
  },
  {
   "cell_type": "code",
   "execution_count": 35,
   "id": "278f82c3",
   "metadata": {},
   "outputs": [
    {
     "data": {
      "image/png": "[encoded data removed]",
      "text/plain": [
       "<Figure size 288x216 with 1 Axes>"
      ]
     },
     "metadata": {
      "needs_background": "light"
     },
     "output_type": "display_data"
    }
   ],
   "source": [
    "ax = plt.figure(figsize=(4,3)).gca()\n",
    "sns.swarmplot(y='RMSE', data=df, ax=ax)\n",
    "ax.set_xlabel('Over Reapeated\\nTrain-Test Splits');"
   ]
  },
  {
   "cell_type": "code",
   "execution_count": 36,
   "id": "0ea78621",
   "metadata": {},
   "outputs": [
    {
     "data": {
      "text/html": [
       "<div>\n",
       "<style scoped>\n",
       "    .dataframe tbody tr th:only-of-type {\n",
       "        vertical-align: middle;\n",
       "    }\n",
       "\n",
       "    .dataframe tbody tr th {\n",
       "        vertical-align: top;\n",
       "    }\n",
       "\n",
       "    .dataframe thead th {\n",
       "        text-align: right;\n",
       "    }\n",
       "</style>\n",
       "<table border=\"1\" class=\"dataframe\">\n",
       "  <thead>\n",
       "    <tr style=\"text-align: right;\">\n",
       "      <th></th>\n",
       "      <th>count</th>\n",
       "      <th>mean</th>\n",
       "      <th>std</th>\n",
       "      <th>min</th>\n",
       "      <th>25%</th>\n",
       "      <th>50%</th>\n",
       "      <th>75%</th>\n",
       "      <th>max</th>\n",
       "    </tr>\n",
       "  </thead>\n",
       "  <tbody>\n",
       "    <tr>\n",
       "      <th>RMSE</th>\n",
       "      <td>10.0000</td>\n",
       "      <td>54.3219</td>\n",
       "      <td>3.5058</td>\n",
       "      <td>49.0032</td>\n",
       "      <td>51.9982</td>\n",
       "      <td>54.4507</td>\n",
       "      <td>57.1823</td>\n",
       "      <td>58.6942</td>\n",
       "    </tr>\n",
       "  </tbody>\n",
       "</table>\n",
       "</div>"
      ],
      "text/latex": [
       "\\begin{tabular}{lrrrrrrrr}\n",
       "\\toprule\n",
       "{} &                count &                 mean &                  std &                  min &                  25\\% &                  50\\% &                  75\\% &                  max \\\\\n",
       "\\midrule\n",
       "RMSE &              10.0000 &              54.3219 &               3.5058 &              49.0032 &              51.9982 &              54.4507 &              57.1823 &              58.6942 \\\\\n",
       "\\bottomrule\n",
       "\\end{tabular}\n"
      ],
      "text/plain": [
       "                    count                 mean                  std  \\\n",
       "RMSE              10.0000              54.3219               3.5058   \n",
       "\n",
       "                      min                  25%                  50%  \\\n",
       "RMSE              49.0032              51.9982              54.4507   \n",
       "\n",
       "                      75%                  max  \n",
       "RMSE              57.1823              58.6942  "
      ]
     },
     "metadata": {},
     "output_type": "display_data"
    }
   ],
   "source": [
    "display(df.describe().T)"
   ]
  },
  {
   "cell_type": "code",
   "execution_count": 37,
   "id": "37cc91ce",
   "metadata": {},
   "outputs": [
    {
     "name": "stdout",
     "output_type": "stream",
     "text": [
      "3052.540273057884\n"
     ]
    }
   ],
   "source": [
    "def tts_fit_score(model, data, msr, test_size=.25):\n",
    "    ' apply a train-test split to fit model on data and eval with MSR '\n",
    "    tts = skms.train_test_split(data.data,\n",
    "                               data.target,\n",
    "                               test_size=test_size)\n",
    "    \n",
    "    (train_ftrs, test_ftrs, train_tgt, test_tgt) = tts\n",
    "    \n",
    "    fit = linreg.fit(train_ftrs, train_tgt)\n",
    "    preds = fit.predict(test_ftrs)\n",
    "    \n",
    "    score = msr(test_tgt, preds)\n",
    "    return score\n",
    "\n",
    "linreg = linear_model.LinearRegression()\n",
    "diabetes = datasets.load_diabetes()\n",
    "scores = [tts_fit_score(linreg, diabetes,\n",
    "                       metrics.mean_squared_error) for i in range(10)]\n",
    "\n",
    "print(np.mean(scores))"
   ]
  },
  {
   "cell_type": "markdown",
   "id": "48532ba7",
   "metadata": {},
   "source": [
    "### 5.5.4 Shuffling"
   ]
  },
  {
   "cell_type": "code",
   "execution_count": 38,
   "id": "f46aede5",
   "metadata": {},
   "outputs": [
    {
     "data": {
      "text/html": [
       "<div>\n",
       "<style scoped>\n",
       "    .dataframe tbody tr th:only-of-type {\n",
       "        vertical-align: middle;\n",
       "    }\n",
       "\n",
       "    .dataframe tbody tr th {\n",
       "        vertical-align: top;\n",
       "    }\n",
       "\n",
       "    .dataframe thead th {\n",
       "        text-align: right;\n",
       "    }\n",
       "</style>\n",
       "<table border=\"1\" class=\"dataframe\">\n",
       "  <thead>\n",
       "    <tr style=\"text-align: right;\">\n",
       "      <th></th>\n",
       "      <th>count</th>\n",
       "      <th>mean</th>\n",
       "      <th>std</th>\n",
       "      <th>min</th>\n",
       "      <th>25%</th>\n",
       "      <th>50%</th>\n",
       "      <th>75%</th>\n",
       "      <th>max</th>\n",
       "    </tr>\n",
       "  </thead>\n",
       "  <tbody>\n",
       "    <tr>\n",
       "      <th>RMSE</th>\n",
       "      <td>10.0000</td>\n",
       "      <td>55.4388</td>\n",
       "      <td>3.5870</td>\n",
       "      <td>50.1900</td>\n",
       "      <td>52.9660</td>\n",
       "      <td>55.3967</td>\n",
       "      <td>58.3911</td>\n",
       "      <td>60.5432</td>\n",
       "    </tr>\n",
       "  </tbody>\n",
       "</table>\n",
       "</div>"
      ],
      "text/latex": [
       "\\begin{tabular}{lrrrrrrrr}\n",
       "\\toprule\n",
       "{} &                count &                 mean &                  std &                  min &                  25\\% &                  50\\% &                  75\\% &                  max \\\\\n",
       "\\midrule\n",
       "RMSE &              10.0000 &              55.4388 &               3.5870 &              50.1900 &              52.9660 &              55.3967 &              58.3911 &              60.5432 \\\\\n",
       "\\bottomrule\n",
       "\\end{tabular}\n"
      ],
      "text/plain": [
       "                    count                 mean                  std  \\\n",
       "RMSE              10.0000              55.4388               3.5870   \n",
       "\n",
       "                      min                  25%                  50%  \\\n",
       "RMSE              50.1900              52.9660              55.3967   \n",
       "\n",
       "                      75%                  max  \n",
       "RMSE              58.3911              60.5432  "
      ]
     },
     "metadata": {},
     "output_type": "display_data"
    },
    {
     "data": {
      "image/png": "[encoded data removed]",
      "text/plain": [
       "<Figure size 432x288 with 1 Axes>"
      ]
     },
     "metadata": {
      "needs_background": "light"
     },
     "output_type": "display_data"
    }
   ],
   "source": [
    "linreg = linear_model.LinearRegression()\n",
    "diabetes = datasets.load_diabetes()\n",
    "\n",
    "#nondefault cv= argument\n",
    "ss = skms.ShuffleSplit(test_size=.25) # default, 10 splits\n",
    "scores = skms.cross_val_score(linreg, diabetes.data, diabetes.target,\n",
    "                             cv=ss,\n",
    "                             scoring='neg_mean_squared_error')\n",
    "\n",
    "scores = pd.Series(np.sqrt(-scores))\n",
    "df = pd.DataFrame({'RMSE':scores})\n",
    "df.index.name = 'Repeat'\n",
    "\n",
    "display(df.describe().T)\n",
    "\n",
    "ax = sns.swarmplot(y='RMSE', data=df)\n",
    "ax.set_xlabel('Over Repeated\\nTrain-Test Splits');"
   ]
  },
  {
   "cell_type": "code",
   "execution_count": 39,
   "id": "bf609d26",
   "metadata": {},
   "outputs": [
    {
     "data": {
      "text/plain": [
       "array([ 16, 408, 432, 316,   3,  18, 355,  60, 398, 124])"
      ]
     },
     "execution_count": 39,
     "metadata": {},
     "output_type": "execute_result"
    }
   ],
   "source": [
    "ss = skms.ShuffleSplit(test_size=.25, random_state=42)\n",
    "\n",
    "train, test = 0, 1\n",
    "next(ss.split(diabetes.data))[train][:10]"
   ]
  },
  {
   "cell_type": "code",
   "execution_count": 43,
   "id": "f39a81cc",
   "metadata": {},
   "outputs": [
    {
     "data": {
      "text/plain": [
       "array([ 41, 348, 313,  70,  87, 369, 379, 119, 363, 286])"
      ]
     },
     "execution_count": 43,
     "metadata": {},
     "output_type": "execute_result"
    }
   ],
   "source": [
    "ss = skms.ShuffleSplit(test_size=.25, random_state=55)\n",
    "next(ss.split(diabetes.data))[train][:10]"
   ]
  },
  {
   "cell_type": "code",
   "execution_count": 44,
   "id": "bec3362b",
   "metadata": {},
   "outputs": [
    {
     "data": {
      "text/plain": [
       "array([89, 90, 91, 92, 93, 94, 95, 96, 97, 98])"
      ]
     },
     "execution_count": 44,
     "metadata": {},
     "output_type": "execute_result"
    }
   ],
   "source": [
    "train, test = 0, 1\n",
    "kf = skms.KFold(5)\n",
    "next(kf.split(diabetes.data))[train][:10]"
   ]
  },
  {
   "cell_type": "code",
   "execution_count": 45,
   "id": "62f19947",
   "metadata": {},
   "outputs": [
    {
     "data": {
      "text/plain": [
       "array([89, 90, 91, 92, 93, 94, 95, 96, 97, 98])"
      ]
     },
     "execution_count": 45,
     "metadata": {},
     "output_type": "execute_result"
    }
   ],
   "source": [
    "kf = skms.KFold(5)\n",
    "next(kf.split(diabetes.data))[train][:10]"
   ]
  },
  {
   "cell_type": "code",
   "execution_count": 46,
   "id": "d6b8279d",
   "metadata": {},
   "outputs": [
    {
     "data": {
      "text/plain": [
       "array(['catto', 'doge', 'catto', 'doge', 'doge', 'doge'], dtype='<U5')"
      ]
     },
     "execution_count": 46,
     "metadata": {},
     "output_type": "execute_result"
    }
   ],
   "source": [
    "pet"
   ]
  },
  {
   "cell_type": "code",
   "execution_count": 47,
   "id": "2b989736",
   "metadata": {},
   "outputs": [
    {
     "name": "stdout",
     "output_type": "stream",
     "text": [
      "[0 1 4 5] [0 1 3 5]\n"
     ]
    }
   ],
   "source": [
    "kf = skms.KFold(3, shuffle=True)\n",
    "\n",
    "train, test = 0, 1\n",
    "split_1_group_1 = next(kf.split(pet))[train]\n",
    "split_2_group_1 = next(kf.split(pet))[train]\n",
    "\n",
    "print(split_1_group_1,\n",
    "     split_2_group_1)"
   ]
  },
  {
   "cell_type": "code",
   "execution_count": 48,
   "id": "006f8473",
   "metadata": {},
   "outputs": [
    {
     "name": "stdout",
     "output_type": "stream",
     "text": [
      "[2 3 4 5] [2 3 4 5]\n"
     ]
    }
   ],
   "source": [
    "kf = skms.KFold(3, shuffle=True, random_state=42)\n",
    "\n",
    "train, test = 0, 1\n",
    "split_1_group_1 = next(kf.split(pet))[train]\n",
    "split_2_group_1 = next(kf.split(pet))[train]\n",
    "\n",
    "print(split_1_group_1,\n",
    "     split_2_group_1)"
   ]
  },
  {
   "cell_type": "markdown",
   "id": "4251df95",
   "metadata": {},
   "source": [
    "### 5.5.5 Leave-One-Out Cross-Validation"
   ]
  },
  {
   "cell_type": "code",
   "execution_count": 49,
   "id": "ddf7babb",
   "metadata": {},
   "outputs": [
    {
     "data": {
      "text/html": [
       "<div>\n",
       "<style scoped>\n",
       "    .dataframe tbody tr th:only-of-type {\n",
       "        vertical-align: middle;\n",
       "    }\n",
       "\n",
       "    .dataframe tbody tr th {\n",
       "        vertical-align: top;\n",
       "    }\n",
       "\n",
       "    .dataframe thead th {\n",
       "        text-align: right;\n",
       "    }\n",
       "</style>\n",
       "<table border=\"1\" class=\"dataframe\">\n",
       "  <thead>\n",
       "    <tr style=\"text-align: right;\">\n",
       "      <th></th>\n",
       "      <th>count</th>\n",
       "      <th>mean</th>\n",
       "      <th>std</th>\n",
       "      <th>min</th>\n",
       "      <th>25%</th>\n",
       "      <th>50%</th>\n",
       "      <th>75%</th>\n",
       "      <th>max</th>\n",
       "    </tr>\n",
       "  </thead>\n",
       "  <tbody>\n",
       "    <tr>\n",
       "      <th>RMSE</th>\n",
       "      <td>442.0000</td>\n",
       "      <td>44.3557</td>\n",
       "      <td>32.1973</td>\n",
       "      <td>0.2075</td>\n",
       "      <td>18.4820</td>\n",
       "      <td>39.5472</td>\n",
       "      <td>63.9738</td>\n",
       "      <td>158.2355</td>\n",
       "    </tr>\n",
       "  </tbody>\n",
       "</table>\n",
       "</div>"
      ],
      "text/latex": [
       "\\begin{tabular}{lrrrrrrrr}\n",
       "\\toprule\n",
       "{} &                count &                 mean &                  std &                  min &                  25\\% &                  50\\% &                  75\\% &                  max \\\\\n",
       "\\midrule\n",
       "RMSE &             442.0000 &              44.3557 &              32.1973 &               0.2075 &              18.4820 &              39.5472 &              63.9738 &             158.2355 \\\\\n",
       "\\bottomrule\n",
       "\\end{tabular}\n"
      ],
      "text/plain": [
       "                    count                 mean                  std  \\\n",
       "RMSE             442.0000              44.3557              32.1973   \n",
       "\n",
       "                      min                  25%                  50%  \\\n",
       "RMSE               0.2075              18.4820              39.5472   \n",
       "\n",
       "                      75%                  max  \n",
       "RMSE              63.9738             158.2355  "
      ]
     },
     "metadata": {},
     "output_type": "display_data"
    },
    {
     "data": {
      "image/png": "[encoded data removed]",
      "text/plain": [
       "<Figure size 432x288 with 1 Axes>"
      ]
     },
     "metadata": {
      "needs_background": "light"
     },
     "output_type": "display_data"
    }
   ],
   "source": [
    "loo = skms.LeaveOneOut()\n",
    "scores = skms.cross_val_score(linreg,\n",
    "                             diabetes.data, diabetes.target,\n",
    "                             cv=loo,\n",
    "                             scoring='neg_mean_squared_error')\n",
    "\n",
    "scores = pd.Series(np.sqrt(-scores))\n",
    "df = pd.DataFrame({'RMSE':scores})\n",
    "df.index.name = 'Repeat'\n",
    "\n",
    "display(df.describe().T)\n",
    "\n",
    "ax = sns.swarmplot(y='RMSE', data=df)\n",
    "ax.set_xlabel('Over LOO\\nTrain-Test Splits');"
   ]
  },
  {
   "cell_type": "markdown",
   "id": "4abe36f8",
   "metadata": {},
   "source": [
    "### 5.7.1 Learning Curves"
   ]
  },
  {
   "cell_type": "code",
   "execution_count": 11,
   "id": "c2811fd5",
   "metadata": {},
   "outputs": [
    {
     "data": {
      "text/html": [
       "<div>\n",
       "<style scoped>\n",
       "    .dataframe tbody tr th:only-of-type {\n",
       "        vertical-align: middle;\n",
       "    }\n",
       "\n",
       "    .dataframe tbody tr th {\n",
       "        vertical-align: top;\n",
       "    }\n",
       "\n",
       "    .dataframe thead th {\n",
       "        text-align: right;\n",
       "    }\n",
       "</style>\n",
       "<table border=\"1\" class=\"dataframe\">\n",
       "  <thead>\n",
       "    <tr style=\"text-align: right;\">\n",
       "      <th></th>\n",
       "      <th>0</th>\n",
       "      <th>1</th>\n",
       "      <th>2</th>\n",
       "      <th>3</th>\n",
       "      <th>4</th>\n",
       "      <th>Mean 5-CV</th>\n",
       "    </tr>\n",
       "    <tr>\n",
       "      <th>% Data Used</th>\n",
       "      <th></th>\n",
       "      <th></th>\n",
       "      <th></th>\n",
       "      <th></th>\n",
       "      <th></th>\n",
       "      <th></th>\n",
       "    </tr>\n",
       "  </thead>\n",
       "  <tbody>\n",
       "    <tr>\n",
       "      <th>10</th>\n",
       "      <td>0.3333</td>\n",
       "      <td>0.3333</td>\n",
       "      <td>0.3333</td>\n",
       "      <td>0.3333</td>\n",
       "      <td>0.3333</td>\n",
       "      <td>0.3333</td>\n",
       "    </tr>\n",
       "    <tr>\n",
       "      <th>20</th>\n",
       "      <td>0.3333</td>\n",
       "      <td>0.3333</td>\n",
       "      <td>0.3333</td>\n",
       "      <td>0.3333</td>\n",
       "      <td>0.3333</td>\n",
       "      <td>0.3333</td>\n",
       "    </tr>\n",
       "    <tr>\n",
       "      <th>30</th>\n",
       "      <td>0.3333</td>\n",
       "      <td>0.3333</td>\n",
       "      <td>0.3333</td>\n",
       "      <td>0.3333</td>\n",
       "      <td>0.3333</td>\n",
       "      <td>0.3333</td>\n",
       "    </tr>\n",
       "    <tr>\n",
       "      <th>40</th>\n",
       "      <td>0.6667</td>\n",
       "      <td>0.6667</td>\n",
       "      <td>0.6667</td>\n",
       "      <td>0.6667</td>\n",
       "      <td>0.6667</td>\n",
       "      <td>0.6667</td>\n",
       "    </tr>\n",
       "    <tr>\n",
       "      <th>50</th>\n",
       "      <td>0.6667</td>\n",
       "      <td>0.6667</td>\n",
       "      <td>0.6667</td>\n",
       "      <td>0.6667</td>\n",
       "      <td>0.6667</td>\n",
       "      <td>0.6667</td>\n",
       "    </tr>\n",
       "    <tr>\n",
       "      <th>60</th>\n",
       "      <td>0.6667</td>\n",
       "      <td>0.6667</td>\n",
       "      <td>0.6667</td>\n",
       "      <td>0.6667</td>\n",
       "      <td>0.6667</td>\n",
       "      <td>0.6667</td>\n",
       "    </tr>\n",
       "    <tr>\n",
       "      <th>70</th>\n",
       "      <td>0.9000</td>\n",
       "      <td>0.8000</td>\n",
       "      <td>0.8333</td>\n",
       "      <td>0.8667</td>\n",
       "      <td>0.8000</td>\n",
       "      <td>0.8400</td>\n",
       "    </tr>\n",
       "    <tr>\n",
       "      <th>80</th>\n",
       "      <td>0.9667</td>\n",
       "      <td>0.9333</td>\n",
       "      <td>0.9000</td>\n",
       "      <td>0.9000</td>\n",
       "      <td>0.9667</td>\n",
       "      <td>0.9333</td>\n",
       "    </tr>\n",
       "    <tr>\n",
       "      <th>90</th>\n",
       "      <td>0.9667</td>\n",
       "      <td>1.0000</td>\n",
       "      <td>0.9000</td>\n",
       "      <td>0.9667</td>\n",
       "      <td>1.0000</td>\n",
       "      <td>0.9667</td>\n",
       "    </tr>\n",
       "    <tr>\n",
       "      <th>100</th>\n",
       "      <td>0.9667</td>\n",
       "      <td>1.0000</td>\n",
       "      <td>0.9333</td>\n",
       "      <td>0.9667</td>\n",
       "      <td>1.0000</td>\n",
       "      <td>0.9733</td>\n",
       "    </tr>\n",
       "  </tbody>\n",
       "</table>\n",
       "</div>"
      ],
      "text/latex": [
       "\\begin{tabular}{lrrrrrr}\n",
       "\\toprule\n",
       "{} &                    0 &                    1 &                    2 &                    3 &                    4 &            Mean 5-CV \\\\\n",
       "\\% Data Used &                      &                      &                      &                      &                      &                      \\\\\n",
       "\\midrule\n",
       "10          &               0.3333 &               0.3333 &               0.3333 &               0.3333 &               0.3333 &               0.3333 \\\\\n",
       "20          &               0.3333 &               0.3333 &               0.3333 &               0.3333 &               0.3333 &               0.3333 \\\\\n",
       "30          &               0.3333 &               0.3333 &               0.3333 &               0.3333 &               0.3333 &               0.3333 \\\\\n",
       "40          &               0.6667 &               0.6667 &               0.6667 &               0.6667 &               0.6667 &               0.6667 \\\\\n",
       "50          &               0.6667 &               0.6667 &               0.6667 &               0.6667 &               0.6667 &               0.6667 \\\\\n",
       "60          &               0.6667 &               0.6667 &               0.6667 &               0.6667 &               0.6667 &               0.6667 \\\\\n",
       "70          &               0.9000 &               0.8000 &               0.8333 &               0.8667 &               0.8000 &               0.8400 \\\\\n",
       "80          &               0.9667 &               0.9333 &               0.9000 &               0.9000 &               0.9667 &               0.9333 \\\\\n",
       "90          &               0.9667 &               1.0000 &               0.9000 &               0.9667 &               1.0000 &               0.9667 \\\\\n",
       "100         &               0.9667 &               1.0000 &               0.9333 &               0.9667 &               1.0000 &               0.9733 \\\\\n",
       "\\bottomrule\n",
       "\\end{tabular}\n"
      ],
      "text/plain": [
       "                               0                    1                    2  \\\n",
       "% Data Used                                                                  \n",
       "10                        0.3333               0.3333               0.3333   \n",
       "20                        0.3333               0.3333               0.3333   \n",
       "30                        0.3333               0.3333               0.3333   \n",
       "40                        0.6667               0.6667               0.6667   \n",
       "50                        0.6667               0.6667               0.6667   \n",
       "60                        0.6667               0.6667               0.6667   \n",
       "70                        0.9000               0.8000               0.8333   \n",
       "80                        0.9667               0.9333               0.9000   \n",
       "90                        0.9667               1.0000               0.9000   \n",
       "100                       0.9667               1.0000               0.9333   \n",
       "\n",
       "                               3                    4            Mean 5-CV  \n",
       "% Data Used                                                                 \n",
       "10                        0.3333               0.3333               0.3333  \n",
       "20                        0.3333               0.3333               0.3333  \n",
       "30                        0.3333               0.3333               0.3333  \n",
       "40                        0.6667               0.6667               0.6667  \n",
       "50                        0.6667               0.6667               0.6667  \n",
       "60                        0.6667               0.6667               0.6667  \n",
       "70                        0.8667               0.8000               0.8400  \n",
       "80                        0.9000               0.9667               0.9333  \n",
       "90                        0.9667               1.0000               0.9667  \n",
       "100                       0.9667               1.0000               0.9733  "
      ]
     },
     "metadata": {},
     "output_type": "display_data"
    }
   ],
   "source": [
    "iris = datasets.load_iris()\n",
    "\n",
    "#10 data set sizes: 10% - 100%\n",
    "#(that much data is piped to a 5-fold cross-validation)\n",
    "\n",
    "train_sizes = np.linspace(.1, 1.0, 10)\n",
    "nn = neighbors.KNeighborsClassifier()\n",
    "\n",
    "(train_N,\n",
    "train_scores,\n",
    "test_scores) = skms.learning_curve(nn, iris.data, iris.target,\n",
    "                                  cv=5, train_sizes=train_sizes)\n",
    "\n",
    "#collapse across the 5 CV scores: one result for each data set size\n",
    "df = pd.DataFrame(test_scores, index=(train_sizes*100).astype(np.int))\n",
    "df['Mean 5-CV'] = df.mean(axis='columns')\n",
    "df.index.name = '% Data Used'\n",
    "\n",
    "display(df)\n"
   ]
  },
  {
   "cell_type": "code",
   "execution_count": 15,
   "id": "c81e8028",
   "metadata": {},
   "outputs": [
    {
     "name": "stdout",
     "output_type": "stream",
     "text": [
      "10\n",
      "10\n",
      "10\n"
     ]
    }
   ],
   "source": [
    "print(len(train_sizes))\n",
    "print(len(train_scores))\n",
    "print(len(test_scores))"
   ]
  },
  {
   "cell_type": "code",
   "execution_count": 13,
   "id": "6a474da8",
   "metadata": {},
   "outputs": [
    {
     "data": {
      "text/plain": [
       "5"
      ]
     },
     "execution_count": 13,
     "metadata": {},
     "output_type": "execute_result"
    }
   ],
   "source": [
    "joined = np.array([train_scores, test_scores]).transpose()\n",
    "len(joined)"
   ]
  },
  {
   "cell_type": "code",
   "execution_count": 14,
   "id": "a3c909cb",
   "metadata": {},
   "outputs": [
    {
     "data": {
      "image/png": "[encoded data removed]",
      "text/plain": [
       "<Figure size 432x288 with 1 Axes>"
      ]
     },
     "metadata": {
      "needs_background": "light"
     },
     "output_type": "display_data"
    }
   ],
   "source": [
    "#tsplot (deprecated) expects array data to have these dimensions\n",
    "# (repeats, times, conditions)\n",
    "#for us these translate to:\n",
    "# (CV scores, percents, train/test)\n",
    "\n",
    "joined = np.array([train_scores, test_scores]).transpose()\n",
    "\n",
    "ax = sns.tsplot(joined,\n",
    "               time=train_sizes,\n",
    "               condition=['Train', 'Test'],\n",
    "               interpolate=False)\n",
    "\n",
    "\n",
    "ax.set_title(\"Learning Curve for 5-NN Classifier\")\n",
    "ax.set_xlabel(\"Number of Samples used for Training\")\n",
    "ax.set_ylabel(\"Accuracy\");"
   ]
  },
  {
   "cell_type": "markdown",
   "id": "1c993871",
   "metadata": {},
   "source": [
    "### 5.7.2 Complexity Curves"
   ]
  },
  {
   "cell_type": "code",
   "execution_count": 17,
   "id": "22e815c7",
   "metadata": {},
   "outputs": [
    {
     "data": {
      "image/png": "[encoded data removed]",
      "text/plain": [
       "<Figure size 432x288 with 1 Axes>"
      ]
     },
     "metadata": {
      "needs_background": "light"
     },
     "output_type": "display_data"
    }
   ],
   "source": [
    "num_neigh = [1, 3, 5, 10, 15, 20]\n",
    "KNC = neighbors.KNeighborsClassifier\n",
    "tt = skms.validation_curve(KNC(),\n",
    "                          iris.data, iris.target,\n",
    "                          param_name='n_neighbors',\n",
    "                          param_range=num_neigh,\n",
    "                          cv=5)\n",
    "\n",
    "#stack and transpose trick (as above)\n",
    "ax = sns.tsplot(np.array(tt).transpose(),\n",
    "               time=num_neigh,\n",
    "               condition=['Train', 'Test'],\n",
    "               interpolate=False)\n",
    "\n",
    "ax.set_title('5-fold CV Performance for k-NN')\n",
    "ax.set_xlabel(\"\\n\".join(['k for k-NN',\n",
    "                        'lower k, more complex',\n",
    "                        'higher k, less complex']))\n",
    "ax.set_ylim(.9,1.01)\n",
    "ax.set_ylabel('Accuracy');"
   ]
  },
  {
   "cell_type": "markdown",
   "id": "508b3e69",
   "metadata": {},
   "source": [
    "### 5.8 Comparing Learners with Cross-Validation"
   ]
  },
  {
   "cell_type": "code",
   "execution_count": 19,
   "id": "a355a288",
   "metadata": {},
   "outputs": [
    {
     "data": {
      "image/png": "[encoded data removed]",
      "text/plain": [
       "<Figure size 432x288 with 1 Axes>"
      ]
     },
     "metadata": {
      "needs_background": "light"
     },
     "output_type": "display_data"
    }
   ],
   "source": [
    "classifiers = {'gnb': naive_bayes.GaussianNB(),\n",
    "              '5-NN': neighbors.KNeighborsClassifier(n_neighbors=5)}\n",
    "\n",
    "iris = datasets.load_iris()\n",
    "\n",
    "fig, ax = plt.subplots(figsize=(6,4))\n",
    "for name, model in classifiers.items():\n",
    "    cv_scores = skms.cross_val_score(model,\n",
    "                                    iris.data,iris.target,\n",
    "                                    cv=10,\n",
    "                                    scoring='accuracy',\n",
    "                                    n_jobs=-1) # use all cores\n",
    "    my_lbl = \"{}  {:.3f}\".format(name, cv_scores.mean())\n",
    "    ax.plot(cv_scores, '-o', label=my_lbl)\n",
    "ax.set_ylim(0.0, 1.1)\n",
    "ax.set_xlabel('Fold')\n",
    "ax.set_ylabel('Accuracy')\n",
    "ax.legend(ncol=2);"
   ]
  },
  {
   "cell_type": "code",
   "execution_count": null,
   "id": "ca5450ac",
   "metadata": {},
   "outputs": [],
   "source": []
  }
 ],
 "metadata": {
  "kernelspec": {
   "display_name": "Python 3 (ipykernel)",
   "language": "python",
   "name": "python3"
  },
  "language_info": {
   "codemirror_mode": {
    "name": "ipython",
    "version": 3
   },
   "file_extension": ".py",
   "mimetype": "text/x-python",
   "name": "python",
   "nbconvert_exporter": "python",
   "pygments_lexer": "ipython3",
   "version": "3.9.7"
  }
 },
 "nbformat": 4,
 "nbformat_minor": 5
}
